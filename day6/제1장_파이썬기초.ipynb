{
 "cells": [
  {
   "cell_type": "code",
   "execution_count": 4,
   "metadata": {},
   "outputs": [
    {
     "data": {
      "text/plain": [
       "1"
      ]
     },
     "execution_count": 4,
     "metadata": {},
     "output_type": "execute_result"
    }
   ],
   "source": [
    "1"
   ]
  },
  {
   "cell_type": "code",
   "execution_count": 2,
   "metadata": {},
   "outputs": [
    {
     "data": {
      "text/plain": [
       "3"
      ]
     },
     "execution_count": 2,
     "metadata": {},
     "output_type": "execute_result"
    }
   ],
   "source": [
    "1+2"
   ]
  },
  {
   "cell_type": "markdown",
   "metadata": {},
   "source": [
    "#### 텍스트 편집\n",
    "\n",
    "- ctrl + enter : 현재 셀을 실행하고 현재 셀에 그래도 있음\n",
    "- shift + enter : 현재 셀을 실행하고 다음 셀로 이동\n",
    "- alt + enter : 현재 셀을 실행하고 다음에 셀을 새로 생성"
   ]
  },
  {
   "cell_type": "markdown",
   "metadata": {},
   "source": [
    "#### Command mode\n",
    "- esc : command mode  전환\n",
    "- a : 위쪽에 cell 추가\n",
    "- b : 아래쪽에 cell 추가\n",
    "- m : code창을 text 창으로 전환\n",
    "- y : text 창을 code 창으로 전환\n",
    "- dd : 현재 셀을 삭제\n",
    "\n",
    "주석\n",
    "-  &#35; 다음에 주석 작성"
   ]
  },
  {
   "cell_type": "code",
   "execution_count": 5,
   "metadata": {},
   "outputs": [
    {
     "data": {
      "text/plain": [
       "5"
      ]
     },
     "execution_count": 5,
     "metadata": {},
     "output_type": "execute_result"
    }
   ],
   "source": [
    "1+4 # 주석"
   ]
  },
  {
   "cell_type": "markdown",
   "metadata": {},
   "source": [
    "# 변수\n",
    "- 필요할 때 마다 값을 가져다 쓸 수 있도록 값을 저장해 놓는 공간"
   ]
  },
  {
   "cell_type": "code",
   "execution_count": 12,
   "metadata": {},
   "outputs": [],
   "source": [
    "a = 100"
   ]
  },
  {
   "cell_type": "code",
   "execution_count": 13,
   "metadata": {},
   "outputs": [
    {
     "data": {
      "text/plain": [
       "100"
      ]
     },
     "execution_count": 13,
     "metadata": {},
     "output_type": "execute_result"
    }
   ],
   "source": [
    "a"
   ]
  },
  {
   "cell_type": "code",
   "execution_count": 14,
   "metadata": {},
   "outputs": [
    {
     "data": {
      "text/plain": [
       "120"
      ]
     },
     "execution_count": 14,
     "metadata": {},
     "output_type": "execute_result"
    }
   ],
   "source": [
    "a + 20"
   ]
  },
  {
   "cell_type": "markdown",
   "metadata": {},
   "source": [
    "## 변수에는 정수, 실수, 문자, 논리 등을 저장할 수 있다"
   ]
  },
  {
   "cell_type": "code",
   "execution_count": 15,
   "metadata": {},
   "outputs": [],
   "source": [
    "c= 3.40\n",
    "d = \"Python\"\n",
    "e = True"
   ]
  },
  {
   "cell_type": "code",
   "execution_count": 16,
   "metadata": {},
   "outputs": [
    {
     "data": {
      "text/plain": [
       "3.4"
      ]
     },
     "execution_count": 16,
     "metadata": {},
     "output_type": "execute_result"
    }
   ],
   "source": [
    "c"
   ]
  },
  {
   "cell_type": "code",
   "execution_count": 17,
   "metadata": {},
   "outputs": [
    {
     "data": {
      "text/plain": [
       "'Python'"
      ]
     },
     "execution_count": 17,
     "metadata": {},
     "output_type": "execute_result"
    }
   ],
   "source": [
    "d"
   ]
  },
  {
   "cell_type": "code",
   "execution_count": 18,
   "metadata": {},
   "outputs": [
    {
     "data": {
      "text/plain": [
       "True"
      ]
     },
     "execution_count": 18,
     "metadata": {},
     "output_type": "execute_result"
    }
   ],
   "source": [
    "e"
   ]
  },
  {
   "cell_type": "markdown",
   "metadata": {},
   "source": [
    "## name 변수에 이름. iq라는 변수에 아이큐를 저장해보세요"
   ]
  },
  {
   "cell_type": "code",
   "execution_count": 20,
   "metadata": {},
   "outputs": [],
   "source": [
    "name = \"Taehoon\"\n",
    "iq = 999"
   ]
  },
  {
   "cell_type": "code",
   "execution_count": 21,
   "metadata": {},
   "outputs": [
    {
     "data": {
      "text/plain": [
       "'Taehoon'"
      ]
     },
     "execution_count": 21,
     "metadata": {},
     "output_type": "execute_result"
    }
   ],
   "source": [
    "name"
   ]
  },
  {
   "cell_type": "code",
   "execution_count": 22,
   "metadata": {},
   "outputs": [
    {
     "data": {
      "text/plain": [
       "999"
      ]
     },
     "execution_count": 22,
     "metadata": {},
     "output_type": "execute_result"
    }
   ],
   "source": [
    "iq"
   ]
  },
  {
   "cell_type": "markdown",
   "metadata": {},
   "source": [
    "# print( 출력하고싶은값)"
   ]
  },
  {
   "cell_type": "code",
   "execution_count": 23,
   "metadata": {},
   "outputs": [
    {
     "name": "stdout",
     "output_type": "stream",
     "text": [
      "100\n"
     ]
    }
   ],
   "source": [
    "print(100)"
   ]
  },
  {
   "cell_type": "code",
   "execution_count": 24,
   "metadata": {},
   "outputs": [
    {
     "name": "stdout",
     "output_type": "stream",
     "text": [
      "홍길동\n"
     ]
    }
   ],
   "source": [
    "print(\"홍길동\")"
   ]
  },
  {
   "cell_type": "code",
   "execution_count": 25,
   "metadata": {},
   "outputs": [
    {
     "name": "stdout",
     "output_type": "stream",
     "text": [
      "100\n"
     ]
    }
   ],
   "source": [
    "print(a)"
   ]
  },
  {
   "cell_type": "code",
   "execution_count": 27,
   "metadata": {},
   "outputs": [
    {
     "name": "stdout",
     "output_type": "stream",
     "text": [
      "120\n"
     ]
    }
   ],
   "source": [
    "print(a+20)"
   ]
  },
  {
   "cell_type": "code",
   "execution_count": 28,
   "metadata": {},
   "outputs": [
    {
     "name": "stdout",
     "output_type": "stream",
     "text": [
      "100 홍길동\n"
     ]
    }
   ],
   "source": [
    "# 여러 값을 출력한다면 컴머(,)로 구분\n",
    "print(100,\"홍길동\")"
   ]
  },
  {
   "cell_type": "code",
   "execution_count": 29,
   "metadata": {},
   "outputs": [
    {
     "name": "stdout",
     "output_type": "stream",
     "text": [
      "100 3.4\n"
     ]
    }
   ],
   "source": [
    "print(a, c)"
   ]
  },
  {
   "cell_type": "markdown",
   "metadata": {},
   "source": [
    "# name에 \"홍길동\"을 저장하고 age에 20 저장한 후에 \"홍길동 : 20\"과 같이 출력"
   ]
  },
  {
   "cell_type": "code",
   "execution_count": 33,
   "metadata": {},
   "outputs": [
    {
     "name": "stdout",
     "output_type": "stream",
     "text": [
      "홍길동 : 20\n"
     ]
    }
   ],
   "source": [
    "name = \"홍길동\"\n",
    "age = 20\n",
    "print(name,\":\", age)"
   ]
  },
  {
   "cell_type": "code",
   "execution_count": 34,
   "metadata": {},
   "outputs": [
    {
     "data": {
      "text/plain": [
       "3.4"
      ]
     },
     "execution_count": 34,
     "metadata": {},
     "output_type": "execute_result"
    }
   ],
   "source": [
    "a\n",
    "c # a 출력 안됌"
   ]
  },
  {
   "cell_type": "code",
   "execution_count": 35,
   "metadata": {},
   "outputs": [
    {
     "data": {
      "text/plain": [
       "(100, 3.4)"
      ]
     },
     "execution_count": 35,
     "metadata": {},
     "output_type": "execute_result"
    }
   ],
   "source": [
    "(a,c)"
   ]
  },
  {
   "cell_type": "code",
   "execution_count": 36,
   "metadata": {},
   "outputs": [
    {
     "name": "stdout",
     "output_type": "stream",
     "text": [
      "100\n",
      "3.4\n"
     ]
    }
   ],
   "source": [
    "print(a)\n",
    "print(c)"
   ]
  },
  {
   "cell_type": "code",
   "execution_count": 38,
   "metadata": {},
   "outputs": [
    {
     "data": {
      "text/plain": [
       "(3.1425, 1.25, 3.0)"
      ]
     },
     "execution_count": 38,
     "metadata": {},
     "output_type": "execute_result"
    }
   ],
   "source": [
    "num3 = 3.1425\n",
    "num4 = 1.25\n",
    "num5 = 3.0\n",
    "\n",
    "num3, num4, num5"
   ]
  },
  {
   "cell_type": "markdown",
   "metadata": {},
   "source": [
    "문자 \"Hello World\"를 쌍따옴표를 써서 str1 변수에 외따움표를 써서 str2에 저장하고 출력"
   ]
  },
  {
   "cell_type": "code",
   "execution_count": 40,
   "metadata": {},
   "outputs": [
    {
     "name": "stdout",
     "output_type": "stream",
     "text": [
      "Hello World\n",
      "Hello World\n"
     ]
    }
   ],
   "source": [
    "str1 = \"Hello World\"\n",
    "str2 = 'Hello World'\n",
    "\n",
    "print(str1)\n",
    "print(str2)"
   ]
  },
  {
   "cell_type": "markdown",
   "metadata": {},
   "source": [
    "### 변수명 작성 규칙\n",
    "- 변수명은 영문자, 숫자, _만을 사용할 수 있다.\n",
    "- 영문자는 대소문자를 구별한다.\n",
    "- 첫번째 문자로 숫자가 올 수 없다.\n",
    "- 특수문자는 쓸 수 없다.\n",
    "- 명령어를 변수명으로 사용할 수 없다"
   ]
  },
  {
   "cell_type": "markdown",
   "metadata": {},
   "source": [
    "### 변수명 작성 시 권장사항\n",
    "- 변수명은 가능한 의미를 알 수 있도록 작성한다\n",
    "- 두 개 단어 이상으로 구성된 변수명은 _나 두번째 단어의 첫 단어를 대문자를 사용하여 구분\n",
    "- 한 단어로 구성된 변수명은 가능한 소문자로 사용한다"
   ]
  },
  {
   "cell_type": "code",
   "execution_count": 46,
   "metadata": {},
   "outputs": [
    {
     "data": {
      "text/plain": [
       "(1, 2, 3)"
      ]
     },
     "execution_count": 46,
     "metadata": {},
     "output_type": "execute_result"
    }
   ],
   "source": [
    "# 변수명은 영문자, 숫자, _만을 사용할 수 있다\n",
    "a = 1\n",
    "a2 = 2\n",
    "a_3 = 3\n",
    "\n",
    "a, a2, a_3"
   ]
  },
  {
   "cell_type": "code",
   "execution_count": 47,
   "metadata": {},
   "outputs": [
    {
     "ename": "NameError",
     "evalue": "name 'Num' is not defined",
     "output_type": "error",
     "traceback": [
      "\u001b[1;31m---------------------------------------------------------------------------\u001b[0m",
      "\u001b[1;31mNameError\u001b[0m                                 Traceback (most recent call last)",
      "\u001b[1;32m<ipython-input-47-0f2e6e65c97b>\u001b[0m in \u001b[0;36m<module>\u001b[1;34m\u001b[0m\n\u001b[0;32m      3\u001b[0m \u001b[0mnum\u001b[0m \u001b[1;33m=\u001b[0m \u001b[1;36m10\u001b[0m\u001b[1;33m\u001b[0m\u001b[1;33m\u001b[0m\u001b[0m\n\u001b[0;32m      4\u001b[0m \u001b[1;33m\u001b[0m\u001b[0m\n\u001b[1;32m----> 5\u001b[1;33m \u001b[0mNum\u001b[0m\u001b[1;33m\u001b[0m\u001b[1;33m\u001b[0m\u001b[0m\n\u001b[0m",
      "\u001b[1;31mNameError\u001b[0m: name 'Num' is not defined"
     ]
    }
   ],
   "source": [
    "# 영문자는 대소문자를 구별한다.\n",
    "\n",
    "num = 10\n",
    "\n",
    "Num"
   ]
  },
  {
   "cell_type": "code",
   "execution_count": 48,
   "metadata": {},
   "outputs": [
    {
     "ename": "SyntaxError",
     "evalue": "invalid syntax (<ipython-input-48-332ef46bdd46>, line 2)",
     "output_type": "error",
     "traceback": [
      "\u001b[1;36m  File \u001b[1;32m\"<ipython-input-48-332ef46bdd46>\"\u001b[1;36m, line \u001b[1;32m2\u001b[0m\n\u001b[1;33m    1a = 10\u001b[0m\n\u001b[1;37m     ^\u001b[0m\n\u001b[1;31mSyntaxError\u001b[0m\u001b[1;31m:\u001b[0m invalid syntax\n"
     ]
    }
   ],
   "source": [
    "# 첫번째 문자로 숫자가 올 수 없다.\n",
    "1a = 10"
   ]
  },
  {
   "cell_type": "code",
   "execution_count": 49,
   "metadata": {},
   "outputs": [
    {
     "ename": "SyntaxError",
     "evalue": "invalid syntax (<ipython-input-49-de8e51a04fdb>, line 2)",
     "output_type": "error",
     "traceback": [
      "\u001b[1;36m  File \u001b[1;32m\"<ipython-input-49-de8e51a04fdb>\"\u001b[1;36m, line \u001b[1;32m2\u001b[0m\n\u001b[1;33m    $a = 10\u001b[0m\n\u001b[1;37m    ^\u001b[0m\n\u001b[1;31mSyntaxError\u001b[0m\u001b[1;31m:\u001b[0m invalid syntax\n"
     ]
    }
   ],
   "source": [
    "# 특수문자는 쓸 수 없다.\n",
    "$a = 10"
   ]
  },
  {
   "cell_type": "code",
   "execution_count": 50,
   "metadata": {},
   "outputs": [],
   "source": [
    "# 명령어를 변수명으로 사용할 수 없다\n",
    "# print = 10\n",
    "# print\n",
    "# print(10) # 원래 print 함수 호출 불가"
   ]
  },
  {
   "cell_type": "code",
   "execution_count": 51,
   "metadata": {},
   "outputs": [],
   "source": [
    "# 변수명은 가능한 의미를 알 수 있도록 작성한다\n",
    "age = 30"
   ]
  },
  {
   "cell_type": "code",
   "execution_count": 53,
   "metadata": {},
   "outputs": [],
   "source": [
    "# 두 개 단어 이상으로 구성된 변수명은 _나 두번째 단어의 첫 단어를 대문자를 사용하여 구분\n",
    "chapter_num = 3\n",
    "chapterNum = 2"
   ]
  },
  {
   "cell_type": "code",
   "execution_count": 52,
   "metadata": {},
   "outputs": [],
   "source": [
    "# 한 단어로 구성된 변수명은 가능한 소문자로 사용한다\n",
    "Num = 10 # 클래스 착각 가능"
   ]
  },
  {
   "cell_type": "markdown",
   "metadata": {},
   "source": [
    "파이썬의 특별한 값 대입방법"
   ]
  },
  {
   "cell_type": "code",
   "execution_count": 54,
   "metadata": {},
   "outputs": [
    {
     "data": {
      "text/plain": [
       "(20, 49)"
      ]
     },
     "execution_count": 54,
     "metadata": {},
     "output_type": "execute_result"
    }
   ],
   "source": [
    "c, d = 20 , 49\n",
    "c, d"
   ]
  },
  {
   "cell_type": "code",
   "execution_count": 55,
   "metadata": {},
   "outputs": [
    {
     "data": {
      "text/plain": [
       "('홍길동', '의적')"
      ]
     },
     "execution_count": 55,
     "metadata": {},
     "output_type": "execute_result"
    }
   ],
   "source": [
    "str1, str2 = \"홍길동\" , \"의적\"\n",
    "str1, str2"
   ]
  },
  {
   "cell_type": "markdown",
   "metadata": {},
   "source": [
    "- 변수 x에 10을 저장 변수 y에 20을 저장\n",
    "- 변수 sum에 x와 y의 합을 저장\n",
    "- print() 함수로 sum을 출력"
   ]
  },
  {
   "cell_type": "code",
   "execution_count": 59,
   "metadata": {},
   "outputs": [
    {
     "name": "stdout",
     "output_type": "stream",
     "text": [
      "sum = 30\n"
     ]
    }
   ],
   "source": [
    "x, y = 10, 20\n",
    "sum =  x+y\n",
    "print(\"sum =\",sum)"
   ]
  },
  {
   "cell_type": "markdown",
   "metadata": {},
   "source": [
    "she's gone"
   ]
  },
  {
   "cell_type": "code",
   "execution_count": 64,
   "metadata": {},
   "outputs": [
    {
     "name": "stdout",
     "output_type": "stream",
     "text": [
      "she's gone\n",
      "he said \"Ha\"\n"
     ]
    }
   ],
   "source": [
    "# 문자 내부에 외따옴표나 쌍따옴표가 있는 경우\n",
    "# 같은 따옴표로 묶어주면 안됨\n",
    "\n",
    "print(\"she's gone\")\n",
    "print('he said \"Ha\"')"
   ]
  },
  {
   "cell_type": "code",
   "execution_count": 80,
   "metadata": {},
   "outputs": [
    {
     "name": "stdout",
     "output_type": "stream",
     "text": [
      "She's said \"Hoho\"\n"
     ]
    }
   ],
   "source": [
    "# 둘 다 있으면 \n",
    "str3 = \"She\\'s said \\\"Hoho\\\"\"\n",
    "print(str3)"
   ]
  },
  {
   "cell_type": "code",
   "execution_count": 81,
   "metadata": {},
   "outputs": [
    {
     "name": "stdout",
     "output_type": "stream",
     "text": [
      "안녕하세요\n",
      "반갑습니다\n"
     ]
    }
   ],
   "source": [
    "# 줄 넘김 문자\n",
    "str6 = \"안녕하세요\\n반갑습니다\"\n",
    "\n",
    "print(str6)"
   ]
  },
  {
   "cell_type": "code",
   "execution_count": 9,
   "metadata": {},
   "outputs": [
    {
     "name": "stdout",
     "output_type": "stream",
     "text": [
      "이름 : 홍길동 \n",
      "나이 :  30 \n",
      "직업 : 의적\n"
     ]
    }
   ],
   "source": [
    "name = \"홍길동\"\n",
    "age = 30\n",
    "job = \"의적\"\n",
    "\n",
    "print(\"이름 :\", name,\"\\n나이 : \", age, \"\\n직업 :\", job)"
   ]
  },
  {
   "cell_type": "code",
   "execution_count": 10,
   "metadata": {},
   "outputs": [
    {
     "name": "stdout",
     "output_type": "stream",
     "text": [
      "홍길동\t 20\n",
      "홍길\t 20\n",
      "홍\t 20\n"
     ]
    }
   ],
   "source": [
    "# \\t : 탭 띄우기\n",
    "print(\"홍길동\\t\", \"20\")\n",
    "print(\"홍길\\t\", \"20\")\n",
    "print(\"홍\\t\", \"20\")"
   ]
  },
  {
   "cell_type": "code",
   "execution_count": 11,
   "metadata": {},
   "outputs": [
    {
     "name": "stdout",
     "output_type": "stream",
     "text": [
      "이름\t 나이\t 직업\n",
      "=====================\n",
      "홍길동 \t 30 \t 의적\n"
     ]
    }
   ],
   "source": [
    "print(\"이름\\t\",\"나이\\t\",\"직업\")\n",
    "print(\"=====================\")\n",
    "print(name,\"\\t\",age,\"\\t\",job)"
   ]
  },
  {
   "cell_type": "markdown",
   "metadata": {},
   "source": [
    "변수에 여러 줄의 문자열을 저장하는 방법2\n",
    "- '''내용''' or \"\"\"내용\"\"\""
   ]
  },
  {
   "cell_type": "code",
   "execution_count": 95,
   "metadata": {},
   "outputs": [
    {
     "name": "stdout",
     "output_type": "stream",
     "text": [
      "안녕하세요\n",
      "파이썬 수업중\n"
     ]
    }
   ],
   "source": [
    "str5 = '''안녕하세요\n",
    "파이썬 수업중'''\n",
    "\n",
    "print(str5)"
   ]
  },
  {
   "cell_type": "code",
   "execution_count": 97,
   "metadata": {},
   "outputs": [
    {
     "name": "stdout",
     "output_type": "stream",
     "text": [
      "안녕하세요\n",
      "파이썬\n"
     ]
    }
   ],
   "source": [
    "str6 = \"\"\"안녕하세요\n",
    "파이썬\"\"\"\n",
    "\n",
    "print(str6)"
   ]
  },
  {
   "cell_type": "markdown",
   "metadata": {},
   "source": [
    "#### indexing and slicing\n",
    "\n",
    "- indexing : 해당 인덱스 (번호, 메모리주소)의 값을 가져온 것\n",
    "- slicing :  해당 시작 인덱스와 끝 인덱스 사이의 값을 가져 오는 것"
   ]
  },
  {
   "cell_type": "code",
   "execution_count": 99,
   "metadata": {},
   "outputs": [],
   "source": [
    "#      01234567890123456789012345   (양)\n",
    "str = \"Python is easy and simple.\"\n",
    "#      65432109876543210987654321 (마이너스)"
   ]
  },
  {
   "cell_type": "code",
   "execution_count": 102,
   "metadata": {},
   "outputs": [
    {
     "name": "stdout",
     "output_type": "stream",
     "text": [
      "d\n",
      "d\n"
     ]
    }
   ],
   "source": [
    "# 인덱스 값은 대괄호를 사용하여 설정\n",
    "print(str[17])\n",
    "print(str[-9])"
   ]
  },
  {
   "cell_type": "code",
   "execution_count": 104,
   "metadata": {},
   "outputs": [
    {
     "name": "stdout",
     "output_type": "stream",
     "text": [
      "is\n",
      "and\n"
     ]
    }
   ],
   "source": [
    "# slicing [시작 인덱스: 끝 인덱스 + 1]\n",
    "print(str[7:9])\n",
    "print(str[15:18])"
   ]
  },
  {
   "cell_type": "markdown",
   "metadata": {},
   "source": [
    "생략된 indexing"
   ]
  },
  {
   "cell_type": "code",
   "execution_count": 106,
   "metadata": {},
   "outputs": [
    {
     "name": "stdout",
     "output_type": "stream",
     "text": [
      "Python\n",
      "Python\n"
     ]
    }
   ],
   "source": [
    "#(1) 시작 인덱스를 생략하면 0 인덱스부터 시작\n",
    "print(str[0:6])\n",
    "print(str[:6])"
   ]
  },
  {
   "cell_type": "code",
   "execution_count": 115,
   "metadata": {},
   "outputs": [
    {
     "name": "stdout",
     "output_type": "stream",
     "text": [
      "simple.\n",
      "simple.\n",
      "simple.\n"
     ]
    }
   ],
   "source": [
    "# 끝 인덱스 생략하면 끝까지 가져옴\n",
    "print(str[19:26])\n",
    "print(str[19:])\n",
    "print(str[-7:0]) #0이란 idx 존재 x\n",
    "print(str[-7:])"
   ]
  },
  {
   "cell_type": "code",
   "execution_count": 118,
   "metadata": {},
   "outputs": [
    {
     "name": "stdout",
     "output_type": "stream",
     "text": [
      "Python is easy and simple.\n"
     ]
    }
   ],
   "source": [
    "# 시작과 끝 생략 => 전체값\n",
    "print(str[:])"
   ]
  },
  {
   "cell_type": "code",
   "execution_count": 123,
   "metadata": {},
   "outputs": [
    {
     "name": "stdout",
     "output_type": "stream",
     "text": [
      "년도 : 2020 년\n",
      "월일 : 07 월 06 일\n",
      "날씨 : Sunny\n"
     ]
    }
   ],
   "source": [
    "str_info = \"20200706Sunny\"\n",
    "print(\"년도 :\",str_info[:4],\"년\")\n",
    "print(\"월일 :\",str_info[4:6],\"월\",str_info[6:8],\"일\")\n",
    "print(\"날씨 :\",str_info[8:])"
   ]
  },
  {
   "cell_type": "markdown",
   "metadata": {},
   "source": [
    "### 문자열 포맷팅 (Formatting)"
   ]
  },
  {
   "cell_type": "code",
   "execution_count": 126,
   "metadata": {},
   "outputs": [],
   "source": [
    "s = \"오늘은 12월 30일입니다\""
   ]
  },
  {
   "cell_type": "code",
   "execution_count": 127,
   "metadata": {},
   "outputs": [
    {
     "data": {
      "text/plain": [
       "'오늘은 12월 31일 입니다'"
      ]
     },
     "execution_count": 127,
     "metadata": {},
     "output_type": "execute_result"
    }
   ],
   "source": [
    "# 방법 1\n",
    "# 오늘은 12월 31일 입니다 라고 출력하려면\n",
    "\n",
    "day = 31\n",
    "\n",
    "# %d: 정수형\n",
    "# %f: 실수형\n",
    "# %c: 문자 1개\n",
    "# %s : 문자열\n",
    "\n",
    "s = \"오늘은 12월 %d일 입니다\"%day\n",
    "s"
   ]
  },
  {
   "cell_type": "code",
   "execution_count": 130,
   "metadata": {},
   "outputs": [
    {
     "data": {
      "text/plain": [
       "'오늘은 1월 1일 입니다'"
      ]
     },
     "execution_count": 130,
     "metadata": {},
     "output_type": "execute_result"
    }
   ],
   "source": [
    "# 오늘은 1월 1일 입니다\n",
    "\n",
    "month = 1\n",
    "day = 1\n",
    "\n",
    "s = \"오늘은 %d월 %d일 입니다\"%(month,day)\n",
    "s"
   ]
  },
  {
   "cell_type": "code",
   "execution_count": 134,
   "metadata": {},
   "outputs": [
    {
     "name": "stdout",
     "output_type": "stream",
     "text": [
      "1월 1일 날씨는 맑음이고 온도는 12.3도입니다\n"
     ]
    }
   ],
   "source": [
    "month = 1\n",
    "day = 1\n",
    "weather = \"맑음\"\n",
    "temp = 12.3\n",
    "\n",
    "s = \"%d월 %d일 날씨는 %s이고 온도는 %.1f도입니다\"%(month,day,weather,temp)\n",
    "\n",
    "print(s)"
   ]
  },
  {
   "cell_type": "code",
   "execution_count": 135,
   "metadata": {},
   "outputs": [
    {
     "name": "stdout",
     "output_type": "stream",
     "text": [
      "1월 1일 날씨는 맑음이고 온도는 12.3도입니다\n"
     ]
    }
   ],
   "source": [
    "month = 1\n",
    "day = 1\n",
    "weather = \"맑음\"\n",
    "temp = 12.3\n",
    "\n",
    "s = \"{}월 {}일 날씨는 {}이고 온도는 {}도입니다\".format(month,day,weather,temp)\n",
    "\n",
    "print(s)"
   ]
  },
  {
   "cell_type": "markdown",
   "metadata": {},
   "source": [
    "복습 문제"
   ]
  },
  {
   "cell_type": "code",
   "execution_count": 36,
   "metadata": {},
   "outputs": [
    {
     "name": "stdout",
     "output_type": "stream",
     "text": [
      "캐릭터 정보\n",
      "========================================\n",
      "항목\t\t 캐릭터1\t 캐릭터2\n",
      "----------------------------------------\n",
      "이름\t\t 홍길동\t\t 캔디\n",
      "레벨\t\t 50\t\t 49\n",
      "경험치\t\t 25.8%\t\t 87.2%\n",
      "직업\t\t 도적\t\t 마법사\n",
      "----------------------------------------\n",
      "\n",
      "캐릭터 레벨의 합은 99입니다.\n"
     ]
    }
   ],
   "source": [
    "# 28 31\n",
    "str1 = \"'홍길동' 캐릭터의 레벨은 50이며 현재 경험치는 25.8입니다. 직업은 도적입니다.\"\n",
    "str2 = \"'캔디' 캐릭터의 레벨은 49이며 현재 경험치는 87.2입니다. 직업은 마법사입니다.\"\n",
    "\n",
    "print(\"캐릭터 정보\")\n",
    "print(\"========================================\")\n",
    "print(\"항목\\t\\t\",\"캐릭터1\\t\",\"캐릭터2\")\n",
    "print(\"----------------------------------------\")\n",
    "print(\"이름\\t\\t {}\\t\\t {}\".format(str1[1:4],str2[1:3]))\n",
    "print(\"레벨\\t\\t {}\\t\\t {}\".format(str1[15:17],str2[14:16]))\n",
    "print(\"경험치\\t\\t {}%\\t\\t {}%\".format(str1[28:32],str2[27:31]))\n",
    "print(\"직업\\t\\t {}\\t\\t {}\".format(str1[-6:-4],str2[-7:-4]))\n",
    "print(\"----------------------------------------\\n\")\n",
    "a = str1[15:17]\n",
    "b = str2[14:16]\n",
    "sum = int(a)+int(b)\n",
    "print(\"캐릭터 레벨의 합은 {}입니다.\".format(sum))"
   ]
  },
  {
   "cell_type": "markdown",
   "metadata": {},
   "source": [
    "### 문자열 함수"
   ]
  },
  {
   "cell_type": "code",
   "execution_count": 45,
   "metadata": {},
   "outputs": [],
   "source": [
    "str1 = \"Python is easy and simple\"\n",
    "str2 = \"Python은 쉽고 단순한 언어입니다.\""
   ]
  },
  {
   "cell_type": "code",
   "execution_count": 44,
   "metadata": {},
   "outputs": [
    {
     "name": "stdout",
     "output_type": "stream",
     "text": [
      "25\n",
      "21\n"
     ]
    }
   ],
   "source": [
    "print(len(str1))\n",
    "print(len(str2))"
   ]
  },
  {
   "cell_type": "code",
   "execution_count": 48,
   "metadata": {},
   "outputs": [
    {
     "name": "stdout",
     "output_type": "stream",
     "text": [
      "str1에 포함된 i의 개수 :  2\n",
      "str2에 포함된 은의 개수 :  1\n"
     ]
    }
   ],
   "source": [
    "print(\"str1에 포함된 i의 개수 : \", str1.count(\"i\"))\n",
    "print(\"str2에 포함된 은의 개수 : \", str2.count(\"은\"))"
   ]
  },
  {
   "cell_type": "code",
   "execution_count": 51,
   "metadata": {},
   "outputs": [
    {
     "name": "stdout",
     "output_type": "stream",
     "text": [
      "str1에서 e의 위치 :  10\n",
      "str1에서 e의 위치 :  10\n",
      "str2에서 고의 위치 :  9\n",
      "str2에서 고의 위치 :  13\n"
     ]
    }
   ],
   "source": [
    "print(\"str1에서 e의 위치 : \", str1.index(\"e\"))\n",
    "print(\"str1에서 e의 위치 : \", str1.find(\"e\"))\n",
    "print(\"str2에서 고의 위치 : \", str2.index(\"고\"))\n",
    "print(\"str2에서 한의 위치 : \", str2.find(\"한\"))"
   ]
  },
  {
   "cell_type": "code",
   "execution_count": 53,
   "metadata": {},
   "outputs": [
    {
     "ename": "ValueError",
     "evalue": "substring not found",
     "output_type": "error",
     "traceback": [
      "\u001b[1;31m---------------------------------------------------------------------------\u001b[0m",
      "\u001b[1;31mValueError\u001b[0m                                Traceback (most recent call last)",
      "\u001b[1;32m<ipython-input-53-10edaa546c0a>\u001b[0m in \u001b[0;36m<module>\u001b[1;34m\u001b[0m\n\u001b[1;32m----> 1\u001b[1;33m \u001b[0mprint\u001b[0m\u001b[1;33m(\u001b[0m\u001b[1;34m\"str1에서 k의 위치 : \"\u001b[0m\u001b[1;33m,\u001b[0m \u001b[0mstr1\u001b[0m\u001b[1;33m.\u001b[0m\u001b[0mindex\u001b[0m\u001b[1;33m(\u001b[0m\u001b[1;34m\"k\"\u001b[0m\u001b[1;33m)\u001b[0m\u001b[1;33m)\u001b[0m\u001b[1;33m\u001b[0m\u001b[1;33m\u001b[0m\u001b[0m\n\u001b[0m",
      "\u001b[1;31mValueError\u001b[0m: substring not found"
     ]
    }
   ],
   "source": [
    "# 없는 문제 에러\n",
    "print(\"str1에서 k의 위치 : \", str1.index(\"k\"))"
   ]
  },
  {
   "cell_type": "code",
   "execution_count": 52,
   "metadata": {},
   "outputs": [
    {
     "name": "stdout",
     "output_type": "stream",
     "text": [
      "str1에서 k의 위치 :  -1\n"
     ]
    }
   ],
   "source": [
    "# 없는 문자 -1\n",
    "print(\"str1에서 k의 위치 : \", str1.find(\"k\"))"
   ]
  },
  {
   "cell_type": "code",
   "execution_count": 54,
   "metadata": {},
   "outputs": [
    {
     "ename": "ValueError",
     "evalue": "substring not found",
     "output_type": "error",
     "traceback": [
      "\u001b[1;31m---------------------------------------------------------------------------\u001b[0m",
      "\u001b[1;31mValueError\u001b[0m                                Traceback (most recent call last)",
      "\u001b[1;32m<ipython-input-54-6cf7565945ed>\u001b[0m in \u001b[0;36m<module>\u001b[1;34m\u001b[0m\n\u001b[1;32m----> 1\u001b[1;33m \u001b[0mprint\u001b[0m\u001b[1;33m(\u001b[0m\u001b[1;34m\"str2에서 고의 위치 : \"\u001b[0m\u001b[1;33m,\u001b[0m \u001b[0mstr2\u001b[0m\u001b[1;33m.\u001b[0m\u001b[0mindex\u001b[0m\u001b[1;33m(\u001b[0m\u001b[1;34m\"코\"\u001b[0m\u001b[1;33m)\u001b[0m\u001b[1;33m)\u001b[0m\u001b[1;33m\u001b[0m\u001b[1;33m\u001b[0m\u001b[0m\n\u001b[0m",
      "\u001b[1;31mValueError\u001b[0m: substring not found"
     ]
    }
   ],
   "source": [
    "print(\"str2에서 고의 위치 : \", str2.index(\"코\"))"
   ]
  },
  {
   "cell_type": "code",
   "execution_count": 55,
   "metadata": {},
   "outputs": [
    {
     "name": "stdout",
     "output_type": "stream",
     "text": [
      "str2에서 한의 위치 :  -1\n"
     ]
    }
   ],
   "source": [
    "print(\"str2에서 한의 위치 : \", str2.find(\"훈\"))"
   ]
  },
  {
   "cell_type": "code",
   "execution_count": 62,
   "metadata": {},
   "outputs": [
    {
     "name": "stdout",
     "output_type": "stream",
     "text": [
      "P/y/t/h/o/n\n",
      "언#어#입#니#다#.\n"
     ]
    }
   ],
   "source": [
    "# join 인자 str 사이에 \"ab\" 끼워넣음\n",
    "print(\"/\".join(str1[:6]))\n",
    "print(\"#\".join(str2[-6:]))"
   ]
  },
  {
   "cell_type": "code",
   "execution_count": 64,
   "metadata": {},
   "outputs": [
    {
     "name": "stdout",
     "output_type": "stream",
     "text": [
      "python is easy and simple\n",
      "PYTHON IS EASY AND SIMPLE\n",
      "python은 쉽고 단순한 언어입니다.\n",
      "PYTHON은 쉽고 단순한 언어입니다.\n"
     ]
    }
   ],
   "source": [
    "print(str1.lower())\n",
    "print(str1.upper())\n",
    "\n",
    "print(str2.lower())\n",
    "print(str2.upper())"
   ]
  },
  {
   "cell_type": "code",
   "execution_count": 66,
   "metadata": {},
   "outputs": [
    {
     "name": "stdout",
     "output_type": "stream",
     "text": [
      "Python     \n",
      "   Python\n",
      "Python\n"
     ]
    }
   ],
   "source": [
    "str3 = \"   Python     \"\n",
    "print(str3.lstrip())\n",
    "print(str3.rstrip())\n",
    "print(str3.strip())"
   ]
  },
  {
   "cell_type": "code",
   "execution_count": 70,
   "metadata": {},
   "outputs": [
    {
     "name": "stdout",
     "output_type": "stream",
     "text": [
      "Python_is_easy_and_simple\n",
      "Python은 재미없고 단순한 언어입니다.\n"
     ]
    }
   ],
   "source": [
    "print(str1.replace(\" \",\"_\"))\n",
    "print(str2.replace(\"쉽고\",\"재미없고\"))"
   ]
  },
  {
   "cell_type": "code",
   "execution_count": 75,
   "metadata": {},
   "outputs": [
    {
     "name": "stdout",
     "output_type": "stream",
     "text": [
      "['Python', 'is', 'easy', 'and', 'simple']\n",
      "['Python은 ', ' 단순한 언어입니다.']\n"
     ]
    }
   ],
   "source": [
    "print(str1.split(\" \"))\n",
    "print(str2.split(\"쉽고\"))"
   ]
  }
 ],
 "metadata": {
  "kernelspec": {
   "display_name": "Python 3",
   "language": "python",
   "name": "python3"
  },
  "language_info": {
   "codemirror_mode": {
    "name": "ipython",
    "version": 3
   },
   "file_extension": ".py",
   "mimetype": "text/x-python",
   "name": "python",
   "nbconvert_exporter": "python",
   "pygments_lexer": "ipython3",
   "version": "3.8.5"
  }
 },
 "nbformat": 4,
 "nbformat_minor": 4
}
