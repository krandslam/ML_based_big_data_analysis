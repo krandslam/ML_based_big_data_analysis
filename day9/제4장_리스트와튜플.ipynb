{
 "cells": [
  {
   "cell_type": "markdown",
   "metadata": {},
   "source": [
    "- 리스트(list): 가변공간 (크기,값)\n",
    "- 대괄호를 사용하여 값들을 저장\n",
    "- 투플 (tuple) 불가변\n",
    "- 괄호를 사용하여 값들을 저장"
   ]
  },
  {
   "cell_type": "markdown",
   "metadata": {},
   "source": [
    "### 리스트 []\n",
    "- 리스트에 리스트 저장 가능\n",
    "- 숫자, 문자 저장\n",
    "- 접근 indexing, slicing"
   ]
  },
  {
   "cell_type": "code",
   "execution_count": 1,
   "metadata": {},
   "outputs": [],
   "source": [
    "list1 = []\n",
    "list2 = [0,1,2,3,4]\n",
    "list3 = [\"Python\",\"C\",\"Java\",\"C++\"]\n",
    "list4 = [\"Python\",1,2]\n",
    "list5 = [[\"Python\",\"C\"],1,2]"
   ]
  },
  {
   "cell_type": "code",
   "execution_count": 7,
   "metadata": {},
   "outputs": [
    {
     "name": "stdout",
     "output_type": "stream",
     "text": [
      "2\n",
      "2\n",
      "5\n",
      "Python\n",
      "Python\n"
     ]
    }
   ],
   "source": [
    "print(list2[2])\n",
    "print(list2[-3])\n",
    "\n",
    "print(list2[2]+list2[3])\n",
    "print(list4[0])\n",
    "\n",
    "#2차원\n",
    "print(list5[0][0])"
   ]
  },
  {
   "cell_type": "code",
   "execution_count": 10,
   "metadata": {},
   "outputs": [
    {
     "name": "stdout",
     "output_type": "stream",
     "text": [
      "3\n",
      "c\n",
      "5\n",
      "e\n"
     ]
    }
   ],
   "source": [
    "list5 = [1,2,3,[\"a\",\"b\",\"c\"],4,5,[\"d\",\"e\"]]\n",
    "\n",
    "print(list5[2])\n",
    "print(list5[3][2])\n",
    "print(list5[5])\n",
    "print(list5[6][1])"
   ]
  },
  {
   "cell_type": "code",
   "execution_count": 12,
   "metadata": {},
   "outputs": [
    {
     "name": "stdout",
     "output_type": "stream",
     "text": [
      "[1, 2, 3]\n",
      "[4, 5, 6]\n",
      "[6, 7]\n"
     ]
    }
   ],
   "source": [
    "### 슬라이싱: [시작인덱스:끝인덱스+1]\n",
    "\n",
    "list6 = [1,2,3,4,5,6,7]\n",
    "\n",
    "print(list6[0:3])\n",
    "print(list6[3:6])\n",
    "print(list6[-2:])"
   ]
  },
  {
   "cell_type": "code",
   "execution_count": 13,
   "metadata": {},
   "outputs": [
    {
     "data": {
      "text/plain": [
       "[1, 2, 3, 4, 5, 6, 7]"
      ]
     },
     "execution_count": 13,
     "metadata": {},
     "output_type": "execute_result"
    }
   ],
   "source": [
    "list7 = [1,2,3]\n",
    "list8 = [4,5,6,7]\n",
    "\n",
    "list7+list8"
   ]
  },
  {
   "cell_type": "code",
   "execution_count": 24,
   "metadata": {},
   "outputs": [
    {
     "data": {
      "text/plain": [
       "['gg', ['a', 'b', 'c'], 1, 2, '아아', 5]"
      ]
     },
     "execution_count": 24,
     "metadata": {},
     "output_type": "execute_result"
    }
   ],
   "source": [
    "list9 = [1,2]\n",
    "list9.append(5)\n",
    "\n",
    "list9.insert(2,\"아아\")\n",
    "list9.insert(0,\"gg\")\n",
    "list9.insert(1,[\"a\",\"b\",\"c\"])\n",
    "list9"
   ]
  },
  {
   "cell_type": "code",
   "execution_count": 25,
   "metadata": {},
   "outputs": [
    {
     "data": {
      "text/plain": [
       "['kk', ['a', 'B', 'c'], 1, 2, '아아', 5]"
      ]
     },
     "execution_count": 25,
     "metadata": {},
     "output_type": "execute_result"
    }
   ],
   "source": [
    "list9[0] = \"kk\"\n",
    "list9[1][1] = \"B\"\n",
    "list9"
   ]
  },
  {
   "cell_type": "code",
   "execution_count": 26,
   "metadata": {},
   "outputs": [
    {
     "data": {
      "text/plain": [
       "['kk', ['a', 'B', 'c'], 3, 'zz', '아아', 5]"
      ]
     },
     "execution_count": 26,
     "metadata": {},
     "output_type": "execute_result"
    }
   ],
   "source": [
    "list9[2:4] = [3,\"zz\"]\n",
    "list9"
   ]
  },
  {
   "cell_type": "code",
   "execution_count": 27,
   "metadata": {},
   "outputs": [
    {
     "data": {
      "text/plain": [
       "['kk', ['a', 'B', 'c'], 'dddd', 5]"
      ]
     },
     "execution_count": 27,
     "metadata": {},
     "output_type": "execute_result"
    }
   ],
   "source": [
    "list9[2:5] = [\"dddd\"]\n",
    "list9"
   ]
  },
  {
   "cell_type": "markdown",
   "metadata": {},
   "source": [
    "삭제\n",
    "- del: 해당 idx 삭제\n",
    "- remove: 첫번째 해당 값을 삭제"
   ]
  },
  {
   "cell_type": "code",
   "execution_count": 29,
   "metadata": {},
   "outputs": [
    {
     "data": {
      "text/plain": [
       "['kk', ['a', 'B', 'c']]"
      ]
     },
     "execution_count": 29,
     "metadata": {},
     "output_type": "execute_result"
    }
   ],
   "source": [
    "del list9[2]\n",
    "list9"
   ]
  },
  {
   "cell_type": "code",
   "execution_count": 30,
   "metadata": {},
   "outputs": [],
   "source": [
    "list9.append(10)\n",
    "list9.append(20)\n",
    "list9.append(10)"
   ]
  },
  {
   "cell_type": "code",
   "execution_count": 32,
   "metadata": {},
   "outputs": [],
   "source": [
    "list9\n",
    "list9.remove(10)"
   ]
  },
  {
   "cell_type": "code",
   "execution_count": 33,
   "metadata": {},
   "outputs": [
    {
     "data": {
      "text/plain": [
       "['kk', ['a', 'B', 'c'], 20, 10]"
      ]
     },
     "execution_count": 33,
     "metadata": {},
     "output_type": "execute_result"
    }
   ],
   "source": [
    "list9"
   ]
  },
  {
   "cell_type": "code",
   "execution_count": 34,
   "metadata": {},
   "outputs": [
    {
     "data": {
      "text/plain": [
       "['kk', ['B', 'c'], 20, 10]"
      ]
     },
     "execution_count": 34,
     "metadata": {},
     "output_type": "execute_result"
    }
   ],
   "source": [
    "list9[1].remove(\"a\")\n",
    "\n",
    "list9"
   ]
  },
  {
   "cell_type": "code",
   "execution_count": 35,
   "metadata": {},
   "outputs": [
    {
     "data": {
      "text/plain": [
       "['kk', ['B'], 20, 10]"
      ]
     },
     "execution_count": 35,
     "metadata": {},
     "output_type": "execute_result"
    }
   ],
   "source": [
    "del list9[1][1]\n",
    "\n",
    "list9"
   ]
  },
  {
   "cell_type": "code",
   "execution_count": 36,
   "metadata": {},
   "outputs": [
    {
     "data": {
      "text/plain": [
       "[10, 14, 20, 20, 30, 33]"
      ]
     },
     "execution_count": 36,
     "metadata": {},
     "output_type": "execute_result"
    }
   ],
   "source": [
    "# 오름차순\n",
    "list10 = [20, 10, 30, 14, 20 ,33]\n",
    "\n",
    "list10.sort()\n",
    "list10"
   ]
  },
  {
   "cell_type": "code",
   "execution_count": 37,
   "metadata": {},
   "outputs": [
    {
     "data": {
      "text/plain": [
       "[33, 20, 14, 30, 10, 20]"
      ]
     },
     "execution_count": 37,
     "metadata": {},
     "output_type": "execute_result"
    }
   ],
   "source": [
    "#역\n",
    "list10 = [20, 10, 30, 14, 20 ,33]\n",
    "\n",
    "list10.reverse()\n",
    "list10"
   ]
  },
  {
   "cell_type": "code",
   "execution_count": 38,
   "metadata": {},
   "outputs": [
    {
     "data": {
      "text/plain": [
       "[33, 30, 20, 20, 14, 10]"
      ]
     },
     "execution_count": 38,
     "metadata": {},
     "output_type": "execute_result"
    }
   ],
   "source": [
    "list10 = [20, 10, 30, 14, 20 ,33]\n",
    "list10.sort()\n",
    "list10.reverse()\n",
    "\n",
    "list10"
   ]
  },
  {
   "cell_type": "code",
   "execution_count": 39,
   "metadata": {},
   "outputs": [
    {
     "name": "stdout",
     "output_type": "stream",
     "text": [
      "[1, 2, 5, 5, 6, 7, 8]\n",
      "[8, 7, 6, 5, 5, 2, 1]\n"
     ]
    }
   ],
   "source": [
    "list12 = [5,6,2,1,5,7,8]\n",
    "\n",
    "list12.sort()\n",
    "print(list12)\n",
    "\n",
    "list12.reverse()\n",
    "print(list12)"
   ]
  },
  {
   "cell_type": "code",
   "execution_count": 41,
   "metadata": {},
   "outputs": [
    {
     "data": {
      "text/plain": [
       "5"
      ]
     },
     "execution_count": 41,
     "metadata": {},
     "output_type": "execute_result"
    }
   ],
   "source": [
    "list12 = [5,6,2,1,5,7,8]\n",
    "\n",
    "list12.index(7)"
   ]
  },
  {
   "cell_type": "code",
   "execution_count": 43,
   "metadata": {},
   "outputs": [
    {
     "name": "stdout",
     "output_type": "stream",
     "text": [
      "8\n"
     ]
    },
    {
     "data": {
      "text/plain": [
       "[5, 6, 2, 1, 5, 7]"
      ]
     },
     "execution_count": 43,
     "metadata": {},
     "output_type": "execute_result"
    }
   ],
   "source": [
    "list12 = [5,6,2,1,5,7,8]\n",
    "print(list12.pop())\n",
    "\n",
    "list12"
   ]
  },
  {
   "cell_type": "code",
   "execution_count": 44,
   "metadata": {},
   "outputs": [
    {
     "data": {
      "text/plain": [
       "6"
      ]
     },
     "execution_count": 44,
     "metadata": {},
     "output_type": "execute_result"
    }
   ],
   "source": [
    "len(list12)"
   ]
  },
  {
   "cell_type": "markdown",
   "metadata": {},
   "source": [
    "회원 관리 프로그램\n",
    "\n",
    "메뉴를 출력 (데이터 저장, 검색, 수정, 삭제, 종료)\n",
    "메뉴를 선택\n",
    "만약 저장을 선택했다면 회원 이름을 입력받음\n",
    "입력받은 리스트에 저장하고 리스트 내용을 출력\n",
    "만약 검색을 선택했다면 회원 이름을 입력받음\n",
    "입력받은 회원 이름의 인덱스를 출력\n",
    "만약 수정을 선택했다면 인덱스와 새 회원이름를 입력받음\n",
    "해당 인덱스에 새 회원이름으로 변경하고 리스트 내용을 출력\n",
    "만약 삭제를 선택했다면 인덱스를 입력받음\n",
    "입력받은 인덱스를 삭제하고 리스트 내용을 출력\n",
    "만약 종료를 선택했다면 종료했습니다를 출력"
   ]
  },
  {
   "cell_type": "code",
   "execution_count": 47,
   "metadata": {},
   "outputs": [
    {
     "name": "stdout",
     "output_type": "stream",
     "text": [
      "[1]저장\t[2]검색\t[3]수정\t[4]삭제\t[5]종료\n"
     ]
    }
   ],
   "source": [
    "# 메뉴를 출력 (데이터 저장, 검색, 수정, 삭제, 종료)\n",
    "print(\"[1]저장\\t[2]검색\\t[3]수정\\t[4]삭제\\t[5]종료\")"
   ]
  },
  {
   "cell_type": "code",
   "execution_count": 70,
   "metadata": {
    "scrolled": true
   },
   "outputs": [
    {
     "name": "stdout",
     "output_type": "stream",
     "text": [
      "메뉴를 선택하세요 >> 5\n"
     ]
    }
   ],
   "source": [
    "num = int(input(\"메뉴를 선택하세요 >> \"))"
   ]
  },
  {
   "cell_type": "code",
   "execution_count": 50,
   "metadata": {},
   "outputs": [],
   "source": [
    "nameList = [] # 빈 리스트"
   ]
  },
  {
   "cell_type": "code",
   "execution_count": 55,
   "metadata": {},
   "outputs": [
    {
     "name": "stdout",
     "output_type": "stream",
     "text": [
      "회원이름 입력 >> 권희\n",
      "['홍길동', '김유신', '권하', '권호', '권희']\n"
     ]
    }
   ],
   "source": [
    "if num == 1:\n",
    "    memberName = input(\"회원이름 입력 >> \")\n",
    "    \n",
    "    nameList.append(memberName)\n",
    "    \n",
    "    print(nameList)"
   ]
  },
  {
   "cell_type": "code",
   "execution_count": 57,
   "metadata": {},
   "outputs": [
    {
     "name": "stdout",
     "output_type": "stream",
     "text": [
      "전체 회원수: 5\n"
     ]
    }
   ],
   "source": [
    "# 전체 회원수 출력\n",
    "print(\"전체 회원수: {}\".format(len(nameList)))"
   ]
  },
  {
   "cell_type": "code",
   "execution_count": 59,
   "metadata": {},
   "outputs": [
    {
     "name": "stdout",
     "output_type": "stream",
     "text": [
      "['권하', '권호', '권희', '김유신', '홍길동']\n",
      "['홍길동', '김유신', '권희', '권호', '권하']\n"
     ]
    }
   ],
   "source": [
    "# 회원 이름 ㄱ ㄴ ㄷ 정렬\n",
    "nameList.sort()\n",
    "print(nameList)\n",
    "\n",
    "# 내림차순\n",
    "nameList.reverse()\n",
    "print(nameList)"
   ]
  },
  {
   "cell_type": "code",
   "execution_count": 64,
   "metadata": {},
   "outputs": [
    {
     "name": "stdout",
     "output_type": "stream",
     "text": [
      "이름을 입력하세요 >> 김유신\n",
      "김유신 회원의 idx는 1입니다.\n"
     ]
    }
   ],
   "source": [
    "# 만약 검색을 선택했다면 회원 이름을 입력받음\n",
    "# 입려갇은 회원 이름의 인덱스를 출력\n",
    "if num == 2:\n",
    "    name = input(\"이름을 입력하세요 >> \")\n",
    "    \n",
    "    nameIdx = nameList.index(name)\n",
    "    \n",
    "    print(\"{} 회원의 idx는 {}입니다.\".format(name,nameIdx))"
   ]
  },
  {
   "cell_type": "code",
   "execution_count": 66,
   "metadata": {},
   "outputs": [
    {
     "name": "stdout",
     "output_type": "stream",
     "text": [
      "인덱스 >> 3\n",
      "새 이름 >> 코코\n",
      "['홍길동', '김유신', '권희', '코코', '권하']\n"
     ]
    }
   ],
   "source": [
    "# 만약 수정을 선택했다면 인덱스와 새 회원이름을 입력받음\n",
    "# 해당 인덱스에 새 회원이름으로 변경하고 리스트 내용을 출력\n",
    "\n",
    "if num == 3:\n",
    "    newIdx = int(input(\"인덱스 >> \"))\n",
    "    newName = input(\"새 이름 >> \")\n",
    "    \n",
    "    nameList[newIdx] = newName\n",
    "    \n",
    "    print(nameList)"
   ]
  },
  {
   "cell_type": "code",
   "execution_count": 69,
   "metadata": {},
   "outputs": [
    {
     "name": "stdout",
     "output_type": "stream",
     "text": [
      "인덱스 >> 2\n",
      "['홍길동', '김유신', '코코', '권하']\n"
     ]
    }
   ],
   "source": [
    "# 만약 삭제를 선택했다면 인덱스를 입력받음\n",
    "# 입력받은 인덱스를 삭제하고 리스트 내용을 출력\n",
    "\n",
    "if num == 4:\n",
    "    del_idx = int(input(\"인덱스 >> \"))\n",
    "    del nameList[del_idx]\n",
    "    \n",
    "    print(nameList)"
   ]
  },
  {
   "cell_type": "code",
   "execution_count": 71,
   "metadata": {},
   "outputs": [
    {
     "name": "stdout",
     "output_type": "stream",
     "text": [
      "종료하였습니다\n"
     ]
    }
   ],
   "source": [
    "if num == 5:\n",
    "    print(\"종료하였습니다\")"
   ]
  },
  {
   "cell_type": "markdown",
   "metadata": {},
   "source": [
    "### tuple"
   ]
  },
  {
   "cell_type": "code",
   "execution_count": 72,
   "metadata": {},
   "outputs": [],
   "source": [
    "tuple1 = ()\n",
    "tuple2 = (1,2,3,4)\n",
    "tuple3 = (\"파이썬\",\"Java\", \"C\")\n",
    "tuple4 = (1,2,\"파이썬\")\n",
    "tuple5 = (1,2,(3,4,5))"
   ]
  },
  {
   "cell_type": "code",
   "execution_count": 73,
   "metadata": {},
   "outputs": [
    {
     "name": "stdout",
     "output_type": "stream",
     "text": [
      "2\n",
      "4\n"
     ]
    }
   ],
   "source": [
    "print(tuple5[1])\n",
    "\n",
    "print(tuple5[2][1])"
   ]
  },
  {
   "cell_type": "code",
   "execution_count": 74,
   "metadata": {},
   "outputs": [
    {
     "name": "stdout",
     "output_type": "stream",
     "text": [
      "(1, 2, 3)\n",
      "(3, 4)\n"
     ]
    }
   ],
   "source": [
    "print(tuple2[:3])\n",
    "\n",
    "print(tuple2[2:])"
   ]
  },
  {
   "cell_type": "code",
   "execution_count": 75,
   "metadata": {},
   "outputs": [
    {
     "data": {
      "text/plain": [
       "4"
      ]
     },
     "execution_count": 75,
     "metadata": {},
     "output_type": "execute_result"
    }
   ],
   "source": [
    "len(tuple2)"
   ]
  },
  {
   "cell_type": "code",
   "execution_count": 76,
   "metadata": {},
   "outputs": [
    {
     "ename": "TypeError",
     "evalue": "'tuple' object does not support item assignment",
     "output_type": "error",
     "traceback": [
      "\u001b[1;31m---------------------------------------------------------------------------\u001b[0m",
      "\u001b[1;31mTypeError\u001b[0m                                 Traceback (most recent call last)",
      "\u001b[1;32m<ipython-input-76-fb1876466590>\u001b[0m in \u001b[0;36m<module>\u001b[1;34m\u001b[0m\n\u001b[1;32m----> 1\u001b[1;33m \u001b[0mtuple2\u001b[0m\u001b[1;33m[\u001b[0m\u001b[1;36m1\u001b[0m\u001b[1;33m]\u001b[0m \u001b[1;33m=\u001b[0m \u001b[1;36m10\u001b[0m\u001b[1;33m\u001b[0m\u001b[1;33m\u001b[0m\u001b[0m\n\u001b[0m",
      "\u001b[1;31mTypeError\u001b[0m: 'tuple' object does not support item assignment"
     ]
    }
   ],
   "source": [
    "tuple2[1] = 10"
   ]
  },
  {
   "cell_type": "code",
   "execution_count": 77,
   "metadata": {},
   "outputs": [
    {
     "data": {
      "text/plain": [
       "['파이썬', 'Java', 'C']"
      ]
     },
     "execution_count": 77,
     "metadata": {},
     "output_type": "execute_result"
    }
   ],
   "source": [
    "# 값 변경하려면 list\n",
    "tuple3 = (\"파이썬\",\"Java\",\"C\")\n",
    "\n",
    "list01 = list(tuple3)\n",
    "list01"
   ]
  },
  {
   "cell_type": "code",
   "execution_count": 79,
   "metadata": {},
   "outputs": [
    {
     "data": {
      "text/plain": [
       "('Python', 'Java', 'C')"
      ]
     },
     "execution_count": 79,
     "metadata": {},
     "output_type": "execute_result"
    }
   ],
   "source": [
    "list01[0] = \"Python\"\n",
    "tuple3 = tuple(list01)\n",
    "\n",
    "tuple3"
   ]
  },
  {
   "cell_type": "code",
   "execution_count": 2,
   "metadata": {},
   "outputs": [],
   "source": [
    "# in과 not in\n",
    "str1 = \"Python is easy\"\n",
    "tuple2 = (1,2,3,4)\n",
    "list6 = [\"Python\",\"python\",\"Java\",\"홍길동\",\"사자\"]"
   ]
  },
  {
   "cell_type": "code",
   "execution_count": 3,
   "metadata": {},
   "outputs": [
    {
     "data": {
      "text/plain": [
       "True"
      ]
     },
     "execution_count": 3,
     "metadata": {},
     "output_type": "execute_result"
    }
   ],
   "source": [
    "\"Python\" in str1"
   ]
  },
  {
   "cell_type": "code",
   "execution_count": 4,
   "metadata": {},
   "outputs": [
    {
     "data": {
      "text/plain": [
       "True"
      ]
     },
     "execution_count": 4,
     "metadata": {},
     "output_type": "execute_result"
    }
   ],
   "source": [
    "\"Python\" not in tuple2"
   ]
  },
  {
   "cell_type": "code",
   "execution_count": 5,
   "metadata": {},
   "outputs": [
    {
     "data": {
      "text/plain": [
       "True"
      ]
     },
     "execution_count": 5,
     "metadata": {},
     "output_type": "execute_result"
    }
   ],
   "source": [
    "\"Python\" in list6"
   ]
  },
  {
   "cell_type": "code",
   "execution_count": 7,
   "metadata": {},
   "outputs": [
    {
     "name": "stdout",
     "output_type": "stream",
     "text": [
      "입력하세요 >> Java\n",
      "값 존재\n"
     ]
    }
   ],
   "source": [
    "input1 = input(\"입력하세요 >> \")\n",
    "if input1 in list6:\n",
    "    print(\"값 존재\")\n",
    "else :\n",
    "    print(\"존재 x\")"
   ]
  }
 ],
 "metadata": {
  "kernelspec": {
   "display_name": "Python 3",
   "language": "python",
   "name": "python3"
  },
  "language_info": {
   "codemirror_mode": {
    "name": "ipython",
    "version": 3
   },
   "file_extension": ".py",
   "mimetype": "text/x-python",
   "name": "python",
   "nbconvert_exporter": "python",
   "pygments_lexer": "ipython3",
   "version": "3.8.5"
  }
 },
 "nbformat": 4,
 "nbformat_minor": 4
}
