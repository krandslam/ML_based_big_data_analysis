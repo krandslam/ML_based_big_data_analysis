{
 "cells": [
  {
   "cell_type": "markdown",
   "metadata": {},
   "source": [
    "- 데이터가 복잡하고 양이 많다면 구글드라이브에 업로드 하는데 시간이 오래걸림\n",
    "- 로컬 주피터 노트북으로 빠르게 전처리를 하고 그 결과를 NPZ(numpy zip)파일로 저장\n",
    "- 저장된 NPZ파일을 colab으로 불러와서 사용하기"
   ]
  },
  {
   "cell_type": "code",
   "execution_count": 1,
   "metadata": {},
   "outputs": [],
   "source": [
    "import numpy as np\n",
    "import matplotlib.pyplot as plt\n",
    "from PIL import Image\n",
    "from sklearn.model_selection import train_test_split"
   ]
  },
  {
   "cell_type": "markdown",
   "metadata": {},
   "source": [
    "데이터 로딩"
   ]
  },
  {
   "cell_type": "code",
   "execution_count": 2,
   "metadata": {},
   "outputs": [],
   "source": [
    "import os   #파일, 폴더 처리에 관련된 라이브러리"
   ]
  },
  {
   "cell_type": "code",
   "execution_count": 3,
   "metadata": {},
   "outputs": [],
   "source": [
    "# cats_and_dogs_filtered 폴더 내에 각각 데이터 셋들의 경로를 설정\n",
    "train_cats_dir = './data/cats_and_dogs_filtered/train/cats/'\n",
    "train_dogs_dir = './data/cats_and_dogs_filtered/train/dogs/'\n",
    "test_cats_dir = './data/cats_and_dogs_filtered/test/cats/'\n",
    "test_dogs_dir = './data/cats_and_dogs_filtered/test/dogs/'"
   ]
  },
  {
   "cell_type": "code",
   "execution_count": 4,
   "metadata": {},
   "outputs": [],
   "source": [
    "train_cats_fnames = os.listdir(train_cats_dir)\n",
    "train_dogs_fnames = os.listdir(train_dogs_dir)\n",
    "test_cats_fnames = os.listdir(test_cats_dir)\n",
    "test_dogs_fnames = os.listdir(test_dogs_dir)"
   ]
  },
  {
   "cell_type": "code",
   "execution_count": 5,
   "metadata": {},
   "outputs": [
    {
     "data": {
      "text/plain": [
       "'./data/cats_and_dogs_filtered/train/cats/cat.143.jpg'"
      ]
     },
     "execution_count": 5,
     "metadata": {},
     "output_type": "execute_result"
    }
   ],
   "source": [
    "# os.path.join() : 파일 경로와 이미지 이름을 결합\n",
    "test_path = os.path.join(train_cats_dir, train_cats_fnames[50])\n",
    "test_path"
   ]
  },
  {
   "cell_type": "code",
   "execution_count": 6,
   "metadata": {},
   "outputs": [],
   "source": [
    "# 사진 로딩 함수\n",
    "# 사진 크기는 224x224로 고정\n",
    "def load_images(folder_path, file_names, img_size_shape=(224,224)) :\n",
    "    images = []\n",
    "    \n",
    "    for i in file_names :\n",
    "        # 폴더경로 + 파일명 합치기\n",
    "        path = os.path.join(folder_path, i)\n",
    "        # 파일 오픈 및 크기조정 (resize : 파일 형태(크기)를 다시 맞춰줌)\n",
    "        img = Image.open(path).resize(img_size_shape)\n",
    "        # numpy 배열로 변경 후 리스트에 추가\n",
    "        images.append(np.array(img))\n",
    "        \n",
    "    return np.array(images)"
   ]
  },
  {
   "cell_type": "code",
   "execution_count": 7,
   "metadata": {},
   "outputs": [],
   "source": [
    "X_train_cats = load_images(train_cats_dir, train_cats_fnames)\n",
    "X_train_dogs = load_images(train_dogs_dir, train_dogs_fnames)\n",
    "X_test_cats = load_images(test_cats_dir, test_cats_fnames)\n",
    "X_test_dogs = load_images(test_dogs_dir, test_dogs_fnames)"
   ]
  },
  {
   "cell_type": "code",
   "execution_count": 8,
   "metadata": {},
   "outputs": [
    {
     "name": "stdout",
     "output_type": "stream",
     "text": [
      "(1000, 224, 224, 3)\n",
      "(1000, 224, 224, 3)\n",
      "(500, 224, 224, 3)\n",
      "(500, 224, 224, 3)\n"
     ]
    }
   ],
   "source": [
    "print(X_train_cats.shape)\n",
    "print(X_train_dogs.shape)\n",
    "print(X_test_cats.shape)\n",
    "print(X_test_dogs.shape)"
   ]
  },
  {
   "cell_type": "markdown",
   "metadata": {},
   "source": [
    "데이터 병합"
   ]
  },
  {
   "cell_type": "code",
   "execution_count": 9,
   "metadata": {},
   "outputs": [],
   "source": [
    "# 고양이, 개 이미지 배열 데이터를 합쳐줌\n",
    "X_train = np.concatenate((X_train_cats, X_train_dogs))\n",
    "X_test = np.concatenate((X_test_cats, X_test_dogs))"
   ]
  },
  {
   "cell_type": "code",
   "execution_count": 10,
   "metadata": {},
   "outputs": [
    {
     "data": {
      "text/plain": [
       "((2000, 224, 224, 3), (1000, 224, 224, 3))"
      ]
     },
     "execution_count": 10,
     "metadata": {},
     "output_type": "execute_result"
    }
   ],
   "source": [
    "X_train.shape, X_test.shape"
   ]
  },
  {
   "cell_type": "markdown",
   "metadata": {},
   "source": [
    "라벨링: 고양이 0, 개 1"
   ]
  },
  {
   "cell_type": "code",
   "execution_count": 11,
   "metadata": {},
   "outputs": [],
   "source": [
    "y_train = np.array([0]*1000 + [1]*1000)\n",
    "y_test = np.array([0]*500 + [1]*500)"
   ]
  },
  {
   "cell_type": "markdown",
   "metadata": {},
   "source": [
    "NPZ(numpy zip)파일로 저장"
   ]
  },
  {
   "cell_type": "code",
   "execution_count": 12,
   "metadata": {},
   "outputs": [],
   "source": [
    "np.savez_compressed('./cats_dogs.npz',\n",
    "                   X_train = X_train,\n",
    "                   X_test = X_test,\n",
    "                   y_train = y_train,\n",
    "                   y_test = y_test\n",
    "                   )"
   ]
  }
 ],
 "metadata": {
  "kernelspec": {
   "display_name": "Python 3",
   "language": "python",
   "name": "python3"
  },
  "language_info": {
   "codemirror_mode": {
    "name": "ipython",
    "version": 3
   },
   "file_extension": ".py",
   "mimetype": "text/x-python",
   "name": "python",
   "nbconvert_exporter": "python",
   "pygments_lexer": "ipython3",
   "version": "3.8.5"
  }
 },
 "nbformat": 4,
 "nbformat_minor": 4
}
