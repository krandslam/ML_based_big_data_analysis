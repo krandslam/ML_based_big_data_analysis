{
 "cells": [
  {
   "cell_type": "code",
   "execution_count": 9,
   "metadata": {},
   "outputs": [],
   "source": [
    "from selenium import webdriver\n",
    "from selenium.webdriver.common.keys import Keys\n",
    "from tqdm.notebook import tqdm as tn\n",
    "from bs4 import BeautifulSoup as bs\n",
    "from urllib.request import urlretrieve\n",
    "\n",
    "import pandas as pd\n",
    "import time"
   ]
  },
  {
   "cell_type": "markdown",
   "metadata": {},
   "source": [
    "## 네이버 이미지 수집"
   ]
  },
  {
   "cell_type": "code",
   "execution_count": 10,
   "metadata": {},
   "outputs": [],
   "source": [
    "url = 'https://search.naver.com/search.naver?where=image&sm=tab_jum&query=%EC%B9%B4%EC%B9%B4%EC%98%A4+%EB%9D%BC%EC%9D%B4%EC%96%B8'\n",
    "\n",
    "driver = webdriver.Chrome()\n",
    "\n",
    "driver.get(url)"
   ]
  },
  {
   "cell_type": "code",
   "execution_count": 11,
   "metadata": {},
   "outputs": [],
   "source": [
    "for i in range(15) :\n",
    "    driver.find_element_by_css_selector('body').send_keys(Keys.SPACE)\n",
    "    time.sleep(2)"
   ]
  },
  {
   "cell_type": "code",
   "execution_count": 12,
   "metadata": {},
   "outputs": [],
   "source": [
    "html = bs(driver.page_source, 'html.parser')\n",
    "driver.quit()"
   ]
  },
  {
   "cell_type": "code",
   "execution_count": 13,
   "metadata": {},
   "outputs": [
    {
     "data": {
      "text/plain": [
       "240"
      ]
     },
     "execution_count": 13,
     "metadata": {},
     "output_type": "execute_result"
    }
   ],
   "source": [
    "# 이미지 요소를 수집\n",
    "imgs = html.select('img._image._listImage')\n",
    "\n",
    "len(imgs)"
   ]
  },
  {
   "cell_type": "markdown",
   "metadata": {},
   "source": [
    "## images 폴더에 네이버에서 검색한 이미지 저장\n",
    "- 경로: images/파일명.확장자"
   ]
  },
  {
   "cell_type": "code",
   "execution_count": 14,
   "metadata": {},
   "outputs": [],
   "source": [
    "src_list = []\n",
    "cnt = 0\n",
    "for img in imgs :\n",
    "    # 요소의 속성값 접근\n",
    "    if img.get('src')[0] == 'h' :\n",
    "        # print(img.get('src'))\n",
    "        src_list.append(img.get('src'))\n",
    "    else :\n",
    "    # if 'data:' in img.get('src');\n",
    "        continue"
   ]
  },
  {
   "cell_type": "code",
   "execution_count": 15,
   "metadata": {},
   "outputs": [
    {
     "name": "stdout",
     "output_type": "stream",
     "text": [
      "181\n"
     ]
    }
   ],
   "source": [
    "print(len(src_list))"
   ]
  },
  {
   "cell_type": "code",
   "execution_count": 16,
   "metadata": {},
   "outputs": [],
   "source": [
    "for i in range(len(src_list)) :\n",
    "    start = src_list[i].rfind('.')\n",
    "    end = src_list[i].rfind('&')\n",
    "    urlretrieve(src_list[i], 'images/이미지{}.{}'.format(i,src_list[i][start+1:end]))"
   ]
  },
  {
   "cell_type": "markdown",
   "metadata": {},
   "source": [
    "## 유튜브 데이터 수집\n",
    "- 영상제목, 영상주소, 조회수, 썸네일 주소 수집\n",
    "- 유튜브_영상정보.csv 파일로 저장\n",
    "- 영상주소의 경우 'https://www.youtube.com' 메인주소를 붙인후 저장할 것\n",
    "- aria-label속성에 있는 조회수를 추출"
   ]
  },
  {
   "cell_type": "code",
   "execution_count": 17,
   "metadata": {},
   "outputs": [],
   "source": [
    "url = 'https://www.youtube.com/results?search_query=%EA%B3%A0%EC%96%91%EC%9D%B4'\n",
    "\n",
    "driver = webdriver.Chrome()\n",
    "\n",
    "driver.get(url)"
   ]
  },
  {
   "cell_type": "code",
   "execution_count": 18,
   "metadata": {},
   "outputs": [],
   "source": [
    "for i in range(15) :\n",
    "    driver.find_element_by_css_selector('body').send_keys(Keys.PAGE_DOWN)\n",
    "    time.sleep(2)"
   ]
  },
  {
   "cell_type": "code",
   "execution_count": 19,
   "metadata": {},
   "outputs": [],
   "source": [
    "html = bs(driver.page_source, 'html.parser')\n",
    "driver.quit()"
   ]
  },
  {
   "cell_type": "code",
   "execution_count": 20,
   "metadata": {},
   "outputs": [],
   "source": [
    "vid_titles = html.select('a#video-title')"
   ]
  },
  {
   "cell_type": "code",
   "execution_count": 21,
   "metadata": {},
   "outputs": [
    {
     "data": {
      "text/plain": [
       "57"
      ]
     },
     "execution_count": 21,
     "metadata": {},
     "output_type": "execute_result"
    }
   ],
   "source": [
    "len(vid_titles)"
   ]
  },
  {
   "cell_type": "code",
   "execution_count": 22,
   "metadata": {},
   "outputs": [
    {
     "data": {
      "text/plain": [
       "'아직도 젖먹는 아기 고양이가 여기있어요!'"
      ]
     },
     "execution_count": 22,
     "metadata": {},
     "output_type": "execute_result"
    }
   ],
   "source": [
    "vid_titles[0].text.strip() # 영상제목"
   ]
  },
  {
   "cell_type": "code",
   "execution_count": 23,
   "metadata": {},
   "outputs": [
    {
     "data": {
      "text/plain": [
       "'/watch?v=zdpORWFBObs'"
      ]
     },
     "execution_count": 23,
     "metadata": {},
     "output_type": "execute_result"
    }
   ],
   "source": [
    "vid_titles[0].get('href') # 영상주소"
   ]
  },
  {
   "cell_type": "code",
   "execution_count": 24,
   "metadata": {},
   "outputs": [],
   "source": [
    "start = vid_titles[0].get('aria-label').rfind('회수')\n",
    "end = vid_titles[0].get('aria-label').rfind('회')"
   ]
  },
  {
   "cell_type": "code",
   "execution_count": 25,
   "metadata": {},
   "outputs": [
    {
     "data": {
      "text/plain": [
       "'271,854'"
      ]
     },
     "execution_count": 25,
     "metadata": {},
     "output_type": "execute_result"
    }
   ],
   "source": [
    "vid_titles[0].get('aria-label')[start+3:end] # 조회수"
   ]
  },
  {
   "cell_type": "code",
   "execution_count": 26,
   "metadata": {},
   "outputs": [],
   "source": [
    "thumbs = html.select('a#thumbnail img')"
   ]
  },
  {
   "cell_type": "code",
   "execution_count": 27,
   "metadata": {},
   "outputs": [
    {
     "data": {
      "text/plain": [
       "'https://i.ytimg.com/vi/wQ7WRFijgeA/hq720.jpg?sqp=-oaymwEcCOgCEMoBSFXyq4qpAw4IARUAAIhCGAFwAcABBg==&rs=AOn4CLAjRKO_pLHM5G29grE-rOz30w6LLQ'"
      ]
     },
     "execution_count": 27,
     "metadata": {},
     "output_type": "execute_result"
    }
   ],
   "source": [
    "thumbs[55].get('src')"
   ]
  },
  {
   "cell_type": "code",
   "execution_count": 28,
   "metadata": {},
   "outputs": [
    {
     "data": {
      "text/plain": [
       "[<img alt=\"\" class=\"style-scope yt-img-shadow\" id=\"img\" src=\"https://i.ytimg.com/vi/zdpORWFBObs/hq720.jpg?sqp=-oaymwEcCOgCEMoBSFXyq4qpAw4IARUAAIhCGAFwAcABBg==&amp;rs=AOn4CLCghzSvKLeaapFjHGxVGeSsz8IaRw\" width=\"360\"/>,\n",
       " <img alt=\"\" class=\"style-scope yt-img-shadow\" id=\"img\" src=\"https://i.ytimg.com/vi/1Tv3idOf8tE/hq720.jpg?sqp=-oaymwEcCOgCEMoBSFXyq4qpAw4IARUAAIhCGAFwAcABBg==&amp;rs=AOn4CLAzfRoppbPXuM6laaP7eWWbyiz1ZQ\" width=\"360\"/>,\n",
       " <img alt=\"\" class=\"style-scope yt-img-shadow\" id=\"img\" src=\"https://i.ytimg.com/vi/Qi5c4UGrl_E/hq720.jpg?sqp=-oaymwEcCOgCEMoBSFXyq4qpAw4IARUAAIhCGAFwAcABBg==&amp;rs=AOn4CLAm8lujklYE4-d4s93Wm2LY8pIRqA\" width=\"360\"/>,\n",
       " <img alt=\"\" class=\"style-scope yt-img-shadow\" id=\"img\" src=\"https://i.ytimg.com/vi/bQpHtHabTPQ/hq720.jpg?sqp=-oaymwEcCOgCEMoBSFXyq4qpAw4IARUAAIhCGAFwAcABBg==&amp;rs=AOn4CLDpxDqXzi3dQXgpCBWiRgWX8fng9A\" width=\"360\"/>,\n",
       " <img alt=\"\" class=\"style-scope yt-img-shadow\" id=\"img\" src=\"https://i.ytimg.com/vi/JveHwI22PIY/hqdefault.jpg?sqp=-oaymwEcCOADEI4CSFXyq4qpAw4IARUAAIhCGAFwAcABBg==&amp;rs=AOn4CLAWDgnesJZ_efSepn0RBV7UZOLHTg\" width=\"360\"/>,\n",
       " <img alt=\"\" class=\"style-scope yt-img-shadow\" id=\"img\" src=\"https://i.ytimg.com/vi/yrGbpikFHDI/hq720.jpg?sqp=-oaymwEcCOgCEMoBSFXyq4qpAw4IARUAAIhCGAFwAcABBg==&amp;rs=AOn4CLAHtiDfVlIm2pGIUp-AO6nFyYpsMA\" width=\"360\"/>,\n",
       " <img alt=\"\" class=\"style-scope yt-img-shadow\" id=\"img\" src=\"https://i.ytimg.com/vi/DMZ1KWiHCCk/hq720.jpg?sqp=-oaymwEcCOgCEMoBSFXyq4qpAw4IARUAAIhCGAFwAcABBg==&amp;rs=AOn4CLDFbZafYTuyI9t_NCWxRpeHXaUo7g\" width=\"360\"/>,\n",
       " <img alt=\"\" class=\"style-scope yt-img-shadow\" id=\"img\" src=\"https://i.ytimg.com/vi/4BwNZSTHjCQ/hq720.jpg?sqp=-oaymwEcCOgCEMoBSFXyq4qpAw4IARUAAIhCGAFwAcABBg==&amp;rs=AOn4CLAg6bAotn1l8xnPahftSgwSfXRUGA\" width=\"360\"/>,\n",
       " <img alt=\"\" class=\"style-scope yt-img-shadow\" id=\"img\" src=\"https://i.ytimg.com/vi/bxEq4zIyy0E/hq720.jpg?sqp=-oaymwEcCOgCEMoBSFXyq4qpAw4IARUAAIhCGAFwAcABBg==&amp;rs=AOn4CLBKsSRK_VuQxVPmFuXXV1km1et_Rg\" width=\"360\"/>,\n",
       " <img alt=\"\" class=\"style-scope yt-img-shadow\" id=\"img\" src=\"https://i.ytimg.com/vi/vnz1Z4OgpLA/hq720.jpg?sqp=-oaymwEcCOgCEMoBSFXyq4qpAw4IARUAAIhCGAFwAcABBg==&amp;rs=AOn4CLDXSAeGmb1K0nL36oUthJeFGoSDJg\" width=\"360\"/>,\n",
       " <img alt=\"\" class=\"style-scope yt-img-shadow\" id=\"img\" src=\"https://i.ytimg.com/vi/jANE8lpoj2c/hq720.jpg?sqp=-oaymwEcCOgCEMoBSFXyq4qpAw4IARUAAIhCGAFwAcABBg==&amp;rs=AOn4CLCFL20vj9j_gYFr3aNxCVasKPiaeQ\" width=\"360\"/>,\n",
       " <img alt=\"\" class=\"style-scope yt-img-shadow\" id=\"img\" src=\"https://i.ytimg.com/vi/JEBt-TbAcqs/hq720.jpg?sqp=-oaymwEcCOgCEMoBSFXyq4qpAw4IARUAAIhCGAFwAcABBg==&amp;rs=AOn4CLAngvI9hlCNZ-Z7g2AFc4lSd9HcmA\" width=\"360\"/>,\n",
       " <img alt=\"\" class=\"style-scope yt-img-shadow\" id=\"img\" src=\"https://i.ytimg.com/vi/UOrIEf6PZsY/hq720.jpg?sqp=-oaymwEcCOgCEMoBSFXyq4qpAw4IARUAAIhCGAFwAcABBg==&amp;rs=AOn4CLBxa1kwSTWqFMR-DmYU05oZDdKgCg\" width=\"360\"/>,\n",
       " <img alt=\"\" class=\"style-scope yt-img-shadow\" id=\"img\" src=\"https://i.ytimg.com/vi/moFB-j5iY2E/hq720.jpg?sqp=-oaymwEcCOgCEMoBSFXyq4qpAw4IARUAAIhCGAFwAcABBg==&amp;rs=AOn4CLAKgMX5ACZx1HRsCSpL9yD6f8ogDA\" width=\"360\"/>,\n",
       " <img alt=\"\" class=\"style-scope yt-img-shadow\" id=\"img\" src=\"https://i.ytimg.com/vi/J5P23ycOxWE/hq720.jpg?sqp=-oaymwEcCOgCEMoBSFXyq4qpAw4IARUAAIhCGAFwAcABBg==&amp;rs=AOn4CLAidnVUouxzd17KCLc8f6pC927vNw\" width=\"360\"/>,\n",
       " <img alt=\"\" class=\"style-scope yt-img-shadow\" id=\"img\" src=\"https://i.ytimg.com/vi/WJNNDgEsuSo/hq720.jpg?sqp=-oaymwEcCOgCEMoBSFXyq4qpAw4IARUAAIhCGAFwAcABBg==&amp;rs=AOn4CLDQq1bMhGLnynJ8632w6yTKxlcbrg\" width=\"360\"/>,\n",
       " <img alt=\"\" class=\"style-scope yt-img-shadow\" id=\"img\" src=\"https://i.ytimg.com/vi/cYf3FLzOfdE/hqdefault.jpg?sqp=-oaymwEcCOADEI4CSFXyq4qpAw4IARUAAIhCGAFwAcABBg==&amp;rs=AOn4CLCzCw-gkzIYyXNILgGc0ykh9pKiQQ\" width=\"360\"/>,\n",
       " <img alt=\"\" class=\"style-scope yt-img-shadow\" id=\"img\" src=\"https://i.ytimg.com/vi/kOLWRgdmcx8/hq720.jpg?sqp=-oaymwEcCOgCEMoBSFXyq4qpAw4IARUAAIhCGAFwAcABBg==&amp;rs=AOn4CLAzT7H-rr4r36KdqlWlkGeMGMUwtQ\" width=\"360\"/>,\n",
       " <img alt=\"\" class=\"style-scope yt-img-shadow\" id=\"img\" src=\"https://i.ytimg.com/vi/LVPAER7JBng/hq720.jpg?sqp=-oaymwEcCOgCEMoBSFXyq4qpAw4IARUAAIhCGAFwAcABBg==&amp;rs=AOn4CLAjMhRwHH4AXIOkr0H957PQ0Y3nAQ\" width=\"360\"/>,\n",
       " <img alt=\"\" class=\"style-scope yt-img-shadow\" id=\"img\" src=\"https://i.ytimg.com/vi/GVr7FyMwcN8/hq720.jpg?sqp=-oaymwEcCOgCEMoBSFXyq4qpAw4IARUAAIhCGAFwAcABBg==&amp;rs=AOn4CLAIm2dFvHf9vmrEIjns8cXioMcuGw\" width=\"360\"/>,\n",
       " <img alt=\"\" class=\"style-scope yt-img-shadow\" id=\"img\" src=\"https://i.ytimg.com/vi/TL83sKr86Eg/hq720.jpg?sqp=-oaymwEcCOgCEMoBSFXyq4qpAw4IARUAAIhCGAFwAcABBg==&amp;rs=AOn4CLDtWiGaZCqVcoNx5L7-6Dhu3dt5dg\" width=\"360\"/>,\n",
       " <img alt=\"\" class=\"style-scope yt-img-shadow\" id=\"img\" src=\"https://i.ytimg.com/vi/JU9Yz8vaLz0/hq720.jpg?sqp=-oaymwEcCOgCEMoBSFXyq4qpAw4IARUAAIhCGAFwAcABBg==&amp;rs=AOn4CLCLBk_AEVrs2XnLcSHk0KCzuwnDYg\" width=\"360\"/>,\n",
       " <img alt=\"\" class=\"style-scope yt-img-shadow\" id=\"img\" src=\"https://i.ytimg.com/vi/rKh7LMjBz6g/hq720.jpg?sqp=-oaymwEcCOgCEMoBSFXyq4qpAw4IARUAAIhCGAFwAcABBg==&amp;rs=AOn4CLBBLhE9CXrSpGGCOETIh_RGQHGCFQ\" width=\"360\"/>,\n",
       " <img alt=\"\" class=\"style-scope yt-img-shadow\" id=\"img\" src=\"https://i.ytimg.com/vi/qVvVpm0JABU/hq720.jpg?sqp=-oaymwEcCOgCEMoBSFXyq4qpAw4IARUAAIhCGAFwAcABBg==&amp;rs=AOn4CLCECa3vJzQmaIuQ_pjCP62wdtiWgw\" width=\"360\"/>,\n",
       " <img alt=\"\" class=\"style-scope yt-img-shadow\" id=\"img\" src=\"https://i.ytimg.com/vi/fxPEXpqvF6I/hq720.jpg?sqp=-oaymwEcCOgCEMoBSFXyq4qpAw4IARUAAIhCGAFwAcABBg==&amp;rs=AOn4CLCk3QukFpIotCrKw6OknyR6ex0BLQ\" width=\"360\"/>,\n",
       " <img alt=\"\" class=\"style-scope yt-img-shadow\" id=\"img\" src=\"https://i.ytimg.com/vi/aJJ5D3Z7DpQ/hq720.jpg?sqp=-oaymwEcCOgCEMoBSFXyq4qpAw4IARUAAIhCGAFwAcABBg==&amp;rs=AOn4CLDJYRO8sXzwVcRFQW1yplio2LroUw\" width=\"360\"/>,\n",
       " <img alt=\"\" class=\"style-scope yt-img-shadow\" id=\"img\" src=\"https://i.ytimg.com/vi/icNLgCfvPXU/hq720.jpg?sqp=-oaymwEcCOgCEMoBSFXyq4qpAw4IARUAAIhCGAFwAcABBg==&amp;rs=AOn4CLBEpv-0znl7dJfPgWvXMTDErRe8Ug\" width=\"360\"/>,\n",
       " <img alt=\"\" class=\"style-scope yt-img-shadow\" id=\"img\" src=\"https://i.ytimg.com/vi/_7qCL-7Cfmk/hq720.jpg?sqp=-oaymwEcCOgCEMoBSFXyq4qpAw4IARUAAIhCGAFwAcABBg==&amp;rs=AOn4CLAeVRiT2mTwXQcLH9EBdXuu2gDrwQ\" width=\"360\"/>,\n",
       " <img alt=\"\" class=\"style-scope yt-img-shadow\" id=\"img\" src=\"https://i.ytimg.com/vi/v5hUXycOlA8/hqdefault.jpg?sqp=-oaymwEcCOADEI4CSFXyq4qpAw4IARUAAIhCGAFwAcABBg==&amp;rs=AOn4CLC1RabqI5DgeiGvqfs8r7IyZKsoNw\" width=\"360\"/>,\n",
       " <img alt=\"\" class=\"style-scope yt-img-shadow\" id=\"img\" src=\"https://i.ytimg.com/vi/hmYVuY7VDZc/hq720.jpg?sqp=-oaymwEcCOgCEMoBSFXyq4qpAw4IARUAAIhCGAFwAcABBg==&amp;rs=AOn4CLDayc3i26oPug2H8uYuMrbvjwWGNg\" width=\"360\"/>,\n",
       " <img alt=\"\" class=\"style-scope yt-img-shadow\" id=\"img\" src=\"https://i.ytimg.com/vi/UGYDJspVJqs/hq720.jpg?sqp=-oaymwEcCOgCEMoBSFXyq4qpAw4IARUAAIhCGAFwAcABBg==&amp;rs=AOn4CLBFiNCeMbo7h-T1oeOICLLnbPSS1Q\" width=\"360\"/>,\n",
       " <img alt=\"\" class=\"style-scope yt-img-shadow\" id=\"img\" src=\"https://i.ytimg.com/vi/AxUZrxovBoE/hq720.jpg?sqp=-oaymwEcCOgCEMoBSFXyq4qpAw4IARUAAIhCGAFwAcABBg==&amp;rs=AOn4CLAk98r1UuX5UY1Nj14nAaDYj8hVxg\" width=\"360\"/>,\n",
       " <img alt=\"\" class=\"style-scope yt-img-shadow\" id=\"img\" src=\"https://i.ytimg.com/vi/cmA2KSJUiEE/hq720.jpg?sqp=-oaymwEcCOgCEMoBSFXyq4qpAw4IARUAAIhCGAFwAcABBg==&amp;rs=AOn4CLCiXxbKAj0m3_f1g9LjvV8xfc4Akw\" width=\"360\"/>,\n",
       " <img alt=\"\" class=\"style-scope yt-img-shadow\" id=\"img\" src=\"https://i.ytimg.com/vi/9MGp9TSCrdo/hq720.jpg?sqp=-oaymwEcCOgCEMoBSFXyq4qpAw4IARUAAIhCGAFwAcABBg==&amp;rs=AOn4CLBL-F4myVVRERokjFwUihBRKp_kqg\" width=\"360\"/>,\n",
       " <img alt=\"\" class=\"style-scope yt-img-shadow\" id=\"img\" src=\"https://i.ytimg.com/vi/4--2O5LY04Q/hq720.jpg?sqp=-oaymwEcCOgCEMoBSFXyq4qpAw4IARUAAIhCGAFwAcABBg==&amp;rs=AOn4CLBteqC9RMB69u2sd__rJLQu0S0saA\" width=\"360\"/>,\n",
       " <img alt=\"\" class=\"style-scope yt-img-shadow\" id=\"img\" src=\"https://i.ytimg.com/vi/lqTj6nxKvUw/hq720.jpg?sqp=-oaymwEcCOgCEMoBSFXyq4qpAw4IARUAAIhCGAFwAcABBg==&amp;rs=AOn4CLDwAxnHBWBVlxqEtocHdT0iq4ve0w\" width=\"360\"/>,\n",
       " <img alt=\"\" class=\"style-scope yt-img-shadow\" id=\"img\" src=\"https://i.ytimg.com/vi/CMxlR8MtZnw/hq720.jpg?sqp=-oaymwEcCOgCEMoBSFXyq4qpAw4IARUAAIhCGAFwAcABBg==&amp;rs=AOn4CLB5OD_gQ4_rsernQ7--8df8v7ohRg\" width=\"360\"/>,\n",
       " <img alt=\"\" class=\"style-scope yt-img-shadow\" id=\"img\" src=\"https://i.ytimg.com/vi/drR7vZ-GGIM/hq720.jpg?sqp=-oaymwEcCOgCEMoBSFXyq4qpAw4IARUAAIhCGAFwAcABBg==&amp;rs=AOn4CLBEmuLPEFq8-HTcAkOCmm_Zz2lY6g\" width=\"360\"/>,\n",
       " <img alt=\"\" class=\"style-scope yt-img-shadow\" id=\"img\" src=\"https://i.ytimg.com/vi/dLsIj8Q5cnE/hq720.jpg?sqp=-oaymwEcCOgCEMoBSFXyq4qpAw4IARUAAIhCGAFwAcABBg==&amp;rs=AOn4CLBwBT3R_umIfEk1dslZTRI_-6E3pQ\" width=\"360\"/>,\n",
       " <img alt=\"\" class=\"style-scope yt-img-shadow\" id=\"img\" src=\"https://i.ytimg.com/vi/Jf4iLLf-l7Y/hq720.jpg?sqp=-oaymwEcCOgCEMoBSFXyq4qpAw4IARUAAIhCGAFwAcABBg==&amp;rs=AOn4CLAnpJzqOEpvRhP7KbiL5EzoWh3y7w\" width=\"360\"/>,\n",
       " <img alt=\"\" class=\"style-scope yt-img-shadow\" id=\"img\" src=\"https://i.ytimg.com/vi/pEJLOEUXfOs/hq720.jpg?sqp=-oaymwEcCOgCEMoBSFXyq4qpAw4IARUAAIhCGAFwAcABBg==&amp;rs=AOn4CLCHev-oeo8gmiHisaXPEeR8diAWUQ\" width=\"360\"/>,\n",
       " <img alt=\"\" class=\"style-scope yt-img-shadow\" id=\"img\" src=\"https://i.ytimg.com/vi/WzPdq3tMMFs/hq720.jpg?sqp=-oaymwEcCOgCEMoBSFXyq4qpAw4IARUAAIhCGAFwAcABBg==&amp;rs=AOn4CLAJxOunCgOuY2-KZakQVHlrIqttTA\" width=\"360\"/>,\n",
       " <img alt=\"\" class=\"style-scope yt-img-shadow\" id=\"img\" src=\"https://i.ytimg.com/vi/HP0a4pkXM3Q/hq720.jpg?sqp=-oaymwEcCOgCEMoBSFXyq4qpAw4IARUAAIhCGAFwAcABBg==&amp;rs=AOn4CLAYVtJnIA70ayfnT-toXXViMljCmg\" width=\"360\"/>,\n",
       " <img alt=\"\" class=\"style-scope yt-img-shadow\" id=\"img\" src=\"https://i.ytimg.com/vi/k1WYLdKJ_fM/hq720.jpg?sqp=-oaymwEcCOgCEMoBSFXyq4qpAw4IARUAAIhCGAFwAcABBg==&amp;rs=AOn4CLALMHgg5mVNizn2ejFcA4mhfKKJog\" width=\"360\"/>,\n",
       " <img alt=\"\" class=\"style-scope yt-img-shadow\" id=\"img\" src=\"https://i.ytimg.com/vi/3V8XdhcYL_E/hq720.jpg?sqp=-oaymwEcCOgCEMoBSFXyq4qpAw4IARUAAIhCGAFwAcABBg==&amp;rs=AOn4CLAs1S3EXkB7YOV_OfPM5A0vqZmuZw\" width=\"360\"/>,\n",
       " <img alt=\"\" class=\"style-scope yt-img-shadow\" id=\"img\" src=\"https://i.ytimg.com/vi/CyjyXe1Bgm0/hq720.jpg?sqp=-oaymwEcCOgCEMoBSFXyq4qpAw4IARUAAIhCGAFwAcABBg==&amp;rs=AOn4CLBPlLf-JgFxEPvHUT3tIQyHJFpwuQ\" width=\"360\"/>,\n",
       " <img alt=\"\" class=\"style-scope yt-img-shadow\" id=\"img\" src=\"https://i.ytimg.com/vi/nPF4lB0p7Js/hq720.jpg?sqp=-oaymwEcCOgCEMoBSFXyq4qpAw4IARUAAIhCGAFwAcABBg==&amp;rs=AOn4CLBRhoUfnut3fQT4WY_cL63moY3geA\" width=\"360\"/>,\n",
       " <img alt=\"\" class=\"style-scope yt-img-shadow\" id=\"img\" src=\"https://i.ytimg.com/vi/FEvA27kZk-A/hq720.jpg?sqp=-oaymwEcCOgCEMoBSFXyq4qpAw4IARUAAIhCGAFwAcABBg==&amp;rs=AOn4CLAjoqWAO67gVeDTnm3pq6DCV2qViw\" width=\"360\"/>,\n",
       " <img alt=\"\" class=\"style-scope yt-img-shadow\" id=\"img\" src=\"https://i.ytimg.com/vi/VkhT5EGOh5w/hq720.jpg?sqp=-oaymwEcCOgCEMoBSFXyq4qpAw4IARUAAIhCGAFwAcABBg==&amp;rs=AOn4CLAlC8766mc6CjD1GJBQbm685YytCA\" width=\"360\"/>,\n",
       " <img alt=\"\" class=\"style-scope yt-img-shadow\" id=\"img\" src=\"https://i.ytimg.com/vi/iOqFyq-HxRo/hq720.jpg?sqp=-oaymwEcCOgCEMoBSFXyq4qpAw4IARUAAIhCGAFwAcABBg==&amp;rs=AOn4CLCpI2wK1lIzTQpwo2PzCLzoflCUuw\" width=\"360\"/>,\n",
       " <img alt=\"\" class=\"style-scope yt-img-shadow\" id=\"img\" src=\"https://i.ytimg.com/vi/UV240Sp8Lbw/hqdefault.jpg?sqp=-oaymwEcCOADEI4CSFXyq4qpAw4IARUAAIhCGAFwAcABBg==&amp;rs=AOn4CLCjwZ8PeLp5IP4hIBp6GteN_zFKYw\" width=\"360\"/>,\n",
       " <img alt=\"\" class=\"style-scope yt-img-shadow\" id=\"img\" src=\"https://i.ytimg.com/vi/APxhVr-DoHM/hq720.jpg?sqp=-oaymwEcCOgCEMoBSFXyq4qpAw4IARUAAIhCGAFwAcABBg==&amp;rs=AOn4CLDtcJ_9BDoZTArUJORhfNBe2zaEbA\" width=\"360\"/>,\n",
       " <img alt=\"\" class=\"style-scope yt-img-shadow\" id=\"img\" src=\"https://i.ytimg.com/vi/lIct6zdkDYg/hq720.jpg?sqp=-oaymwEcCOgCEMoBSFXyq4qpAw4IARUAAIhCGAFwAcABBg==&amp;rs=AOn4CLDfF5OJIchOhFJ0IhL70VpkszbSiw\" width=\"360\"/>,\n",
       " <img alt=\"\" class=\"style-scope yt-img-shadow\" id=\"img\" src=\"https://i.ytimg.com/vi/nc7RoOS-GTA/hq720.jpg?sqp=-oaymwEcCOgCEMoBSFXyq4qpAw4IARUAAIhCGAFwAcABBg==&amp;rs=AOn4CLBHQLjP3oClwM6_PIXh6HW3Ne_94g\" width=\"360\"/>,\n",
       " <img alt=\"\" class=\"style-scope yt-img-shadow\" id=\"img\" src=\"https://i.ytimg.com/vi/LZSF_1HgCGc/hq720.jpg?sqp=-oaymwEcCOgCEMoBSFXyq4qpAw4IARUAAIhCGAFwAcABBg==&amp;rs=AOn4CLC2fToNDP-7f93iXfv5TwJ4vIjiGw\" width=\"360\"/>,\n",
       " <img alt=\"\" class=\"style-scope yt-img-shadow\" id=\"img\" src=\"https://i.ytimg.com/vi/wQ7WRFijgeA/hq720.jpg?sqp=-oaymwEcCOgCEMoBSFXyq4qpAw4IARUAAIhCGAFwAcABBg==&amp;rs=AOn4CLAjRKO_pLHM5G29grE-rOz30w6LLQ\" width=\"360\"/>,\n",
       " <img alt=\"\" class=\"style-scope yt-img-shadow\" id=\"img\" width=\"360\"/>,\n",
       " <img alt=\"\" class=\"style-scope yt-img-shadow\" id=\"img\" width=\"78\"/>]"
      ]
     },
     "execution_count": 28,
     "metadata": {},
     "output_type": "execute_result"
    }
   ],
   "source": [
    "thumbs"
   ]
  },
  {
   "cell_type": "code",
   "execution_count": 29,
   "metadata": {},
   "outputs": [
    {
     "data": {
      "text/plain": [
       "58"
      ]
     },
     "execution_count": 29,
     "metadata": {},
     "output_type": "execute_result"
    }
   ],
   "source": [
    "len(thumbs)"
   ]
  },
  {
   "cell_type": "code",
   "execution_count": 30,
   "metadata": {},
   "outputs": [],
   "source": [
    "title_l = []\n",
    "mAddr_l = []\n",
    "view_l = []\n",
    "thumb_l = []\n",
    "\n",
    "for i in range(0,55) :\n",
    "    title_l.append(vid_titles[i].text.strip())\n",
    "    mAddr_l.append('https://www.youtube.com'+vid_titles[i].get('href'))\n",
    "    \n",
    "    start = vid_titles[i].get('aria-label').rfind('회수')\n",
    "    end = vid_titles[i].get('aria-label').rfind('회')\n",
    "    view_l.append(vid_titles[i].get('aria-label')[start+3:end])\n",
    "    \n",
    "    thumb_l.append(thumbs[i].get('src'))"
   ]
  },
  {
   "cell_type": "code",
   "execution_count": 31,
   "metadata": {},
   "outputs": [],
   "source": [
    "from pandas import DataFrame"
   ]
  },
  {
   "cell_type": "code",
   "execution_count": 32,
   "metadata": {
    "scrolled": true
   },
   "outputs": [
    {
     "data": {
      "text/html": [
       "<div>\n",
       "<style scoped>\n",
       "    .dataframe tbody tr th:only-of-type {\n",
       "        vertical-align: middle;\n",
       "    }\n",
       "\n",
       "    .dataframe tbody tr th {\n",
       "        vertical-align: top;\n",
       "    }\n",
       "\n",
       "    .dataframe thead th {\n",
       "        text-align: right;\n",
       "    }\n",
       "</style>\n",
       "<table border=\"1\" class=\"dataframe\">\n",
       "  <thead>\n",
       "    <tr style=\"text-align: right;\">\n",
       "      <th></th>\n",
       "      <th>영상제목</th>\n",
       "      <th>영상주소</th>\n",
       "      <th>조회수</th>\n",
       "    </tr>\n",
       "  </thead>\n",
       "  <tbody>\n",
       "    <tr>\n",
       "      <th>0</th>\n",
       "      <td>아직도 젖먹는 아기 고양이가 여기있어요!</td>\n",
       "      <td>https://i.ytimg.com/vi/zdpORWFBObs/hq720.jpg?s...</td>\n",
       "      <td>271,854</td>\n",
       "    </tr>\n",
       "    <tr>\n",
       "      <th>1</th>\n",
       "      <td>고양이가 괴물을 만났습니다.</td>\n",
       "      <td>https://i.ytimg.com/vi/1Tv3idOf8tE/hq720.jpg?s...</td>\n",
       "      <td>58,967</td>\n",
       "    </tr>\n",
       "    <tr>\n",
       "      <th>2</th>\n",
       "      <td>그들의 첫 항문낭 짜기...... 충격적인 시간이었다</td>\n",
       "      <td>https://i.ytimg.com/vi/Qi5c4UGrl_E/hq720.jpg?s...</td>\n",
       "      <td>70,319</td>\n",
       "    </tr>\n",
       "    <tr>\n",
       "      <th>3</th>\n",
       "      <td>간식 있는 척 장난 쳤더니 종 치면서 짜증내는 고양이</td>\n",
       "      <td>https://i.ytimg.com/vi/bQpHtHabTPQ/hq720.jpg?s...</td>\n",
       "      <td>24,200</td>\n",
       "    </tr>\n",
       "    <tr>\n",
       "      <th>4</th>\n",
       "      <td>구조한 길 고양이 금순이 입양 갔습니다. 최종 ep ㅣ 진돗개</td>\n",
       "      <td>https://i.ytimg.com/vi/JveHwI22PIY/hqdefault.j...</td>\n",
       "      <td>6,986</td>\n",
       "    </tr>\n",
       "    <tr>\n",
       "      <th>5</th>\n",
       "      <td>[삐약모음]자꾸 삐약! 삐약! 집사한테 말 거는 고양이 미루ㅎ</td>\n",
       "      <td>https://i.ytimg.com/vi/yrGbpikFHDI/hq720.jpg?s...</td>\n",
       "      <td>17,665</td>\n",
       "    </tr>\n",
       "    <tr>\n",
       "      <th>6</th>\n",
       "      <td>식음 전폐의 상황에서 성공한 고양이 열마리 합사 2년간의 기록</td>\n",
       "      <td>https://i.ytimg.com/vi/DMZ1KWiHCCk/hq720.jpg?s...</td>\n",
       "      <td>19,560</td>\n",
       "    </tr>\n",
       "    <tr>\n",
       "      <th>7</th>\n",
       "      <td>아! 진짜 강아지가 고양이로 환생한 것 같아요ㅋ</td>\n",
       "      <td>https://i.ytimg.com/vi/4BwNZSTHjCQ/hq720.jpg?s...</td>\n",
       "      <td>908,356</td>\n",
       "    </tr>\n",
       "    <tr>\n",
       "      <th>8</th>\n",
       "      <td>장난감뱀에 진심인 고양이들 반응ㅋㅋㅋ</td>\n",
       "      <td>https://i.ytimg.com/vi/bxEq4zIyy0E/hq720.jpg?s...</td>\n",
       "      <td>6,124,025</td>\n",
       "    </tr>\n",
       "    <tr>\n",
       "      <th>9</th>\n",
       "      <td>새해 맞이 강아지 고양이 형제 동시 목욕의 날 │이웃집의 백호│웰시코기 백호</td>\n",
       "      <td>https://i.ytimg.com/vi/vnz1Z4OgpLA/hq720.jpg?s...</td>\n",
       "      <td>25,231</td>\n",
       "    </tr>\n",
       "    <tr>\n",
       "      <th>10</th>\n",
       "      <td>[vlog] #먼치킨 #새끼고양이와 #포메라니안 강아지 같이 키우기 - 합사 첫날부...</td>\n",
       "      <td>https://i.ytimg.com/vi/jANE8lpoj2c/hq720.jpg?s...</td>\n",
       "      <td>35,260,295</td>\n",
       "    </tr>\n",
       "    <tr>\n",
       "      <th>11</th>\n",
       "      <td>고양이가 아플 때 보내는 신호는? | 집사, 고양이 건강을 지켜라!</td>\n",
       "      <td>https://i.ytimg.com/vi/JEBt-TbAcqs/hq720.jpg?s...</td>\n",
       "      <td>54,635</td>\n",
       "    </tr>\n",
       "    <tr>\n",
       "      <th>12</th>\n",
       "      <td>미어cat이 된 고양이ㅣA Cat Wanted To Be A Meerkat</td>\n",
       "      <td>https://i.ytimg.com/vi/UOrIEf6PZsY/hq720.jpg?s...</td>\n",
       "      <td>237,050</td>\n",
       "    </tr>\n",
       "    <tr>\n",
       "      <th>13</th>\n",
       "      <td>얼음 속 잉어를 노리는 고양이</td>\n",
       "      <td>https://i.ytimg.com/vi/moFB-j5iY2E/hq720.jpg?s...</td>\n",
       "      <td>9,796,081</td>\n",
       "    </tr>\n",
       "    <tr>\n",
       "      <th>14</th>\n",
       "      <td>(홈트 방해냥) 고양이 때문에 운동하다 빵터짐ㅋㅋㅋ</td>\n",
       "      <td>https://i.ytimg.com/vi/J5P23ycOxWE/hq720.jpg?s...</td>\n",
       "      <td>70,780</td>\n",
       "    </tr>\n",
       "    <tr>\n",
       "      <th>15</th>\n",
       "      <td>추운겨울 전기장판에 누워 몸을 녹이는 아기 길고양이 stray cat house</td>\n",
       "      <td>https://i.ytimg.com/vi/WJNNDgEsuSo/hq720.jpg?s...</td>\n",
       "      <td>2,376</td>\n",
       "    </tr>\n",
       "    <tr>\n",
       "      <th>16</th>\n",
       "      <td>별나라 간 고양이가 보낸 선물이라고 반가워 난리 난 할매들</td>\n",
       "      <td>https://i.ytimg.com/vi/cYf3FLzOfdE/hqdefault.j...</td>\n",
       "      <td>1,741</td>\n",
       "    </tr>\n",
       "    <tr>\n",
       "      <th>17</th>\n",
       "      <td>유기묘 보호소에서 분명 아기고양이를 입양했는데 강아지가 왔습니다</td>\n",
       "      <td>https://i.ytimg.com/vi/kOLWRgdmcx8/hq720.jpg?s...</td>\n",
       "      <td>4,277,027</td>\n",
       "    </tr>\n",
       "    <tr>\n",
       "      <th>18</th>\n",
       "      <td>고양이에게 생선을 맡겨보았습니다!</td>\n",
       "      <td>https://i.ytimg.com/vi/LVPAER7JBng/hq720.jpg?s...</td>\n",
       "      <td>369,119</td>\n",
       "    </tr>\n",
       "    <tr>\n",
       "      <th>19</th>\n",
       "      <td>고양이 예능 몰아보기 | 고양이 산책</td>\n",
       "      <td>https://i.ytimg.com/vi/GVr7FyMwcN8/hq720.jpg?s...</td>\n",
       "      <td>1,547,040</td>\n",
       "    </tr>\n",
       "    <tr>\n",
       "      <th>20</th>\n",
       "      <td>아기고양이 발톱깎다 죽을뻔..심쿵사   | 고양이산책</td>\n",
       "      <td>https://i.ytimg.com/vi/TL83sKr86Eg/hq720.jpg?s...</td>\n",
       "      <td>319,896</td>\n",
       "    </tr>\n",
       "    <tr>\n",
       "      <th>21</th>\n",
       "      <td>고양이들이 냥아치라고 불리는 이유ㅋㅋㅋㅋㅋㅋㅋㅋㅋ인성 실화야!?!</td>\n",
       "      <td>https://i.ytimg.com/vi/JU9Yz8vaLz0/hq720.jpg?s...</td>\n",
       "      <td>340,078</td>\n",
       "    </tr>\n",
       "    <tr>\n",
       "      <th>22</th>\n",
       "      <td>고양이 절대 키우지 마세요 (입양 전 준비, 파양하는 이유)</td>\n",
       "      <td>https://i.ytimg.com/vi/rKh7LMjBz6g/hq720.jpg?s...</td>\n",
       "      <td>377,204</td>\n",
       "    </tr>\n",
       "    <tr>\n",
       "      <th>23</th>\n",
       "      <td>고양이는 왜 이럴까❓[Q&amp;A]...와 고양이 식탁교육</td>\n",
       "      <td>https://i.ytimg.com/vi/qVvVpm0JABU/hq720.jpg?s...</td>\n",
       "      <td>31,830</td>\n",
       "    </tr>\n",
       "    <tr>\n",
       "      <th>24</th>\n",
       "      <td>아기고양이의 30일간의 성장과정 | 고양이산책</td>\n",
       "      <td>https://i.ytimg.com/vi/fxPEXpqvF6I/hq720.jpg?s...</td>\n",
       "      <td>149,111</td>\n",
       "    </tr>\n",
       "    <tr>\n",
       "      <th>25</th>\n",
       "      <td>*실화* 죽은 척했더니 현관문 긁으면서 펑펑 우는 고양이 ㅠ</td>\n",
       "      <td>https://i.ytimg.com/vi/aJJ5D3Z7DpQ/hq720.jpg?s...</td>\n",
       "      <td>941,878</td>\n",
       "    </tr>\n",
       "    <tr>\n",
       "      <th>26</th>\n",
       "      <td>벽돌 속에 갇혀버린 아기고양이[고양이탐정]</td>\n",
       "      <td>https://i.ytimg.com/vi/icNLgCfvPXU/hq720.jpg?s...</td>\n",
       "      <td>2,497,179</td>\n",
       "    </tr>\n",
       "    <tr>\n",
       "      <th>27</th>\n",
       "      <td>몽유병이 있는 집사 곁에서 자는 고양이</td>\n",
       "      <td>https://i.ytimg.com/vi/_7qCL-7Cfmk/hq720.jpg?s...</td>\n",
       "      <td>151,232</td>\n",
       "    </tr>\n",
       "    <tr>\n",
       "      <th>28</th>\n",
       "      <td>새끼고양이와 이별을 받아 들이기 힘든 어미고양이</td>\n",
       "      <td>https://i.ytimg.com/vi/v5hUXycOlA8/hqdefault.j...</td>\n",
       "      <td>350</td>\n",
       "    </tr>\n",
       "    <tr>\n",
       "      <th>29</th>\n",
       "      <td>무릎 위에서 애교 부리는 고양이</td>\n",
       "      <td>https://i.ytimg.com/vi/hmYVuY7VDZc/hq720.jpg?s...</td>\n",
       "      <td>1,175,151</td>\n",
       "    </tr>\n",
       "    <tr>\n",
       "      <th>30</th>\n",
       "      <td>제발, 길고양이 좋아하는 사람만 클릭</td>\n",
       "      <td>https://i.ytimg.com/vi/UGYDJspVJqs/hq720.jpg?s...</td>\n",
       "      <td>1,657</td>\n",
       "    </tr>\n",
       "    <tr>\n",
       "      <th>31</th>\n",
       "      <td>[홍천 길고양이 겨울나기] 두번째 중성화 포획작전</td>\n",
       "      <td>https://i.ytimg.com/vi/AxUZrxovBoE/hq720.jpg?s...</td>\n",
       "      <td>2,433</td>\n",
       "    </tr>\n",
       "    <tr>\n",
       "      <th>32</th>\n",
       "      <td>시원하게 땀 빼고 먹는 츄르맛이 최고라는 찜질 고양이 선생ㅣCat Brothers ...</td>\n",
       "      <td>https://i.ytimg.com/vi/cmA2KSJUiEE/hq720.jpg?s...</td>\n",
       "      <td>723,212</td>\n",
       "    </tr>\n",
       "    <tr>\n",
       "      <th>33</th>\n",
       "      <td>[ENG]🐱 Can cats eat apples? Or not? // 고양이는 사과...</td>\n",
       "      <td>https://i.ytimg.com/vi/9MGp9TSCrdo/hq720.jpg?s...</td>\n",
       "      <td>891</td>\n",
       "    </tr>\n",
       "    <tr>\n",
       "      <th>34</th>\n",
       "      <td>쥐덫에 걸린 새끼 고양이가 서점에서 알바하는 이유ㅣThe Last Of A Cat ...</td>\n",
       "      <td>https://i.ytimg.com/vi/4--2O5LY04Q/hq720.jpg?s...</td>\n",
       "      <td>419,623</td>\n",
       "    </tr>\n",
       "    <tr>\n",
       "      <th>35</th>\n",
       "      <td>추운 겨울 집요하게 따라오는 새끼고양이 결국...</td>\n",
       "      <td>https://i.ytimg.com/vi/lqTj6nxKvUw/hq720.jpg?s...</td>\n",
       "      <td>1,446,520</td>\n",
       "    </tr>\n",
       "    <tr>\n",
       "      <th>36</th>\n",
       "      <td>이불 빨래의 정석을 보여주는 고양이 - 공장냥이들</td>\n",
       "      <td>https://i.ytimg.com/vi/CMxlR8MtZnw/hq720.jpg?s...</td>\n",
       "      <td>367</td>\n",
       "    </tr>\n",
       "    <tr>\n",
       "      <th>37</th>\n",
       "      <td>6분만에 알아보는 고양이에 대한 13가지 사실</td>\n",
       "      <td>https://i.ytimg.com/vi/drR7vZ-GGIM/hq720.jpg?s...</td>\n",
       "      <td>451,681</td>\n",
       "    </tr>\n",
       "    <tr>\n",
       "      <th>38</th>\n",
       "      <td>분명 어미 잃은 아기고양이를 입양했는데...얘 진짜 고양이 맞나요??</td>\n",
       "      <td>https://i.ytimg.com/vi/dLsIj8Q5cnE/hq720.jpg?s...</td>\n",
       "      <td>805,405</td>\n",
       "    </tr>\n",
       "    <tr>\n",
       "      <th>39</th>\n",
       "      <td>집사를 진짜 아빠로 생각하는 아기고양이</td>\n",
       "      <td>https://i.ytimg.com/vi/Jf4iLLf-l7Y/hq720.jpg?s...</td>\n",
       "      <td>608,302</td>\n",
       "    </tr>\n",
       "    <tr>\n",
       "      <th>40</th>\n",
       "      <td>이것은 고양인가 호랑인가? 지금까지 이런 고양이는 없었다! l 잔존 난소 중성화</td>\n",
       "      <td>https://i.ytimg.com/vi/pEJLOEUXfOs/hq720.jpg?s...</td>\n",
       "      <td>447,204</td>\n",
       "    </tr>\n",
       "    <tr>\n",
       "      <th>41</th>\n",
       "      <td>고양이와 집사만의 언어 야옹을 알아보자. 고양이의 시그니처 언어인 야옹을 알아보자.</td>\n",
       "      <td>https://i.ytimg.com/vi/WzPdq3tMMFs/hq720.jpg?s...</td>\n",
       "      <td>13,942</td>\n",
       "    </tr>\n",
       "    <tr>\n",
       "      <th>42</th>\n",
       "      <td>동물농장 ★인기 짱 고양이★ 고양이 최고야 고양이 사랑해 I TV동물농장 (Anim...</td>\n",
       "      <td>https://i.ytimg.com/vi/HP0a4pkXM3Q/hq720.jpg?s...</td>\n",
       "      <td>664,443</td>\n",
       "    </tr>\n",
       "    <tr>\n",
       "      <th>43</th>\n",
       "      <td>지문이 닳도록 빌며 살아야하는 고양이 집사의 삶</td>\n",
       "      <td>https://i.ytimg.com/vi/k1WYLdKJ_fM/hq720.jpg?s...</td>\n",
       "      <td>252,175</td>\n",
       "    </tr>\n",
       "    <tr>\n",
       "      <th>44</th>\n",
       "      <td>[TV 동물농장 레전드] ‘국밥집 아주머니를 지키는 고양이 보디가드 모자’ 풀버전 ...</td>\n",
       "      <td>https://i.ytimg.com/vi/3V8XdhcYL_E/hq720.jpg?s...</td>\n",
       "      <td>905,980</td>\n",
       "    </tr>\n",
       "    <tr>\n",
       "      <th>45</th>\n",
       "      <td>96화- 엄마냥의 교상 현재 상태, 마당고양이 가족, 아침 풍경, 딱따구리?</td>\n",
       "      <td>https://i.ytimg.com/vi/CyjyXe1Bgm0/hq720.jpg?s...</td>\n",
       "      <td>3,003</td>\n",
       "    </tr>\n",
       "    <tr>\n",
       "      <th>46</th>\n",
       "      <td>다홍애비 박수홍입니다 + 랜선집사님들 댓글 피드백</td>\n",
       "      <td>https://i.ytimg.com/vi/nPF4lB0p7Js/hq720.jpg?s...</td>\n",
       "      <td>158,877</td>\n",
       "    </tr>\n",
       "    <tr>\n",
       "      <th>47</th>\n",
       "      <td>아기처럼 안겨 네블라이져 받는 고양이</td>\n",
       "      <td>https://i.ytimg.com/vi/FEvA27kZk-A/hq720.jpg?s...</td>\n",
       "      <td>932,029</td>\n",
       "    </tr>\n",
       "    <tr>\n",
       "      <th>48</th>\n",
       "      <td>고양이가 거울 보고 엄청 신기해하네요 ㅎㅎ  | 고양이산책</td>\n",
       "      <td>https://i.ytimg.com/vi/VkhT5EGOh5w/hq720.jpg?s...</td>\n",
       "      <td>39,661</td>\n",
       "    </tr>\n",
       "    <tr>\n",
       "      <th>49</th>\n",
       "      <td>모래에 첫 응가를 하다 잠이 쏟아져 버린 아기고양이ㅠㅠ</td>\n",
       "      <td>https://i.ytimg.com/vi/iOqFyq-HxRo/hq720.jpg?s...</td>\n",
       "      <td>18,182</td>\n",
       "    </tr>\n",
       "    <tr>\n",
       "      <th>50</th>\n",
       "      <td>큰문을 한방에 여는 천재 길고양이</td>\n",
       "      <td>https://i.ytimg.com/vi/UV240Sp8Lbw/hqdefault.j...</td>\n",
       "      <td>4,190</td>\n",
       "    </tr>\n",
       "    <tr>\n",
       "      <th>51</th>\n",
       "      <td>고양이들끼리 난리났습니다.</td>\n",
       "      <td>https://i.ytimg.com/vi/APxhVr-DoHM/hq720.jpg?s...</td>\n",
       "      <td>149,328</td>\n",
       "    </tr>\n",
       "    <tr>\n",
       "      <th>52</th>\n",
       "      <td>(ENG) 한파에 똘똘 뭉치는 산골 고양이들(냥글냥글)</td>\n",
       "      <td>https://i.ytimg.com/vi/lIct6zdkDYg/hq720.jpg?s...</td>\n",
       "      <td>197,797</td>\n",
       "    </tr>\n",
       "    <tr>\n",
       "      <th>53</th>\n",
       "      <td>아기고양이가 박스안에 자꾸 들어가요  | 고양이산책</td>\n",
       "      <td>https://i.ytimg.com/vi/nc7RoOS-GTA/hq720.jpg?s...</td>\n",
       "      <td>48,371</td>\n",
       "    </tr>\n",
       "    <tr>\n",
       "      <th>54</th>\n",
       "      <td>고양이 극대노 샤우팅</td>\n",
       "      <td>https://i.ytimg.com/vi/LZSF_1HgCGc/hq720.jpg?s...</td>\n",
       "      <td>216,309</td>\n",
       "    </tr>\n",
       "  </tbody>\n",
       "</table>\n",
       "</div>"
      ],
      "text/plain": [
       "                                                 영상제목  \\\n",
       "0                              아직도 젖먹는 아기 고양이가 여기있어요!   \n",
       "1                                     고양이가 괴물을 만났습니다.   \n",
       "2                       그들의 첫 항문낭 짜기...... 충격적인 시간이었다   \n",
       "3                       간식 있는 척 장난 쳤더니 종 치면서 짜증내는 고양이   \n",
       "4                  구조한 길 고양이 금순이 입양 갔습니다. 최종 ep ㅣ 진돗개   \n",
       "5                  [삐약모음]자꾸 삐약! 삐약! 집사한테 말 거는 고양이 미루ㅎ   \n",
       "6                  식음 전폐의 상황에서 성공한 고양이 열마리 합사 2년간의 기록   \n",
       "7                          아! 진짜 강아지가 고양이로 환생한 것 같아요ㅋ   \n",
       "8                                장난감뱀에 진심인 고양이들 반응ㅋㅋㅋ   \n",
       "9          새해 맞이 강아지 고양이 형제 동시 목욕의 날 │이웃집의 백호│웰시코기 백호   \n",
       "10  [vlog] #먼치킨 #새끼고양이와 #포메라니안 강아지 같이 키우기 - 합사 첫날부...   \n",
       "11              고양이가 아플 때 보내는 신호는? | 집사, 고양이 건강을 지켜라!   \n",
       "12          미어cat이 된 고양이ㅣA Cat Wanted To Be A Meerkat   \n",
       "13                                   얼음 속 잉어를 노리는 고양이   \n",
       "14                       (홈트 방해냥) 고양이 때문에 운동하다 빵터짐ㅋㅋㅋ   \n",
       "15       추운겨울 전기장판에 누워 몸을 녹이는 아기 길고양이 stray cat house   \n",
       "16                   별나라 간 고양이가 보낸 선물이라고 반가워 난리 난 할매들   \n",
       "17                유기묘 보호소에서 분명 아기고양이를 입양했는데 강아지가 왔습니다   \n",
       "18                                 고양이에게 생선을 맡겨보았습니다!   \n",
       "19                               고양이 예능 몰아보기 | 고양이 산책   \n",
       "20                      아기고양이 발톱깎다 죽을뻔..심쿵사   | 고양이산책   \n",
       "21               고양이들이 냥아치라고 불리는 이유ㅋㅋㅋㅋㅋㅋㅋㅋㅋ인성 실화야!?!   \n",
       "22                  고양이 절대 키우지 마세요 (입양 전 준비, 파양하는 이유)   \n",
       "23                      고양이는 왜 이럴까❓[Q&A]...와 고양이 식탁교육   \n",
       "24                          아기고양이의 30일간의 성장과정 | 고양이산책   \n",
       "25                  *실화* 죽은 척했더니 현관문 긁으면서 펑펑 우는 고양이 ㅠ   \n",
       "26                            벽돌 속에 갇혀버린 아기고양이[고양이탐정]   \n",
       "27                              몽유병이 있는 집사 곁에서 자는 고양이   \n",
       "28                         새끼고양이와 이별을 받아 들이기 힘든 어미고양이   \n",
       "29                                  무릎 위에서 애교 부리는 고양이   \n",
       "30                               제발, 길고양이 좋아하는 사람만 클릭   \n",
       "31                        [홍천 길고양이 겨울나기] 두번째 중성화 포획작전   \n",
       "32  시원하게 땀 빼고 먹는 츄르맛이 최고라는 찜질 고양이 선생ㅣCat Brothers ...   \n",
       "33  [ENG]🐱 Can cats eat apples? Or not? // 고양이는 사과...   \n",
       "34  쥐덫에 걸린 새끼 고양이가 서점에서 알바하는 이유ㅣThe Last Of A Cat ...   \n",
       "35                        추운 겨울 집요하게 따라오는 새끼고양이 결국...   \n",
       "36                        이불 빨래의 정석을 보여주는 고양이 - 공장냥이들   \n",
       "37                          6분만에 알아보는 고양이에 대한 13가지 사실   \n",
       "38             분명 어미 잃은 아기고양이를 입양했는데...얘 진짜 고양이 맞나요??   \n",
       "39                              집사를 진짜 아빠로 생각하는 아기고양이   \n",
       "40       이것은 고양인가 호랑인가? 지금까지 이런 고양이는 없었다! l 잔존 난소 중성화   \n",
       "41     고양이와 집사만의 언어 야옹을 알아보자. 고양이의 시그니처 언어인 야옹을 알아보자.   \n",
       "42  동물농장 ★인기 짱 고양이★ 고양이 최고야 고양이 사랑해 I TV동물농장 (Anim...   \n",
       "43                         지문이 닳도록 빌며 살아야하는 고양이 집사의 삶   \n",
       "44  [TV 동물농장 레전드] ‘국밥집 아주머니를 지키는 고양이 보디가드 모자’ 풀버전 ...   \n",
       "45         96화- 엄마냥의 교상 현재 상태, 마당고양이 가족, 아침 풍경, 딱따구리?   \n",
       "46                        다홍애비 박수홍입니다 + 랜선집사님들 댓글 피드백   \n",
       "47                               아기처럼 안겨 네블라이져 받는 고양이   \n",
       "48                   고양이가 거울 보고 엄청 신기해하네요 ㅎㅎ  | 고양이산책   \n",
       "49                     모래에 첫 응가를 하다 잠이 쏟아져 버린 아기고양이ㅠㅠ   \n",
       "50                                 큰문을 한방에 여는 천재 길고양이   \n",
       "51                                     고양이들끼리 난리났습니다.   \n",
       "52                     (ENG) 한파에 똘똘 뭉치는 산골 고양이들(냥글냥글)   \n",
       "53                       아기고양이가 박스안에 자꾸 들어가요  | 고양이산책   \n",
       "54                                        고양이 극대노 샤우팅   \n",
       "\n",
       "                                                 영상주소         조회수  \n",
       "0   https://i.ytimg.com/vi/zdpORWFBObs/hq720.jpg?s...     271,854  \n",
       "1   https://i.ytimg.com/vi/1Tv3idOf8tE/hq720.jpg?s...      58,967  \n",
       "2   https://i.ytimg.com/vi/Qi5c4UGrl_E/hq720.jpg?s...      70,319  \n",
       "3   https://i.ytimg.com/vi/bQpHtHabTPQ/hq720.jpg?s...      24,200  \n",
       "4   https://i.ytimg.com/vi/JveHwI22PIY/hqdefault.j...       6,986  \n",
       "5   https://i.ytimg.com/vi/yrGbpikFHDI/hq720.jpg?s...      17,665  \n",
       "6   https://i.ytimg.com/vi/DMZ1KWiHCCk/hq720.jpg?s...      19,560  \n",
       "7   https://i.ytimg.com/vi/4BwNZSTHjCQ/hq720.jpg?s...     908,356  \n",
       "8   https://i.ytimg.com/vi/bxEq4zIyy0E/hq720.jpg?s...   6,124,025  \n",
       "9   https://i.ytimg.com/vi/vnz1Z4OgpLA/hq720.jpg?s...      25,231  \n",
       "10  https://i.ytimg.com/vi/jANE8lpoj2c/hq720.jpg?s...  35,260,295  \n",
       "11  https://i.ytimg.com/vi/JEBt-TbAcqs/hq720.jpg?s...      54,635  \n",
       "12  https://i.ytimg.com/vi/UOrIEf6PZsY/hq720.jpg?s...     237,050  \n",
       "13  https://i.ytimg.com/vi/moFB-j5iY2E/hq720.jpg?s...   9,796,081  \n",
       "14  https://i.ytimg.com/vi/J5P23ycOxWE/hq720.jpg?s...      70,780  \n",
       "15  https://i.ytimg.com/vi/WJNNDgEsuSo/hq720.jpg?s...       2,376  \n",
       "16  https://i.ytimg.com/vi/cYf3FLzOfdE/hqdefault.j...       1,741  \n",
       "17  https://i.ytimg.com/vi/kOLWRgdmcx8/hq720.jpg?s...   4,277,027  \n",
       "18  https://i.ytimg.com/vi/LVPAER7JBng/hq720.jpg?s...     369,119  \n",
       "19  https://i.ytimg.com/vi/GVr7FyMwcN8/hq720.jpg?s...   1,547,040  \n",
       "20  https://i.ytimg.com/vi/TL83sKr86Eg/hq720.jpg?s...     319,896  \n",
       "21  https://i.ytimg.com/vi/JU9Yz8vaLz0/hq720.jpg?s...     340,078  \n",
       "22  https://i.ytimg.com/vi/rKh7LMjBz6g/hq720.jpg?s...     377,204  \n",
       "23  https://i.ytimg.com/vi/qVvVpm0JABU/hq720.jpg?s...      31,830  \n",
       "24  https://i.ytimg.com/vi/fxPEXpqvF6I/hq720.jpg?s...     149,111  \n",
       "25  https://i.ytimg.com/vi/aJJ5D3Z7DpQ/hq720.jpg?s...     941,878  \n",
       "26  https://i.ytimg.com/vi/icNLgCfvPXU/hq720.jpg?s...   2,497,179  \n",
       "27  https://i.ytimg.com/vi/_7qCL-7Cfmk/hq720.jpg?s...     151,232  \n",
       "28  https://i.ytimg.com/vi/v5hUXycOlA8/hqdefault.j...         350  \n",
       "29  https://i.ytimg.com/vi/hmYVuY7VDZc/hq720.jpg?s...   1,175,151  \n",
       "30  https://i.ytimg.com/vi/UGYDJspVJqs/hq720.jpg?s...       1,657  \n",
       "31  https://i.ytimg.com/vi/AxUZrxovBoE/hq720.jpg?s...       2,433  \n",
       "32  https://i.ytimg.com/vi/cmA2KSJUiEE/hq720.jpg?s...     723,212  \n",
       "33  https://i.ytimg.com/vi/9MGp9TSCrdo/hq720.jpg?s...         891  \n",
       "34  https://i.ytimg.com/vi/4--2O5LY04Q/hq720.jpg?s...     419,623  \n",
       "35  https://i.ytimg.com/vi/lqTj6nxKvUw/hq720.jpg?s...   1,446,520  \n",
       "36  https://i.ytimg.com/vi/CMxlR8MtZnw/hq720.jpg?s...         367  \n",
       "37  https://i.ytimg.com/vi/drR7vZ-GGIM/hq720.jpg?s...     451,681  \n",
       "38  https://i.ytimg.com/vi/dLsIj8Q5cnE/hq720.jpg?s...     805,405  \n",
       "39  https://i.ytimg.com/vi/Jf4iLLf-l7Y/hq720.jpg?s...     608,302  \n",
       "40  https://i.ytimg.com/vi/pEJLOEUXfOs/hq720.jpg?s...     447,204  \n",
       "41  https://i.ytimg.com/vi/WzPdq3tMMFs/hq720.jpg?s...      13,942  \n",
       "42  https://i.ytimg.com/vi/HP0a4pkXM3Q/hq720.jpg?s...     664,443  \n",
       "43  https://i.ytimg.com/vi/k1WYLdKJ_fM/hq720.jpg?s...     252,175  \n",
       "44  https://i.ytimg.com/vi/3V8XdhcYL_E/hq720.jpg?s...     905,980  \n",
       "45  https://i.ytimg.com/vi/CyjyXe1Bgm0/hq720.jpg?s...       3,003  \n",
       "46  https://i.ytimg.com/vi/nPF4lB0p7Js/hq720.jpg?s...     158,877  \n",
       "47  https://i.ytimg.com/vi/FEvA27kZk-A/hq720.jpg?s...     932,029  \n",
       "48  https://i.ytimg.com/vi/VkhT5EGOh5w/hq720.jpg?s...      39,661  \n",
       "49  https://i.ytimg.com/vi/iOqFyq-HxRo/hq720.jpg?s...      18,182  \n",
       "50  https://i.ytimg.com/vi/UV240Sp8Lbw/hqdefault.j...       4,190  \n",
       "51  https://i.ytimg.com/vi/APxhVr-DoHM/hq720.jpg?s...     149,328  \n",
       "52  https://i.ytimg.com/vi/lIct6zdkDYg/hq720.jpg?s...     197,797  \n",
       "53  https://i.ytimg.com/vi/nc7RoOS-GTA/hq720.jpg?s...      48,371  \n",
       "54  https://i.ytimg.com/vi/LZSF_1HgCGc/hq720.jpg?s...     216,309  "
      ]
     },
     "execution_count": 32,
     "metadata": {},
     "output_type": "execute_result"
    }
   ],
   "source": [
    "df = DataFrame({\"영상제목\":title_l, \"영상주소\":mAddr_l, \"조회수\":view_l, \n",
    "                \"영상주소\":thumb_l})\n",
    "df"
   ]
  },
  {
   "cell_type": "code",
   "execution_count": 33,
   "metadata": {},
   "outputs": [],
   "source": [
    "df.to_csv('유튜브_영상정보.csv', encoding = 'utf-8-sig')"
   ]
  }
 ],
 "metadata": {
  "kernelspec": {
   "display_name": "Python 3",
   "language": "python",
   "name": "python3"
  },
  "language_info": {
   "codemirror_mode": {
    "name": "ipython",
    "version": 3
   },
   "file_extension": ".py",
   "mimetype": "text/x-python",
   "name": "python",
   "nbconvert_exporter": "python",
   "pygments_lexer": "ipython3",
   "version": "3.8.5"
  }
 },
 "nbformat": 4,
 "nbformat_minor": 4
}
