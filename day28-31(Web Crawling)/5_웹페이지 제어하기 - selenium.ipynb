{
 "cells": [
  {
   "cell_type": "markdown",
   "metadata": {},
   "source": [
    "## Selenium\n",
    "- 웹 페이지 자동화 테스트 도구\n",
    "- 웹 페이지 제어 (클릭, 스크롤, 입력) 하는 도구로 사용"
   ]
  },
  {
   "cell_type": "code",
   "execution_count": 5,
   "metadata": {},
   "outputs": [
    {
     "name": "stdout",
     "output_type": "stream",
     "text": [
      "Requirement already satisfied: selenium in c:\\users\\vdi02\\anaconda3\\lib\\site-packages (3.141.0)\n",
      "Requirement already satisfied: urllib3 in c:\\users\\vdi02\\anaconda3\\lib\\site-packages (from selenium) (1.25.11)\n"
     ]
    }
   ],
   "source": [
    "!pip install selenium"
   ]
  },
  {
   "cell_type": "code",
   "execution_count": 14,
   "metadata": {},
   "outputs": [],
   "source": [
    "import time # 딜레이를 사용하기 위한 라이브러리\n",
    "\n",
    "from bs4 import BeautifulSoup as bs\n",
    "from selenium import webdriver\n",
    "from selenium.webdriver.common.keys import Keys # 키보드를 제어하는 라이브러리"
   ]
  },
  {
   "cell_type": "code",
   "execution_count": 21,
   "metadata": {},
   "outputs": [],
   "source": [
    "# chromedriver.exe 파일을 제어하기 위해 driver 변수 저장\n",
    "driver = webdriver.Chrome()\n",
    "\n",
    "url = 'https://www.naver.com/'\n",
    "\n",
    "# get(url) : 제어할 웹 페이지 띄우는 함수\n",
    "driver.get(url)"
   ]
  },
  {
   "cell_type": "code",
   "execution_count": 10,
   "metadata": {},
   "outputs": [],
   "source": [
    "# 띄워진 브라우저 종료\n",
    "driver.quit()"
   ]
  },
  {
   "cell_type": "code",
   "execution_count": 9,
   "metadata": {},
   "outputs": [],
   "source": [
    "# 검색창 요소에 접근 --> 보낼 검색어 입력\n",
    "driver.find_element_by_css_selector('#query').send_keys('펭수\\n')"
   ]
  },
  {
   "cell_type": "code",
   "execution_count": 3,
   "metadata": {},
   "outputs": [],
   "source": [
    "driver.find_element_by_css_selector('#query').send_keys('펭수')\n",
    "# 검색버튼 클릭\n",
    "driver.find_element_by_css_selector('#search_btn').click()"
   ]
  },
  {
   "cell_type": "code",
   "execution_count": 8,
   "metadata": {},
   "outputs": [],
   "source": [
    "# 스크롤 제어\n",
    "# - 아래키, 스페이스바, end키, page down키\n",
    "driver.find_element_by_css_selector('body').send_keys(Keys.ARROW_DOWN)"
   ]
  },
  {
   "cell_type": "code",
   "execution_count": 9,
   "metadata": {},
   "outputs": [],
   "source": [
    "driver.find_element_by_css_selector('body').send_keys(Keys.SPACE)"
   ]
  },
  {
   "cell_type": "code",
   "execution_count": 13,
   "metadata": {},
   "outputs": [],
   "source": [
    "driver.find_element_by_css_selector('body').send_keys(Keys.PAGE_DOWN)"
   ]
  },
  {
   "cell_type": "code",
   "execution_count": 10,
   "metadata": {},
   "outputs": [],
   "source": [
    "driver.find_element_by_css_selector('body').send_keys(Keys.END)"
   ]
  },
  {
   "cell_type": "markdown",
   "metadata": {},
   "source": [
    "## 횟수를 지정하여 스크롤 제어"
   ]
  },
  {
   "cell_type": "code",
   "execution_count": 25,
   "metadata": {},
   "outputs": [],
   "source": [
    "for i in range(100) :\n",
    "    driver.find_element_by_css_selector('body').send_keys(Keys.PAGE_DOWN)\n",
    "    time.sleep(2)"
   ]
  },
  {
   "cell_type": "markdown",
   "metadata": {},
   "source": [
    "## 한솥도시락 메뉴/가격 수집\n",
    "- 메뉴, 가격을 csv파일로 저장"
   ]
  },
  {
   "cell_type": "code",
   "execution_count": 39,
   "metadata": {},
   "outputs": [],
   "source": [
    "driver = webdriver.Chrome()\n",
    "\n",
    "url = 'https://www.hsd.co.kr/menu/menu_list'\n",
    "\n",
    "driver.get(url)"
   ]
  },
  {
   "cell_type": "code",
   "execution_count": 40,
   "metadata": {},
   "outputs": [],
   "source": [
    "# '더보기' 버튼 3번 클릭하기\n",
    "for i in range(3) :\n",
    "    driver.find_element_by_css_selector('a.c_05').click()\n",
    "    time.sleep(1) # 바로 다 요청하면 못할 수 있으니 텀을 준다"
   ]
  },
  {
   "cell_type": "code",
   "execution_count": 41,
   "metadata": {},
   "outputs": [
    {
     "data": {
      "text/plain": [
       "'<html lang=\"ko\"><head>\\n    <meta http-equiv=\"Content-Type\" content=\"text/html; charset=utf-8\">\\n    <meta http-equiv=\"X-UA-Compatible\" content=\"IE=edge\">\\n    <meta name=\"viewport\" content=\"width=device-width,initial-scale=1.0,minimum-scale=1.0,maximum-scale=1.0,user-scalable=no\">\\n\\n    <!-- SNS LINK -->\\n    <meta property=\"og:type\" content=\"website\">\\n    <meta property=\"og:title\" content=\"\">\\n    <meta property=\"og:url\" content=\"\">\\n    <meta property=\"og:image\" content=\"\">\\n    <meta property=\"og:description\" content=\"\">\\n    <!--// SNS LINK -->\\n\\n    <meta name=\"_csrf_parameter\" content=\"_csrf\"><meta name=\"_csrf_header\" content=\"X-CSRF-TOKEN\"><meta name=\"_csrf\" content=\"c5b4d1ee-640a-4b46-ad49-f93e1fda9ace\"><title>전체메뉴 &gt; 한솥 메뉴</title>\\n\\n    <link rel=\"icon\" href=\"/assets/images/common/favicon.ico\" type=\"image/x-icon\">\\n\\n<link rel=\"stylesheet\" type=\"text/css\" href=\"/assets/css/ui.common.css\">\\n<link rel=\"stylesheet\" type=\"text/css\" href=\"/assets/css/swiper.min.css\">\\n<!--[if gte IE 9 ]><link rel=\"stylesheet\" href=\"/assets/css/ui.ie9.css\" type=\"text/css\" /><![endif]-->\\n\\n<style>\\n    .file_input {\\n        font-size:45px;\\n        position:absolute;\\n        top:0;\\n        right:0;\\n        bottom:0;\\n        left:0;\\n        margin:0;\\n        padding:0;\\n        border:0;\\n        z-index:-1;\\n        opacity: 0;\\n        filter: alpha(opacity=0);\\n        -ms-filter: \"alpha(opacity=0)\";\\n        -khtml-opacity:0;\\n        -moz-opacity:0;\\n    }\\n</style>\\n\\n<script type=\"text/javascript\" async=\"\" src=\"https://www.google-analytics.com/plugins/ua/ec.js\"></script><script type=\"text/javascript\" async=\"\" src=\"https://www.google-analytics.com/analytics.js\"></script><script type=\"text/javascript\" async=\"\" src=\"https://www.googleadservices.com/pagead/conversion_async.js\"></script><script type=\"text/javascript\" async=\"\" src=\"https://www.googletagmanager.com/gtag/js?id=UA-109125197-1&amp;l=dataLayer&amp;cx=c\"></script><script type=\"text/javascript\" async=\"\" src=\"https://www.googletagmanager.com/gtag/js?id=AW-864658366&amp;l=dataLayer&amp;cx=c\"></script><script type=\"text/javascript\" async=\"\" src=\"https://www.google-analytics.com/analytics.js\"></script><script src=\"https://connect.facebook.net/signals/config/241666853119648?v=2.9.33&amp;r=stable\" async=\"\"></script><script async=\"\" src=\"https://connect.facebook.net/en_US/fbevents.js\"></script><script type=\"text/javascript\" src=\"/assets/js/jquery-1.12.4.min.js\"></script>\\n<script type=\"text/javascript\" src=\"/assets/js/jquery-ui-1.12.1.min.js\"></script>\\n<script type=\"text/javascript\" src=\"/assets/js/jquery.easing.1.3.js\"></script>\\n<script type=\"text/javascript\" src=\"/assets/js/jquery.cookie.js\"></script>\\n<script type=\"text/javascript\" src=\"/assets/js/ui.common.js\"></script>\\n<script type=\"text/javascript\" src=\"/assets/js/swiper.jquery.min.js\"></script>\\n<script type=\"text/javascript\" src=\"/assets/js/TweenMax.min.js\"></script>\\n\\n<script type=\"text/javascript\" src=\"/assets/js/tss.js\"></script>\\n<script type=\"text/javascript\" src=\"/assets/js/tss.util.js\"></script>\\n\\n<!-- validatation check -->\\n<script type=\"text/javascript\" src=\"/assets/js/validation/jquery.validate.min.js\"></script>\\n<script type=\"text/javascript\" src=\"/assets/js/validation/messages_ko.min.js\"></script>\\n<script type=\"text/javascript\" src=\"/assets/js/validate.js\"></script>\\n\\n<!-- fileupload -->\\n<script type=\"text/javascript\" src=\"/assets/js/fileupload/jquery.iframe-transport.js\"></script>\\n<script type=\"text/javascript\" src=\"/assets/js/fileupload/jquery.fileupload.js\"></script>\\n\\n<script type=\"text/javascript\" src=\"/assets/js/hansot.common.js\"></script>\\n\\n<!-- naver map api\\n<script type=\"text/javascript\" src=\"https://openapi.map.naver.com/openapi/v3/maps.js?clientId=1MATn4mHBIsSKNHepOXg&submodules=geocoder\"></script>\\n-->\\n<script type=\"text/javascript\" src=\"https://openapi.map.naver.com/openapi/v3/maps.js?ncpClientId=azbg6j3r3x\"></script>\\n\\n\\n<!-- moment js api -->\\n<script type=\"text/javascript\" src=\"/assets/js/moment.js\"></script>\\n<!-- lodash js api -->\\n<script type=\"text/javascript\" src=\"https://cdn.jsdelivr.net/npm/lodash@4.17.4/lodash.min.js\"></script>\\n\\n<script>\\n    $(function () {\\n        var token = $(\"meta[name=\\'_csrf\\']\").attr(\\'content\\');\\n        var header = \"X-CSRF-TOKEN\";\\n        $(document).ajaxSend(function(event, xhr, options) {\\n            xhr.setRequestHeader(header, token);\\n        });\\n        $(document).ajaxError(function(event, xhr, options) {\\n            if(xhr.status === 401) {\\n                console.log(xhr);\\n                if(tss.util.confirm(\\'로그인이 필요합니다.\\')) {\\n                    tss.util.auth();\\n                }\\n            }\\n            if(xhr.status === 500 || xhr.status === 400) {\\n                console.log(\"오류가 발생했습니다.\");\\n            }\\n        });\\n    });\\n</script>\\n<script type=\"text/javascript\">\\n    </script>\\n\\n    \\n\\n    <link rel=\"stylesheet\" type=\"text/css\" href=\"/assets/css/ui.menu.css\">\\n    <link rel=\"stylesheet\" type=\"text/css\" href=\"/assets/css/jquery.mCustomScrollbar.min.css\">\\n    <script type=\"text/javascript\" src=\"/assets/js/jquery.mCustomScrollbar.concat.min.js\"></script>\\n\\n    <!-- Global site tag (gtag.js) - Google Analytics -->\\n    <script async=\"\" src=\"https://www.googletagmanager.com/gtag/js?id=UA-43326926-1\"></script>\\n    <script>\\n      window.dataLayer = window.dataLayer || [];\\n      function gtag(){dataLayer.push(arguments);}\\n      gtag(\\'js\\', new Date());\\n\\n      gtag(\\'config\\', \\'UA-43326926-1\\');\\n\\n\\t  gtag(\\'event\\', \\'view_item_list\\', {\\'event_category\\' : \\'engagement\\',});\\n    </script>\\n\\n    <!-- Global site tag (gtag.js) - AdWords: 864658366 -->\\n    <script async=\"\" src=\"https://www.googletagmanager.com/gtag/js?id=AW-864658366\"></script>\\n    <script>\\n      window.dataLayer = window.dataLayer || [];\\n      function gtag(){dataLayer.push(arguments);}\\n      gtag(\\'js\\', new Date());\\n\\n      gtag(\\'config\\', \\'AW-864658366\\');\\n    </script>\\n\\n    <!-- kakao pixcel -->\\n    <script type=\"text/javascript\" charset=\"UTF-8\" src=\"//t1.daumcdn.net/adfit/static/kp.js\"></script>\\n    <script type=\"text/javascript\">\\n    kakaoPixel(\\'5575357302971415199\\').pageView();\\n    </script>\\n\\n    <!-- Facebook Pixel Code -->\\n    <script>\\n    !function(f,b,e,v,n,t,s)\\n    {if(f.fbq)return;n=f.fbq=function(){n.callMethod?\\n    n.callMethod.apply(n,arguments):n.queue.push(arguments)};\\n    if(!f._fbq)f._fbq=n;n.push=n;n.loaded=!0;n.version=\\'2.0\\';\\n    n.queue=[];t=b.createElement(e);t.async=!0;\\n    t.src=v;s=b.getElementsByTagName(e)[0];\\n    s.parentNode.insertBefore(t,s)}(window,document,\\'script\\',\\n    \\'https://connect.facebook.net/en_US/fbevents.js\\');\\n    fbq(\\'init\\', \\'241666853119648\\');\\n    fbq(\\'track\\', \\'PageView\\');\\n    </script>\\n    <noscript>\\n    <img height=\"1\" width=\"1\" src=\"https://www.facebook.com/tr?id=241666853119648&ev=PageView&noscript=1\"/>\\n    </noscript>\\n    <!-- End Facebook Pixel Code -->\\n\\n\\n<script src=\"https://googleads.g.doubleclick.net/pagead/viewthroughconversion/864658366/?random=1612158083765&amp;cv=9&amp;fst=1612158083765&amp;num=1&amp;bg=ffffff&amp;guid=ON&amp;resp=GooglemKTybQhCsO&amp;u_h=1080&amp;u_w=1920&amp;u_ah=1040&amp;u_aw=1920&amp;u_cd=24&amp;u_his=2&amp;u_tz=540&amp;u_java=false&amp;u_nplug=3&amp;u_nmime=4&amp;gtm=2oa1k0&amp;sendb=1&amp;ig=1&amp;data=event%3Dgtag.config&amp;frm=0&amp;url=https%3A%2F%2Fwww.hsd.co.kr%2Fmenu%2Fmenu_list&amp;tiba=%EC%A0%84%EC%B2%B4%EB%A9%94%EB%89%B4%20%3E%20%ED%95%9C%EC%86%A5%20%EB%A9%94%EB%89%B4&amp;hn=www.googleadservices.com&amp;async=1&amp;rfmt=3&amp;fmt=4\"></script></head>\\n<body ontouchstart=\"\">\\n<!-- wrap s -->\\n<div id=\"wrap\" class=\"\">\\n    <!-- inc header s -->\\n    <!-- header -->\\n<header id=\"header\" style=\"height: 0px;\">\\n    <!-- header flex-->\\n    <div class=\"hd_flex\">\\n        <div class=\"area_flex\">\\n            <ul>\\n                <li>\\n                    <a href=\"/login\">로그인</a>\\n                    </li>\\n                <li>\\n                    <a href=\"/join/join_step1\">회원가입</a>\\n                    </li>\\n                <li class=\"sns_insta\">\\n                    <a href=\"https://www.instagram.com/hansot_official/\" target=\"_blank\" title=\"새 창 열림\"><span class=\"blind\">instagram</span></a>\\n                </li>\\n                <li class=\"sns_face\">\\n                    <a href=\"https://www.facebook.com/hansotOfficial/?ref=ts&amp;fref=ts\" target=\"_blank\" title=\"새 창 열림\"><span class=\"blind\">facebook</span></a>\\n                </li>\\n            </ul>\\n        </div>\\n    </div>\\n    <!-- //header flex -->\\n\\n    <!-- header content -->\\n    <div class=\"hd_fixed\" style=\"height: 0px; display: none;\">\\n        <div class=\"hd_content\">\\n            <div class=\"logo\">\\n                <h1><a href=\"/\"><span class=\"blind\">한솥</span></a></h1>\\n            </div>\\n            <!-- gnb -->\\n            <section id=\"gnb\" class=\"area_gnb mo_version\">\\n                <!-- 모바일 로그인/회원가입 -->\\n                <div class=\"m_area_flex\">\\n                    <ul>\\n                        <li>\\n                            <a href=\"/login\">로그인</a>\\n                            </li>\\n                        <li>\\n                            <a href=\"/join/join_step1\">회원가입</a>\\n                            </li>\\n                    </ul>\\n                </div>\\n                <!-- //모바일 로그인/회원가입 -->\\n\\n                <div class=\"gnb_menu\">\\n                    <ul>\\n                        <li class=\"dp1\">\\n                            <p class=\"dp1_tit\"><a href=\"#none\">BRAND</a></p>\\n                            <div class=\"dp2\">\\n                                <ul>\\n                                    <li class=\"\"><a href=\"/brand/story\">브랜드 스토리</a></li>\\n                                    <li><a href=\"/brand/philosophy\">브랜드 철학</a></li>\\n                                    <li><a href=\"/brand/legacy\">브랜드 유산</a></li>\\n                                    </ul>\\n                            </div>\\n                        </li>\\n                        <li class=\"dp1\">\\n                            <p class=\"dp1_tit\"><a href=\"#none\">ESG</a></p>\\n                            <div class=\"dp2\">\\n                                <ul>\\n                                    <li class=\"\"><a href=\"/esg/management\">ESG경영이란?</a></li>\\n                                    <li><a href=\"/esg/environment\">환경보호(Environment)</a></li>\\n                                    <li><a href=\"/hansot/social\">사회공헌(Social)</a></li>\\n                                    <li><a href=\"/esg/management\">윤리경영(Governance)</a></li>\\n                                    <li><a href=\"/esg/sdgs\">세계 40대 브랜드 선정</a></li>\\n\\n                                    </ul>\\n                            </div>\\n                        </li>\\n                        <li class=\"dp1\">\\n                            <p class=\"dp1_tit\"><a href=\"#none\">MENU</a></p>\\n                            <div class=\"dp2\">\\n                                <ul>\\n                                    <li><a href=\"/menu/menu_list\">전체메뉴</a></li>\\n                                    <li><a href=\"/menu/material\">식재료 이야기</a></li>\\n                                    <li><a href=\"/menu/chancha\">페루찬차마요커피</a></li>\\n                                    <li><a href=\"/menu/menu_order\">단체 주문</a></li>\\n                                </ul>\\n                            </div>\\n                        </li>\\n                        <li class=\"dp1\">\\n                            <p class=\"dp1_tit\"><a href=\"#none\">STORE</a></p>\\n                            <div class=\"dp2\">\\n                                <ul>\\n                                    <li><a href=\"/store/store_find\">주변점포찾기</a></li>\\n                                </ul>\\n                            </div>\\n                        </li>\\n                        <li class=\"dp1\">\\n                            <p class=\"dp1_tit\"><a href=\"#none\">EVENT</a></p>\\n                            <div class=\"dp2\">\\n                                <ul>\\n                                    <li><a href=\"/event/event_list\">이 달의 이벤트</a></li>\\n                                    <li><a href=\"/event/store_event_list\">신규점 오픈이벤트</a></li>\\n                                </ul>\\n                            </div>\\n                        </li>\\n                        <li class=\"dp1\">\\n                            <p class=\"dp1_tit\"><a href=\"#none\">FRANCHISE</a></p>\\n                            <div class=\"dp2\">\\n                                <ul>\\n                                    <li><a href=\"/franchise/hansot_store\">Why 한솥 가맹점</a></li>\\n                                    <li><a href=\"/franchise/success\">성공수기</a></li>\\n                                    <li><a href=\"/franchise/process\">창업개설절차</a></li>\\n                                    <li><a href=\"/franchise/calc\">예상 창업 비용</a></li>\\n                                    <li><a href=\"/franchise/qna\">창업문의</a></li>\\n                                    <li><a href=\"/franchise/briefing\">창업설명회 일정·신청</a></li>\\n                                </ul>\\n                            </div>\\n                        </li>\\n                        <li class=\"dp1\">\\n                            <p class=\"dp1_tit\"><a href=\"#none\">HANSOT</a></p>\\n                            <div class=\"dp2\">\\n                                <ul>\\n                                    <li><a href=\"/hansot/promise\">한솥의 약속</a></li>\\n                                    <li><a href=\"/hansot/vision\">한솥의 비전</a></li>\\n                                    <li><a href=\"/hansot/history\">연혁&amp;수상</a></li>\\n                                    <li><a href=\"/hansot/news_list\">한솥 NEWS</a></li>\\n                                    <li><a href=\"/hansot/location\">오시는 길</a></li>\\n                                    <li><a href=\"/footer/faq_list\">고객센터</a></li>\\n                                    <li class=\"h_last\"><a href=\"/footer/incruit\">인재채용</a></li>\\n                                </ul>\\n                            </div>\\n                        </li>\\n                    </ul>\\n                </div>\\n            </section>\\n            <!--// gnb -->\\n            <!-- pc:bg -->\\n            <div class=\"bg_layer\" style=\"opacity: 0; height: 0px;\"></div>\\n            <!-- //pc:bg -->\\n            <!-- mobile_btn -->\\n            <div class=\"mobile_menu_btn\">\\n                <div class=\"hamburger\" id=\"hamburger-6\">\\n                    <span class=\"line\"></span>\\n                    <span class=\"line\"></span>\\n                    <span class=\"line\"></span>\\n                </div>\\n            </div>\\n            <!-- //mobile_btn -->\\n        </div>\\n        <!--// header content -->\\n    </div>\\n</header>\\n<!--// header -->\\n\\n<!--// inc header e -->\\n\\n    <!-- popup -->\\n<!-- container s -->\\n    <div id=\"container\" class=\"sub_page\">\\n        \\n<div class=\"content menu\">\\n    <section class=\"menu_all\">\\n        <!-- 한솥 메뉴 -->\\n        <div class=\"menu_all_wrap tab_st01\">\\n            <!-- title -->\\n            <div class=\"title\">\\n                <h2 class=\"h2_tit h2_02\">한솥 메뉴</h2>\\n                <div class=\"tab_wrap\">\\n                    <ul class=\"tab_menu col_02\">\\n                        <li class=\"active\"><a href=\"#none\">전체메뉴</a></li>\\n                        <li><a href=\"/menu/menu_keyword\">추천 키워드</a></li>\\n                    </ul>\\n                </div>\\n            </div>\\n            <!-- //title -->\\n            <!-- 메뉴 cont-->\\n            <div class=\"hansot_menu\">\\n                <!-- pc:left -->\\n                <div class=\"left_wrap\">\\n                    <!-- lnb -->\\n                    <div class=\"lnb\">\\n                        <div class=\"lnb_inner mCustomScrollbar _mCS_1 mCS-autoHide mCS_no_scrollbar\" style=\"position: relative; overflow: visible;\"><div id=\"mCSB_1\" class=\"mCustomScrollBox mCS-minimal-dark mCSB_vertical mCSB_outside\" style=\"max-height: none;\" tabindex=\"0\"><div id=\"mCSB_1_container\" class=\"mCSB_container mCS_y_hidden mCS_no_scrollbar_y\" style=\"position:relative; top:0; left:0;\" dir=\"ltr\">\\n                            <ul>\\n                                <!-- 전체보기 -->\\n                                <li class=\"dp1 dp_all active\">\\n                                    <p class=\"dp1_tit\"><a href=\"#none\" onclick=\"allMenu();return false;\">전체보기</a></p>\\n                                </li>\\n                                <!-- //전체보기 -->\\n                                <li class=\"dp1 \" id=\"cate_2\" idx=\"2\">\\n                                    <p class=\"dp1_tit\"><a href=\"#none\" onclick=\"return false;\">프리미엄·고메이</a></p>\\n                                    <div class=\"dp2\">\\n                                        <ul>\\n                                            <li id=\"child_24\"><a href=\"#none\" onclick=\"showMenuList(\\'2\\', \\'24\\');return false;\">프리미엄</a></li>\\n                                            <li id=\"child_28\"><a href=\"#none\" onclick=\"showMenuList(\\'2\\', \\'28\\');return false;\">고메이</a></li>\\n                                            </ul>\\n                                    </div>\\n                                    </li>\\n                                <li class=\"dp1 \" id=\"cate_3\" idx=\"3\">\\n                                    <p class=\"dp1_tit\"><a href=\"#none\" onclick=\"return false;\">사각도시락</a></p>\\n                                    <div class=\"dp2\">\\n                                        <ul>\\n                                            <li id=\"child_9\"><a href=\"#none\" onclick=\"showMenuList(\\'3\\', \\'9\\');return false;\">고기고기시리즈</a></li>\\n                                            <li id=\"child_10\"><a href=\"#none\" onclick=\"showMenuList(\\'3\\', \\'10\\');return false;\">모둠시리즈</a></li>\\n                                            <li id=\"child_44\"><a href=\"#none\" onclick=\"showMenuList(\\'3\\', \\'44\\');return false;\">밥</a></li>\\n                                            </ul>\\n                                    </div>\\n                                    </li>\\n                                <li class=\"dp1 \" id=\"cate_4\" idx=\"4\">\\n                                    <p class=\"dp1_tit\"><a href=\"#none\" onclick=\"return false;\">보울도시락</a></p>\\n                                    <div class=\"dp2\">\\n                                        <ul>\\n                                            <li id=\"child_12\"><a href=\"#none\" onclick=\"showMenuList(\\'4\\', \\'12\\');return false;\">마요</a></li>\\n                                            <li id=\"child_13\"><a href=\"#none\" onclick=\"showMenuList(\\'4\\', \\'13\\');return false;\">카레</a></li>\\n                                            <li id=\"child_14\"><a href=\"#none\" onclick=\"showMenuList(\\'4\\', \\'14\\');return false;\">볶음밥</a></li>\\n                                            <li id=\"child_15\"><a href=\"#none\" onclick=\"showMenuList(\\'4\\', \\'15\\');return false;\">프리미엄 찌개/탕</a></li>\\n                                            <li id=\"child_16\"><a href=\"#none\" onclick=\"showMenuList(\\'4\\', \\'16\\');return false;\">덮밥</a></li>\\n                                            <li id=\"child_17\"><a href=\"#none\" onclick=\"showMenuList(\\'4\\', \\'17\\');return false;\">비빔밥</a></li>\\n                                            <li id=\"child_32\"><a href=\"#none\" onclick=\"showMenuList(\\'4\\', \\'32\\');return false;\">어린이도시락</a></li>\\n                                            </ul>\\n                                    </div>\\n                                    </li>\\n                                <li class=\"dp1 \" id=\"cate_5\" idx=\"5\">\\n                                    <p class=\"dp1_tit\"><a href=\"#none\" onclick=\"return false;\">실속반찬/사이드</a></p>\\n                                    <div class=\"dp2\">\\n                                        <ul>\\n                                            <li id=\"child_18\"><a href=\"#none\" onclick=\"showMenuList(\\'5\\', \\'18\\');return false;\">실속반찬</a></li>\\n                                            <li id=\"child_19\"><a href=\"#none\" onclick=\"showMenuList(\\'5\\', \\'19\\');return false;\">스낵 시리즈</a></li>\\n                                            <li id=\"child_20\"><a href=\"#none\" onclick=\"showMenuList(\\'5\\', \\'20\\');return false;\">쉐이크샐러드</a></li>\\n                                            <li id=\"child_21\"><a href=\"#none\" onclick=\"showMenuList(\\'5\\', \\'21\\');return false;\">간식안주 시리즈</a></li>\\n                                            <li id=\"child_22\"><a href=\"#none\" onclick=\"showMenuList(\\'5\\', \\'22\\');return false;\">미니반찬</a></li>\\n                                            </ul>\\n                                    </div>\\n                                    </li>\\n                                </ul>\\n                        </div></div><div id=\"mCSB_1_scrollbar_vertical\" class=\"mCSB_scrollTools mCSB_1_scrollbar mCS-minimal-dark mCSB_scrollTools_vertical\" style=\"display: none;\"><div class=\"mCSB_draggerContainer\"><div id=\"mCSB_1_dragger_vertical\" class=\"mCSB_dragger\" style=\"position: absolute; min-height: 50px; height: 0px; top: 0px;\"><div class=\"mCSB_dragger_bar\" style=\"line-height: 50px;\"></div></div><div class=\"mCSB_draggerRail\"></div></div></div></div>\\n                        <!-- mobile_close -->\\n                        <div class=\"lnb_btn_close\">\\n                            <a href=\"#none\"><span class=\"blind\">close</span></a>\\n                        </div>\\n                        <!-- ///mobile_close -->\\n                    </div>\\n                    <!-- //lnb -->\\n                    <!-- mobile dim -->\\n                    <div class=\"dim\"></div>\\n                    <!-- mobile dim -->\\n                    <!-- mobile -->\\n                    <div class=\"mo_title mo_version\">\\n                        <h3 class=\"h3_tit\"><span>전체보기</span></h3>\\n                        <div class=\"lnb_btn\">\\n                            <a href=\"#none\"><span>목록</span></a>\\n                        </div>\\n                    </div>\\n                    <!-- mobile -->\\n                    <!-- banner -->\\n                    <div class=\"mo_banner mo_version\">\\n                        <a href=\"https://www.hsd.co.kr/menu/menu_order\"><img src=\"https://www.hsd.co.kr/images/3bb400c5d0964ce3b4a624080244ad6620201018063629.jpg\" alt=\"banner\"></a>\\n                        </div>\\n                    <!-- //banner -->\\n                    <!-- 키워드 -->\\n                    <div class=\"keyword mo_version\">\\n                        <h3 class=\"h3_tit\">\\n                            당신을 위한 <em class=\"emphasis\">#추천 키워드</em>\\n                        </h3>\\n                        <ul>\\n                            </ul>\\n                    </div>\\n                    <!-- //키워드 -->\\n                </div>\\n                <!-- //pc:left -->\\n                <!-- menu_list -->\\n                <div class=\"menu_list_wrap\">\\n                    <div id=\"menu_cont\"><div class=\"list_wrap\" id=\"catelist_24\">    <p class=\"dp\">프리미엄·고메이</p>    <h3 class=\"h3_tit fz_01\">프리미엄</h3>    <ul class=\"menu_cont\">        <li class=\"item\" id=\"menuList_101\">            <div class=\"item-spacer\">                <a href=\"javascript:;\" onclick=\"goDetail(\\'2\\', \\'24\\', \\'101\\')\" class=\"item-cont\"></a>                <div class=\"item-img\">                    <img src=\"https://www.hsd.co.kr/images/3d24907868ce48bb8fdc85daf33c2eda20201229113940.jpg\" alt=\"매화(치킨, 연어구이)\">                </div>                <div class=\"item-text\">                    <h4 class=\"h fz_03\">매화(치킨, 연어구이)</h4>                    <div class=\"item-price\">                        <span class=\"blind\">가격: </span><strong>10,000</strong>원                    </div>                </div>            </div>        </li>        <li class=\"item\" id=\"menuList_4\">            <div class=\"item-spacer\">                <a href=\"javascript:;\" onclick=\"goDetail(\\'2\\', \\'24\\', \\'4\\')\" class=\"item-cont\"></a>                <div class=\"item-img\">                    <img src=\"https://www.hsd.co.kr/images/345ad06913694e6c95e236e61ac04e7420201229113859.jpg\" alt=\"매화 (순살 고등어 간장구이)\">                </div>                <div class=\"item-text\">                    <h4 class=\"h fz_03\">매화 (순살 고등어 간장구이)</h4>                    <div class=\"item-price\">                        <span class=\"blind\">가격: </span><strong>10,000</strong>원                    </div>                </div>            </div>        </li>        <li class=\"item\" id=\"menuList_6\">            <div class=\"item-spacer\">                <a href=\"javascript:;\" onclick=\"goDetail(\\'2\\', \\'24\\', \\'6\\')\" class=\"item-cont\"></a>                <div class=\"item-img\">                    <img src=\"https://www.hsd.co.kr/images/b34ffd507b0b46e6b1a776c73c69347e20201229114007.jpg\" alt=\"진달래\">                </div>                <div class=\"item-text\">                    <h4 class=\"h fz_03\">진달래</h4>                    <div class=\"item-price\">                        <span class=\"blind\">가격: </span><strong>7,000</strong>원                    </div>                </div>            </div>        </li>        <li class=\"item\" id=\"menuList_5\">            <div class=\"item-spacer\">                <a href=\"javascript:;\" onclick=\"goDetail(\\'2\\', \\'24\\', \\'5\\')\" class=\"item-cont\"></a>                <div class=\"item-img\">                    <img src=\"https://www.hsd.co.kr/images/cb73c405c8f84d0db0a599bc2058b58c20201230052007.jpg\" alt=\"개나리(순살 고등어 간장구이)\">                </div>                <div class=\"item-text\">                    <h4 class=\"h fz_03\">개나리(순살 고등어 간장구이)</h4>                    <div class=\"item-price\">                        <span class=\"blind\">가격: </span><strong>8,000</strong>원                    </div>                </div>            </div>        </li>    </ul></div><div class=\"list_wrap\" id=\"catelist_28\">    <p class=\"dp\">프리미엄·고메이</p>    <h3 class=\"h3_tit fz_01\">고메이</h3>    <ul class=\"menu_cont\">    </ul></div><div class=\"list_wrap\" id=\"catelist_9\">    <p class=\"dp\">사각도시락</p>    <h3 class=\"h3_tit fz_01\">고기고기시리즈</h3>    <ul class=\"menu_cont\">        <li class=\"item\" id=\"menuList_243\">            <div class=\"item-spacer\">                <a href=\"javascript:;\" onclick=\"goDetail(\\'3\\', \\'9\\', \\'243\\')\" class=\"item-cont\"></a>                <div class=\"item-img\">                    <img src=\"https://www.hsd.co.kr/images/ca22117373b34feab965086a0def2ab120201229125311.jpg\" alt=\"생선까스도련님고기고기\">                </div>                <div class=\"item-text\">                    <h4 class=\"h fz_03\">생선까스도련님고기고기</h4>                    <div class=\"item-price\">                        <span class=\"blind\">가격: </span><strong>5,500</strong>원                    </div>                </div>            </div>        </li>        <li class=\"item\" id=\"menuList_242\">            <div class=\"item-spacer\">                <a href=\"javascript:;\" onclick=\"goDetail(\\'3\\', \\'9\\', \\'242\\')\" class=\"item-cont\"></a>                <div class=\"item-img\">                    <img src=\"https://www.hsd.co.kr/images/bc4e27d6683549c391b4d42392f4641f20201229125414.jpg\" alt=\"돈까스도련님고기고기\">                </div>                <div class=\"item-text\">                    <h4 class=\"h fz_03\">돈까스도련님고기고기</h4>                    <div class=\"item-price\">                        <span class=\"blind\">가격: </span><strong>5,500</strong>원                    </div>                </div>            </div>        </li>        <li class=\"item\" id=\"menuList_241\">            <div class=\"item-spacer\">                <a href=\"javascript:;\" onclick=\"goDetail(\\'3\\', \\'9\\', \\'241\\')\" class=\"item-cont\"></a>                <div class=\"item-img\">                    <img src=\"https://www.hsd.co.kr/images/9d1da43dc06744bfbdebc9b6f58140a520201229114329.jpg\" alt=\"탕수육도련님고기고기\">                </div>                <div class=\"item-text\">                    <h4 class=\"h fz_03\">탕수육도련님고기고기</h4>                    <div class=\"item-price\">                        <span class=\"blind\">가격: </span><strong>5,600</strong>원                    </div>                </div>            </div>        </li>        <li class=\"item\" id=\"menuList_11\">            <div class=\"item-spacer\">                <a href=\"javascript:;\" onclick=\"goDetail(\\'3\\', \\'9\\', \\'11\\')\" class=\"item-cont\"></a>                <div class=\"item-img\">                    <img src=\"https://www.hsd.co.kr/images/700a776495f14cfe93c76437bfe48ec620201229114408.jpg\" alt=\"새치 고기고기\">                </div>                <div class=\"item-text\">                    <h4 class=\"h fz_03\">새치 고기고기</h4>                    <div class=\"item-price\">                        <span class=\"blind\">가격: </span><strong>6,000</strong>원                    </div>                </div>            </div>        </li>        <li class=\"item\" id=\"menuList_10\">            <div class=\"item-spacer\">                <a href=\"javascript:;\" onclick=\"goDetail(\\'3\\', \\'9\\', \\'10\\')\" class=\"item-cont\"></a>                <div class=\"item-img\">                    <img src=\"https://www.hsd.co.kr/images/c74cac76640d44af858bd1047e40d06c20201229114431.jpg\" alt=\"돈치 고기고기\">                </div>                <div class=\"item-text\">                    <h4 class=\"h fz_03\">돈치 고기고기</h4>                    <div class=\"item-price\">                        <span class=\"blind\">가격: </span><strong>5,200</strong>원                    </div>                </div>            </div>        </li>        <li class=\"item\" id=\"menuList_8\">            <div class=\"item-spacer\">                <a href=\"javascript:;\" onclick=\"goDetail(\\'3\\', \\'9\\', \\'8\\')\" class=\"item-cont\"></a>                <div class=\"item-img\">                    <img src=\"https://www.hsd.co.kr/images/d1f4e4ac669d46e7bda93993eb7794b220201229114449.jpg\" alt=\"고기고기\">                </div>                <div class=\"item-text\">                    <h4 class=\"h fz_03\">고기고기</h4>                    <div class=\"item-price\">                        <span class=\"blind\">가격: </span><strong>4,000</strong>원                    </div>                </div>            </div>        </li>    </ul></div><div class=\"list_wrap\" id=\"catelist_10\">    <p class=\"dp\">사각도시락</p>    <h3 class=\"h3_tit fz_01\">모둠시리즈</h3>    <ul class=\"menu_cont\">        <li class=\"item\" id=\"menuList_341\">            <div class=\"item-spacer\">                <a href=\"javascript:;\" onclick=\"goDetail(\\'3\\', \\'10\\', \\'341\\')\" class=\"item-cont\"></a>                <div class=\"item-img\">                    <img src=\"https://www.hsd.co.kr/images/b5e7e11480824bd58b7b67078c505a9120201229115220.jpg\" alt=\"칠리탕수육 육개장 정식\">                </div>                <div class=\"item-icon\">                    <div class=\"icon icon-new\">                        <span>NEW</span>                    </div>                </div>                <div class=\"item-text\">                    <h4 class=\"h fz_03\">칠리탕수육 육개장 정식</h4>                    <div class=\"item-price\">                        <span class=\"blind\">가격: </span><strong>8,000</strong>원                    </div>                </div>            </div>        </li>        <li class=\"item\" id=\"menuList_325\">            <div class=\"item-spacer\">                <a href=\"javascript:;\" onclick=\"goDetail(\\'3\\', \\'10\\', \\'325\\')\" class=\"item-cont\"></a>                <div class=\"item-img\">                    <img src=\"https://www.hsd.co.kr/images/da29a0356eb44e2aa7d5c6b40ebb46fd20201229115054.jpg\" alt=\"주말숯불삼겹2종정식\">                </div>                <div class=\"item-text\">                    <h4 class=\"h fz_03\">주말숯불삼겹2종정식</h4>                    <div class=\"item-price\">                        <span class=\"blind\">가격: </span><strong>15,000</strong>원                    </div>                </div>            </div>        </li>        <li class=\"item\" id=\"menuList_324\">            <div class=\"item-spacer\">                <a href=\"javascript:;\" onclick=\"goDetail(\\'3\\', \\'10\\', \\'324\\')\" class=\"item-cont\"></a>                <div class=\"item-img\">                    <img src=\"https://www.hsd.co.kr/images/922aa902d02349a6a23f8824a35614de20201229115028.jpg\" alt=\"고추장숯불삼겹정식\">                </div>                <div class=\"item-text\">                    <h4 class=\"h fz_03\">고추장숯불삼겹정식</h4>                    <div class=\"item-price\">                        <span class=\"blind\">가격: </span><strong>9,000</strong>원                    </div>                </div>            </div>        </li>        <li class=\"item\" id=\"menuList_323\">            <div class=\"item-spacer\">                <a href=\"javascript:;\" onclick=\"goDetail(\\'3\\', \\'10\\', \\'323\\')\" class=\"item-cont\"></a>                <div class=\"item-img\">                    <img src=\"https://www.hsd.co.kr/images/a4fb8204424949b3afd2d467133581bc20201229114958.jpg\" alt=\"숯불삼겹정식\">                </div>                <div class=\"item-text\">                    <h4 class=\"h fz_03\">숯불삼겹정식</h4>                    <div class=\"item-price\">                        <span class=\"blind\">가격: </span><strong>8,500</strong>원                    </div>                </div>            </div>        </li>        <li class=\"item\" id=\"menuList_308\">            <div class=\"item-spacer\">                <a href=\"javascript:;\" onclick=\"goDetail(\\'3\\', \\'10\\', \\'308\\')\" class=\"item-cont\"></a>                <div class=\"item-img\">                    <img src=\"https://www.hsd.co.kr/images/8ba84b31887548f8a9b2aa9f38a7f6eb20201229115128.jpg\" alt=\"제육 김치찌개 정식\">                </div>                <div class=\"item-text\">                    <h4 class=\"h fz_03\">제육 김치찌개 정식</h4>                    <div class=\"item-price\">                        <span class=\"blind\">가격: </span><strong>8,000</strong>원                    </div>                </div>            </div>        </li>        <li class=\"item\" id=\"menuList_306\">            <div class=\"item-spacer\">                <a href=\"javascript:;\" onclick=\"goDetail(\\'3\\', \\'10\\', \\'306\\')\" class=\"item-cont\"></a>                <div class=\"item-img\">                    <img src=\"https://www.hsd.co.kr/images/d4278ea0f26b4487b048e8ab5bcbf6e020201229115154.jpg\" alt=\"콤비네이션 정식\">                </div>                <div class=\"item-text\">                    <h4 class=\"h fz_03\">콤비네이션 정식</h4>                    <div class=\"item-price\">                        <span class=\"blind\">가격: </span><strong>6,000</strong>원                    </div>                </div>            </div>        </li>        <li class=\"item\" id=\"menuList_293\">            <div class=\"item-spacer\">                <a href=\"javascript:;\" onclick=\"goDetail(\\'3\\', \\'10\\', \\'293\\')\" class=\"item-cont\"></a>                <div class=\"item-img\">                    <img src=\"https://www.hsd.co.kr/images/1c8088765b594a9e821beb945a3f6cde20201229114828.jpg\" alt=\"숯불직화구이\">                </div>                <div class=\"item-text\">                    <h4 class=\"h fz_03\">숯불직화구이</h4>                    <div class=\"item-price\">                        <span class=\"blind\">가격: </span><strong>6,500</strong>원                    </div>                </div>            </div>        </li>        <li class=\"item\" id=\"menuList_292\">            <div class=\"item-spacer\">                <a href=\"javascript:;\" onclick=\"goDetail(\\'3\\', \\'10\\', \\'292\\')\" class=\"item-cont\"></a>                <div class=\"item-img\">                    <img src=\"https://www.hsd.co.kr/images/d5aa75314f504c9c993a6c41957c105020201229114857.jpg\" alt=\"소불고기\">                </div>                <div class=\"item-text\">                    <h4 class=\"h fz_03\">소불고기</h4>                    <div class=\"item-price\">                        <span class=\"blind\">가격: </span><strong>5,000</strong>원                    </div>                </div>            </div>        </li>        <li class=\"item\" id=\"menuList_251\">            <div class=\"item-spacer\">                <a href=\"javascript:;\" onclick=\"goDetail(\\'3\\', \\'10\\', \\'251\\')\" class=\"item-cont\"></a>                <div class=\"item-img\">                    <img src=\"https://www.hsd.co.kr/images/6a2c766ae65846d1b9fd1ce8496b97e020201230051532.jpg\" alt=\"메가치킨제육\">                </div>                <div class=\"item-text\">                    <h4 class=\"h fz_03\">메가치킨제육</h4>                    <div class=\"item-price\">                        <span class=\"blind\">가격: </span><strong>6,900</strong>원                    </div>                </div>            </div>        </li>        <li class=\"item\" id=\"menuList_217\">            <div class=\"item-spacer\">                <a href=\"javascript:;\" onclick=\"goDetail(\\'3\\', \\'10\\', \\'217\\')\" class=\"item-cont\"></a>                <div class=\"item-img\">                    <img src=\"https://www.hsd.co.kr/images/704993662ef3446a9b7415831b24fa3020201229114149.jpg\" alt=\"생선까스도련님\">                </div>                <div class=\"item-text\">                    <h4 class=\"h fz_03\">생선까스도련님</h4>                    <div class=\"item-price\">                        <span class=\"blind\">가격: </span><strong>3,900</strong>원                    </div>                </div>            </div>        </li>        <li class=\"item\" id=\"menuList_206\">            <div class=\"item-spacer\">                <a href=\"javascript:;\" onclick=\"goDetail(\\'3\\', \\'10\\', \\'206\\')\" class=\"item-cont\"></a>                <div class=\"item-img\">                    <img src=\"https://www.hsd.co.kr/images/b93473fc4be0469f8c2e585b466676ad20201229114728.jpg\" alt=\"칠리 찹쌀탕수육도련님\">                </div>                <div class=\"item-text\">                    <h4 class=\"h fz_03\">칠리 찹쌀탕수육도련님</h4>                    <div class=\"item-price\">                        <span class=\"blind\">가격: </span><strong>4,000</strong>원                    </div>                </div>            </div>        </li>        <li class=\"item\" id=\"menuList_17\">            <div class=\"item-spacer\">                <a href=\"javascript:;\" onclick=\"goDetail(\\'3\\', \\'10\\', \\'17\\')\" class=\"item-cont\"></a>                <div class=\"item-img\">                    <img src=\"https://www.hsd.co.kr/images/ed178d50a1944a66a2f91cc4b605588420201229114756.jpg\" alt=\"동백\">                </div>                <div class=\"item-text\">                    <h4 class=\"h fz_03\">동백</h4>                    <div class=\"item-price\">                        <span class=\"blind\">가격: </span><strong>5,000</strong>원                    </div>                </div>            </div>        </li>        <li class=\"item\" id=\"menuList_15\">            <div class=\"item-spacer\">                <a href=\"javascript:;\" onclick=\"goDetail(\\'3\\', \\'10\\', \\'15\\')\" class=\"item-cont\"></a>                <div class=\"item-img\">                    <img src=\"https://www.hsd.co.kr/images/525a3f55943244258fe1f7c08f6b423120201229114537.jpg\" alt=\"치킨제육\">                </div>                <div class=\"item-text\">                    <h4 class=\"h fz_03\">치킨제육</h4>                    <div class=\"item-price\">                        <span class=\"blind\">가격: </span><strong>4,400</strong>원                    </div>                </div>            </div>        </li>        <li class=\"item\" id=\"menuList_14\">            <div class=\"item-spacer\">                <a href=\"javascript:;\" onclick=\"goDetail(\\'3\\', \\'10\\', \\'14\\')\" class=\"item-cont\"></a>                <div class=\"item-img\">                    <img src=\"https://www.hsd.co.kr/images/de1b65a525dc4f218589578e2ccc311320201229114622.jpg\" alt=\"국화\">                </div>                <div class=\"item-text\">                    <h4 class=\"h fz_03\">국화</h4>                    <div class=\"item-price\">                        <span class=\"blind\">가격: </span><strong>4,200</strong>원                    </div>                </div>            </div>        </li>        <li class=\"item\" id=\"menuList_13\">            <div class=\"item-spacer\">                <a href=\"javascript:;\" onclick=\"goDetail(\\'3\\', \\'10\\', \\'13\\')\" class=\"item-cont\"></a>                <div class=\"item-img\">                    <img src=\"https://www.hsd.co.kr/images/a5c172ecd70b4199a3b8724b2c71e04420201229114645.jpg\" alt=\"돈까스도련님\">                </div>                <div class=\"item-text\">                    <h4 class=\"h fz_03\">돈까스도련님</h4>                    <div class=\"item-price\">                        <span class=\"blind\">가격: </span><strong>3,900</strong>원                    </div>                </div>            </div>        </li>        <li class=\"item\" id=\"menuList_20\">            <div class=\"item-spacer\">                <a href=\"javascript:;\" onclick=\"goDetail(\\'3\\', \\'10\\', \\'20\\')\" class=\"item-cont\"></a>                <div class=\"item-img\">                    <img src=\"https://www.hsd.co.kr/images/bb155ca786f14eb9a8bed76302f6835420201229114512.jpg\" alt=\"제육볶음\">                </div>                <div class=\"item-text\">                    <h4 class=\"h fz_03\">제육볶음</h4>                    <div class=\"item-price\">                        <span class=\"blind\">가격: </span><strong>3,900</strong>원                    </div>                </div>            </div>        </li>    </ul></div><div class=\"list_wrap\" id=\"catelist_44\">    <p class=\"dp\">사각도시락</p>    <h3 class=\"h3_tit fz_01\">밥</h3>    <ul class=\"menu_cont\">        <li class=\"item\" id=\"menuList_272\">            <div class=\"item-spacer\">                <a href=\"javascript:;\" onclick=\"goDetail(\\'3\\', \\'44\\', \\'272\\')\" class=\"item-cont\"></a>                <div class=\"item-img\">                    <img src=\"https://www.hsd.co.kr/images/07dd496733434ba18ab9a2810451473a20201229115314.jpg\" alt=\"한솥밥\">                </div>                <div class=\"item-text\">                    <h4 class=\"h fz_03\">한솥밥</h4>                    <div class=\"item-price\">                        <span class=\"blind\">가격: </span><strong>1,000</strong>원                    </div>                </div>            </div>        </li>        <li class=\"item\" id=\"menuList_273\">            <div class=\"item-spacer\">                <a href=\"javascript:;\" onclick=\"goDetail(\\'3\\', \\'44\\', \\'273\\')\" class=\"item-cont\"></a>                <div class=\"item-img\">                    <img src=\"https://www.hsd.co.kr/images/d54be8671fba417bb59d7695b4e2e25420201229115337.jpg\" alt=\"현미밥\">                </div>                <div class=\"item-text\">                    <h4 class=\"h fz_03\">현미밥</h4>                    <div class=\"item-price\">                        <span class=\"blind\">가격: </span><strong>1,700</strong>원                    </div>                </div>            </div>        </li>    </ul></div><div class=\"list_wrap\" id=\"catelist_12\">    <p class=\"dp\">보울도시락</p>    <h3 class=\"h3_tit fz_01\">마요</h3>    <ul class=\"menu_cont\">        <li class=\"item\" id=\"menuList_360\">            <div class=\"item-spacer\">                <a href=\"javascript:;\" onclick=\"goDetail(\\'4\\', \\'12\\', \\'360\\')\" class=\"item-cont\"></a>                <div class=\"item-img\">                    <img src=\"https://www.hsd.co.kr/images/dd6d0b7bcccb406ba1211d1290aac06b20210129070349.jpg\" alt=\"메가 스리라차 참치마요\">                </div>                <div class=\"item-icon\">                    <div class=\"icon icon-new\">                        <span>NEW</span>                    </div>                </div>                <div class=\"item-text\">                    <h4 class=\"h fz_03\">메가 스리라차 참치마요</h4>                    <div class=\"item-price\">                        <span class=\"blind\">가격: </span><strong>5,700</strong>원                    </div>                </div>            </div>        </li>        <li class=\"item\" id=\"menuList_359\">            <div class=\"item-spacer\">                <a href=\"javascript:;\" onclick=\"goDetail(\\'4\\', \\'12\\', \\'359\\')\" class=\"item-cont\"></a>                <div class=\"item-img\">                    <img src=\"https://www.hsd.co.kr/images/78de8b9290004f58bf2b0caa08d3a8c320210129065822.jpg\" alt=\"스리라차 참치마요\">                </div>                <div class=\"item-icon\">                    <div class=\"icon icon-new\">                        <span>NEW</span>                    </div>                </div>                <div class=\"item-text\">                    <h4 class=\"h fz_03\">스리라차 참치마요</h4>                    <div class=\"item-price\">                        <span class=\"blind\">가격: </span><strong>3,400</strong>원                    </div>                </div>            </div>        </li>        <li class=\"item\" id=\"menuList_358\">            <div class=\"item-spacer\">                <a href=\"javascript:;\" onclick=\"goDetail(\\'4\\', \\'12\\', \\'358\\')\" class=\"item-cont\"></a>                <div class=\"item-img\">                    <img src=\"https://www.hsd.co.kr/images/d7202329ff2c4f44b629d951f659e4af20210129065341.jpg\" alt=\"메가 스리라차 치킨마요\">                </div>                <div class=\"item-icon\">                    <div class=\"icon icon-new\">                        <span>NEW</span>                    </div>                </div>                <div class=\"item-text\">                    <h4 class=\"h fz_03\">메가 스리라차 치킨마요</h4>                    <div class=\"item-price\">                        <span class=\"blind\">가격: </span><strong>5,700</strong>원                    </div>                </div>            </div>        </li>        <li class=\"item\" id=\"menuList_357\">            <div class=\"item-spacer\">                <a href=\"javascript:;\" onclick=\"goDetail(\\'4\\', \\'12\\', \\'357\\')\" class=\"item-cont\"></a>                <div class=\"item-img\">                    <img src=\"https://www.hsd.co.kr/images/f855c081819a4be1a9208440b3d33d8720210129065001.jpg\" alt=\"스리라차 치킨마요\">                </div>                <div class=\"item-icon\">                    <div class=\"icon icon-new\">                        <span>NEW</span>                    </div>                </div>                <div class=\"item-text\">                    <h4 class=\"h fz_03\">스리라차 치킨마요</h4>                    <div class=\"item-price\">                        <span class=\"blind\">가격: </span><strong>3,400</strong>원                    </div>                </div>            </div>        </li>        <li class=\"item\" id=\"menuList_331\">            <div class=\"item-spacer\">                <a href=\"javascript:;\" onclick=\"goDetail(\\'4\\', \\'12\\', \\'331\\')\" class=\"item-cont\"></a>                <div class=\"item-img\">                    <img src=\"https://www.hsd.co.kr/images/64f59fbef7b74e0b829d3ad9d7c0572c20200701092301.jpg\" alt=\"메가스팸마요\">                </div>                <div class=\"item-text\">                    <h4 class=\"h fz_03\">메가스팸마요</h4>                    <div class=\"item-price\">                        <span class=\"blind\">가격: </span><strong>5,500</strong>원                    </div>                </div>            </div>        </li>        <li class=\"item\" id=\"menuList_333\">            <div class=\"item-spacer\">                <a href=\"javascript:;\" onclick=\"goDetail(\\'4\\', \\'12\\', \\'333\\')\" class=\"item-cont\"></a>                <div class=\"item-img\">                    <img src=\"https://www.hsd.co.kr/images/2d88901c3e374ab29ddb68346a6c0b7120200701093532.jpg\" alt=\"스팸마요\">                </div>                <div class=\"item-text\">                    <h4 class=\"h fz_03\">스팸마요</h4>                    <div class=\"item-price\">                        <span class=\"blind\">가격: </span><strong>3,500</strong>원                    </div>                </div>            </div>        </li>        <li class=\"item\" id=\"menuList_296\">            <div class=\"item-spacer\">                <a href=\"javascript:;\" onclick=\"goDetail(\\'4\\', \\'12\\', \\'296\\')\" class=\"item-cont\"></a>                <div class=\"item-img\">                    <img src=\"https://www.hsd.co.kr/images/bd99e1453f714f0aa329e2c2d9dbffe920200212012842.jpg\" alt=\"메가불닭치킨마요\">                </div>                <div class=\"item-text\">                    <h4 class=\"h fz_03\">메가불닭치킨마요</h4>                    <div class=\"item-price\">                        <span class=\"blind\">가격: </span><strong>6,400</strong>원                    </div>                </div>            </div>        </li>        <li class=\"item\" id=\"menuList_294\">            <div class=\"item-spacer\">                <a href=\"javascript:;\" onclick=\"goDetail(\\'4\\', \\'12\\', \\'294\\')\" class=\"item-cont\"></a>                <div class=\"item-img\">                    <img src=\"https://www.hsd.co.kr/images/fac426978dc046998bed3560a5b3021120200212012125.jpg\" alt=\"불닭치킨마요\">                </div>                <div class=\"item-text\">                    <h4 class=\"h fz_03\">불닭치킨마요</h4>                    <div class=\"item-price\">                        <span class=\"blind\">가격: </span><strong>3,500</strong>원                    </div>                </div>            </div>        </li>        <li class=\"item\" id=\"menuList_216\">            <div class=\"item-spacer\">                <a href=\"javascript:;\" onclick=\"goDetail(\\'4\\', \\'12\\', \\'216\\')\" class=\"item-cont\"></a>                <div class=\"item-img\">                    <img src=\"https://www.hsd.co.kr/images/001066fdba82481cae97fdc666b216df20190317110629.jpg\" alt=\"갈비치킨마요\">                </div>                <div class=\"item-text\">                    <h4 class=\"h fz_03\">갈비치킨마요</h4>                    <div class=\"item-price\">                        <span class=\"blind\">가격: </span><strong>3,200</strong>원                    </div>                </div>            </div>        </li>        <li class=\"item\" id=\"menuList_250\">            <div class=\"item-spacer\">                <a href=\"javascript:;\" onclick=\"goDetail(\\'4\\', \\'12\\', \\'250\\')\" class=\"item-cont\"></a>                <div class=\"item-img\">                    <img src=\"https://www.hsd.co.kr/images/b5feec5a953841d39c7fd28c67f1da6720201231101045.jpeg\" alt=\"메가치킨마요\">                </div>                <div class=\"item-text\">                    <h4 class=\"h fz_03\">메가치킨마요</h4>                    <div class=\"item-price\">                        <span class=\"blind\">가격: </span><strong>5,200</strong>원                    </div>                </div>            </div>        </li>        <li class=\"item\" id=\"menuList_116\">            <div class=\"item-spacer\">                <a href=\"javascript:;\" onclick=\"goDetail(\\'4\\', \\'12\\', \\'116\\')\" class=\"item-cont\"></a>                <div class=\"item-img\">                    <img src=\"https://www.hsd.co.kr/images/255cadba378e4bd9b20ab32af28bc17320180620062717.jpg\" alt=\"왕치킨마요\">                </div>                <div class=\"item-text\">                    <h4 class=\"h fz_03\">왕치킨마요</h4>                    <div class=\"item-price\">                        <span class=\"blind\">가격: </span><strong>4,200</strong>원                    </div>                </div>            </div>        </li>        <li class=\"item\" id=\"menuList_29\">            <div class=\"item-spacer\">                <a href=\"javascript:;\" onclick=\"goDetail(\\'4\\', \\'12\\', \\'29\\')\" class=\"item-cont\"></a>                <div class=\"item-img\">                    <img src=\"https://www.hsd.co.kr/images/ab94a47a0583484582ba16cdb239e64b20171012082620.jpg\" alt=\"빅치킨마요\">                </div>                <div class=\"item-text\">                    <h4 class=\"h fz_03\">빅치킨마요</h4>                    <div class=\"item-price\">                        <span class=\"blind\">가격: </span><strong>3,500</strong>원                    </div>                </div>            </div>        </li>        <li class=\"item\" id=\"menuList_25\">            <div class=\"item-spacer\">                <a href=\"javascript:;\" onclick=\"goDetail(\\'4\\', \\'12\\', \\'25\\')\" class=\"item-cont\"></a>                <div class=\"item-img\">                    <img src=\"https://www.hsd.co.kr/images/e598202f27e54a5ab64c9df369bab0f120171102030624.jpg\" alt=\"치킨마요\">                </div>                <div class=\"item-text\">                    <h4 class=\"h fz_03\">치킨마요</h4>                    <div class=\"item-price\">                        <span class=\"blind\">가격: </span><strong>2,900</strong>원                    </div>                </div>            </div>        </li>        <li class=\"item\" id=\"menuList_26\">            <div class=\"item-spacer\">                <a href=\"javascript:;\" onclick=\"goDetail(\\'4\\', \\'12\\', \\'26\\')\" class=\"item-cont\"></a>                <div class=\"item-img\">                    <img src=\"https://www.hsd.co.kr/images/a35d1a44a6634c5f9bbe3e3fccc0a1b820171012082454.jpg\" alt=\"참치마요\">                </div>                <div class=\"item-text\">                    <h4 class=\"h fz_03\">참치마요</h4>                    <div class=\"item-price\">                        <span class=\"blind\">가격: </span><strong>2,900</strong>원                    </div>                </div>            </div>        </li>        <li class=\"item\" id=\"menuList_32\">            <div class=\"item-spacer\">                <a href=\"javascript:;\" onclick=\"goDetail(\\'4\\', \\'12\\', \\'32\\')\" class=\"item-cont\"></a>                <div class=\"item-img\">                    <img src=\"https://www.hsd.co.kr/images/32fbc49a258b42e9b90cf1101da45f5920171012082726.jpg\" alt=\"돈치마요\">                </div>                <div class=\"item-text\">                    <h4 class=\"h fz_03\">돈치마요</h4>                    <div class=\"item-price\">                        <span class=\"blind\">가격: </span><strong>3,500</strong>원                    </div>                </div>            </div>        </li>    </ul></div><div class=\"list_wrap\" id=\"catelist_13\">    <p class=\"dp\">보울도시락</p>    <h3 class=\"h3_tit fz_01\">카레</h3>    <ul class=\"menu_cont\">        <li class=\"item\" id=\"menuList_276\">            <div class=\"item-spacer\">                <a href=\"javascript:;\" onclick=\"goDetail(\\'4\\', \\'13\\', \\'276\\')\" class=\"item-cont\"></a>                <div class=\"item-img\">                    <img src=\"https://www.hsd.co.kr/images/416b543046494256b2ac0a2512e8fd3b20191129090253.jpg\" alt=\"치즈 카레도시락\">                </div>                <div class=\"item-text\">                    <h4 class=\"h fz_03\">치즈 카레도시락</h4>                    <div class=\"item-price\">                        <span class=\"blind\">가격: </span><strong>4,000</strong>원                    </div>                </div>            </div>        </li>        <li class=\"item\" id=\"menuList_21\">            <div class=\"item-spacer\">                <a href=\"javascript:;\" onclick=\"goDetail(\\'4\\', \\'13\\', \\'21\\')\" class=\"item-cont\"></a>                <div class=\"item-img\">                    <img src=\"https://www.hsd.co.kr/images/038ba8c460f84de4be24cf4380f9983f20171017045727.jpg\" alt=\"돈까스 카레\">                </div>                <div class=\"item-text\">                    <h4 class=\"h fz_03\">돈까스 카레</h4>                    <div class=\"item-price\">                        <span class=\"blind\">가격: </span><strong>3,900</strong>원                    </div>                </div>            </div>        </li>    </ul></div><div class=\"list_wrap\" id=\"catelist_14\">    <p class=\"dp\">보울도시락</p>    <h3 class=\"h3_tit fz_01\">볶음밥</h3>    <ul class=\"menu_cont\">        <li class=\"item\" id=\"menuList_348\">            <div class=\"item-spacer\">                <a href=\"javascript:;\" onclick=\"goDetail(\\'4\\', \\'14\\', \\'348\\')\" class=\"item-cont\"></a>                <div class=\"item-img\">                    <img src=\"https://www.hsd.co.kr/images/058f79d45dc14feba962bc439460de8d20201016082028.jpg\" alt=\"3종치즈 김치볶음밥\">                </div>                <div class=\"item-icon\">                    <div class=\"icon icon-new\">                        <span>NEW</span>                    </div>                </div>                <div class=\"item-text\">                    <h4 class=\"h fz_03\">3종치즈 김치볶음밥</h4>                    <div class=\"item-price\">                        <span class=\"blind\">가격: </span><strong>4,500</strong>원                    </div>                </div>            </div>        </li>        <li class=\"item\" id=\"menuList_347\">            <div class=\"item-spacer\">                <a href=\"javascript:;\" onclick=\"goDetail(\\'4\\', \\'14\\', \\'347\\')\" class=\"item-cont\"></a>                <div class=\"item-img\">                    <img src=\"https://www.hsd.co.kr/images/6c27f07d1ad3495d8146d345ac29839b20201016081816.jpg\" alt=\"스팸 김치볶음밥\">                </div>                <div class=\"item-icon\">                    <div class=\"icon icon-new\">                        <span>NEW</span>                    </div>                </div>                <div class=\"item-text\">                    <h4 class=\"h fz_03\">스팸 김치볶음밥</h4>                    <div class=\"item-price\">                        <span class=\"blind\">가격: </span><strong>4,300</strong>원                    </div>                </div>            </div>        </li>        <li class=\"item\" id=\"menuList_346\">            <div class=\"item-spacer\">                <a href=\"javascript:;\" onclick=\"goDetail(\\'4\\', \\'14\\', \\'346\\')\" class=\"item-cont\"></a>                <div class=\"item-img\">                    <img src=\"https://www.hsd.co.kr/images/bff76222e93b42d690c1e7d091c65fdc20201016081556.jpg\" alt=\"김치볶음밥\">                </div>                <div class=\"item-icon\">                    <div class=\"icon icon-new\">                        <span>NEW</span>                    </div>                </div>                <div class=\"item-text\">                    <h4 class=\"h fz_03\">김치볶음밥</h4>                    <div class=\"item-price\">                        <span class=\"blind\">가격: </span><strong>3,500</strong>원                    </div>                </div>            </div>        </li>        <li class=\"item\" id=\"menuList_334\">            <div class=\"item-spacer\">                <a href=\"javascript:;\" onclick=\"goDetail(\\'4\\', \\'14\\', \\'334\\')\" class=\"item-cont\"></a>                <div class=\"item-img\">                    <img src=\"https://www.hsd.co.kr/images/6b5c347829394633ac5605d11a09f5e220200701094012.jpg\" alt=\"스팸철판볶음밥\">                </div>                <div class=\"item-text\">                    <h4 class=\"h fz_03\">스팸철판볶음밥</h4>                    <div class=\"item-price\">                        <span class=\"blind\">가격: </span><strong>4,500</strong>원                    </div>                </div>            </div>        </li>        <li class=\"item\" id=\"menuList_141\">            <div class=\"item-spacer\">                <a href=\"javascript:;\" onclick=\"goDetail(\\'4\\', \\'14\\', \\'141\\')\" class=\"item-cont\"></a>                <div class=\"item-img\">                    <img src=\"https://www.hsd.co.kr/images/87169dc7997a4705ba3966c309c976d220180131080201.jpg\" alt=\"소불고기 철판볶음밥\">                </div>                <div class=\"item-text\">                    <h4 class=\"h fz_03\">소불고기 철판볶음밥</h4>                    <div class=\"item-price\">                        <span class=\"blind\">가격: </span><strong>4,500</strong>원                    </div>                </div>            </div>        </li>    </ul></div><div class=\"list_wrap\" id=\"catelist_15\">    <p class=\"dp\">보울도시락</p>    <h3 class=\"h3_tit fz_01\">프리미엄 찌개/탕</h3>    <ul class=\"menu_cont\">        <li class=\"item\" id=\"menuList_353\">            <div class=\"item-spacer\">                <a href=\"javascript:;\" onclick=\"goDetail(\\'4\\', \\'15\\', \\'353\\')\" class=\"item-cont\"></a>                <div class=\"item-img\">                    <img src=\"https://www.hsd.co.kr/images/ccde8c99eb6149f1925fd67ffbf9425c20201029075104.jpg\" alt=\"돼지국밥 콤보\">                </div>                <div class=\"item-icon\">                    <div class=\"icon icon-new\">                        <span>NEW</span>                    </div>                </div>                <div class=\"item-text\">                    <h4 class=\"h fz_03\">돼지국밥 콤보</h4>                    <div class=\"item-price\">                        <span class=\"blind\">가격: </span><strong>6,700</strong>원                    </div>                </div>            </div>        </li>        <li class=\"item\" id=\"menuList_352\">            <div class=\"item-spacer\">                <a href=\"javascript:;\" onclick=\"goDetail(\\'4\\', \\'15\\', \\'352\\')\" class=\"item-cont\"></a>                <div class=\"item-img\">                    <img src=\"https://www.hsd.co.kr/images/8a69e52500cd418d81ce41ad7ae2e1fd20201029075047.jpg\" alt=\"돼지국밥\">                </div>                <div class=\"item-icon\">                    <div class=\"icon icon-new\">                        <span>NEW</span>                    </div>                </div>                <div class=\"item-text\">                    <h4 class=\"h fz_03\">돼지국밥</h4>                    <div class=\"item-price\">                        <span class=\"blind\">가격: </span><strong>5,700</strong>원                    </div>                </div>            </div>        </li>        <li class=\"item\" id=\"menuList_351\">            <div class=\"item-spacer\">                <a href=\"javascript:;\" onclick=\"goDetail(\\'4\\', \\'15\\', \\'351\\')\" class=\"item-cont\"></a>                <div class=\"item-img\">                    <img src=\"https://www.hsd.co.kr/images/b525977f398c4371b47400aff1ac08a620201029073300.jpg\" alt=\"돼지국밥(국만)\">                </div>                <div class=\"item-icon\">                    <div class=\"icon icon-new\">                        <span>NEW</span>                    </div>                </div>                <div class=\"item-text\">                    <h4 class=\"h fz_03\">돼지국밥(국만)</h4>                    <div class=\"item-price\">                        <span class=\"blind\">가격: </span><strong>4,500</strong>원                    </div>                </div>            </div>        </li>        <li class=\"item\" id=\"menuList_136\">            <div class=\"item-spacer\">                <a href=\"javascript:;\" onclick=\"goDetail(\\'4\\', \\'15\\', \\'136\\')\" class=\"item-cont\"></a>                <div class=\"item-img\">                    <img src=\"https://www.hsd.co.kr/images/cd9a9e8ebd9749878b8bae0db47d817020180605065655.jpg\" alt=\"소고기 육개장\">                </div>                <div class=\"item-text\">                    <h4 class=\"h fz_03\">소고기 육개장</h4>                    <div class=\"item-price\">                        <span class=\"blind\">가격: </span><strong>4,500</strong>원                    </div>                </div>            </div>        </li>        <li class=\"item\" id=\"menuList_135\">            <div class=\"item-spacer\">                <a href=\"javascript:;\" onclick=\"goDetail(\\'4\\', \\'15\\', \\'135\\')\" class=\"item-cont\"></a>                <div class=\"item-img\">                    <img src=\"https://www.hsd.co.kr/images/ddb7ee6030e148c093be561a5474ad9920180605065551.jpg\" alt=\"묵은지 김치찌개\">                </div>                <div class=\"item-text\">                    <h4 class=\"h fz_03\">묵은지 김치찌개</h4>                    <div class=\"item-price\">                        <span class=\"blind\">가격: </span><strong>4,300</strong>원                    </div>                </div>            </div>        </li>    </ul></div><div class=\"list_wrap\" id=\"catelist_16\">    <p class=\"dp\">보울도시락</p>    <h3 class=\"h3_tit fz_01\">덮밥</h3>    <ul class=\"menu_cont\">        <li class=\"item\" id=\"menuList_309\">            <div class=\"item-spacer\">                <a href=\"javascript:;\" onclick=\"goDetail(\\'4\\', \\'16\\', \\'309\\')\" class=\"item-cont\"></a>                <div class=\"item-img\">                    <img src=\"https://www.hsd.co.kr/images/059c0edd5b7c47ea8918941d9e411e8a20201231101014.jpeg\" alt=\"고추장숯불삼겹덮밥\">                </div>                <div class=\"item-text\">                    <h4 class=\"h fz_03\">고추장숯불삼겹덮밥</h4>                    <div class=\"item-price\">                        <span class=\"blind\">가격: </span><strong>6,500</strong>원                    </div>                </div>            </div>        </li>        <li class=\"item\" id=\"menuList_261\">            <div class=\"item-spacer\">                <a href=\"javascript:;\" onclick=\"goDetail(\\'4\\', \\'16\\', \\'261\\')\" class=\"item-cont\"></a>                <div class=\"item-img\">                    <img src=\"https://www.hsd.co.kr/images/859fb285fafc4b9d8f3ac6686509fee720201231100918.jpeg\" alt=\"숯불직화구이 덮밥\">                </div>                <div class=\"item-text\">                    <h4 class=\"h fz_03\">숯불직화구이 덮밥</h4>                    <div class=\"item-price\">                        <span class=\"blind\">가격: </span><strong>5,700</strong>원                    </div>                </div>            </div>        </li>        <li class=\"item\" id=\"menuList_117\">            <div class=\"item-spacer\">                <a href=\"javascript:;\" onclick=\"goDetail(\\'4\\', \\'16\\', \\'117\\')\" class=\"item-cont\"></a>                <div class=\"item-img\">                    <img src=\"https://www.hsd.co.kr/images/cda0da0e911f475f9dbeebb1901ad6d720180620062731.jpg\" alt=\"왕카레돈까스덮밥\">                </div>                <div class=\"item-text\">                    <h4 class=\"h fz_03\">왕카레돈까스덮밥</h4>                    <div class=\"item-price\">                        <span class=\"blind\">가격: </span><strong>5,500</strong>원                    </div>                </div>            </div>        </li>        <li class=\"item\" id=\"menuList_34\">            <div class=\"item-spacer\">                <a href=\"javascript:;\" onclick=\"goDetail(\\'4\\', \\'16\\', \\'34\\')\" class=\"item-cont\"></a>                <div class=\"item-img\">                    <img src=\"https://www.hsd.co.kr/images/08cf65d158284d889864440a01c6bfd820171012082829.jpg\" alt=\"새우돈까스 덮밥\">                </div>                <div class=\"item-text\">                    <h4 class=\"h fz_03\">새우돈까스 덮밥</h4>                    <div class=\"item-price\">                        <span class=\"blind\">가격: </span><strong>3,900</strong>원                    </div>                </div>            </div>        </li>        <li class=\"item\" id=\"menuList_33\">            <div class=\"item-spacer\">                <a href=\"javascript:;\" onclick=\"goDetail(\\'4\\', \\'16\\', \\'33\\')\" class=\"item-cont\"></a>                <div class=\"item-img\">                    <img src=\"https://www.hsd.co.kr/images/079c0e024cdd48e0b82f7ed1d8f2c85120171012082757.jpg\" alt=\"돈까스 덮밥\">                </div>                <div class=\"item-text\">                    <h4 class=\"h fz_03\">돈까스 덮밥</h4>                    <div class=\"item-price\">                        <span class=\"blind\">가격: </span><strong>3,600</strong>원                    </div>                </div>            </div>        </li>    </ul></div><div class=\"list_wrap\" id=\"catelist_17\">    <p class=\"dp\">보울도시락</p>    <h3 class=\"h3_tit fz_01\">비빔밥</h3>    <ul class=\"menu_cont\">        <li class=\"item\" id=\"menuList_39\">            <div class=\"item-spacer\">                <a href=\"javascript:;\" onclick=\"goDetail(\\'4\\', \\'17\\', \\'39\\')\" class=\"item-cont\"></a>                <div class=\"item-img\">                    <img src=\"https://www.hsd.co.kr/images/c10edc2c2d0e4ff79367c110cf9fe11420180531085400.jpg\" alt=\"소불고기 감초고추장 비빔밥\">                </div>                <div class=\"item-text\">                    <h4 class=\"h fz_03\">소불고기 감초고추장 비빔밥</h4>                    <div class=\"item-price\">                        <span class=\"blind\">가격: </span><strong>4,800</strong>원                    </div>                </div>            </div>        </li>        <li class=\"item\" id=\"menuList_40\">            <div class=\"item-spacer\">                <a href=\"javascript:;\" onclick=\"goDetail(\\'4\\', \\'17\\', \\'40\\')\" class=\"item-cont\"></a>                <div class=\"item-img\">                    <img src=\"https://www.hsd.co.kr/images/ead7a4d64dc24f1480f128cb52e4694120180531085436.jpg\" alt=\"시골제육 두부강된장 비빔밥\">                </div>                <div class=\"item-text\">                    <h4 class=\"h fz_03\">시골제육 두부강된장 비빔밥</h4>                    <div class=\"item-price\">                        <span class=\"blind\">가격: </span><strong>4,800</strong>원                    </div>                </div>            </div>        </li>        <li class=\"item\" id=\"menuList_42\">            <div class=\"item-spacer\">                <a href=\"javascript:;\" onclick=\"goDetail(\\'4\\', \\'17\\', \\'42\\')\" class=\"item-cont\"></a>                <div class=\"item-img\">                    <img src=\"https://www.hsd.co.kr/images/7742a2629123408c89578153fa72518e20171012083106.jpg\" alt=\"참치야채 감초고추장\">                </div>                <div class=\"item-text\">                    <h4 class=\"h fz_03\">참치야채 감초고추장</h4>                    <div class=\"item-price\">                        <span class=\"blind\">가격: </span><strong>3,200</strong>원                    </div>                </div>            </div>        </li>    </ul></div><div class=\"list_wrap\" id=\"catelist_32\">    <p class=\"dp\">보울도시락</p>    <h3 class=\"h3_tit fz_01\">어린이도시락</h3>    <ul class=\"menu_cont\">        <li class=\"item\" id=\"menuList_316\">            <div class=\"item-spacer\">                <a href=\"javascript:;\" onclick=\"goDetail(\\'4\\', \\'32\\', \\'316\\')\" class=\"item-cont\"></a>                <div class=\"item-img\">                    <img src=\"https://www.hsd.co.kr/images/00679bf553ac408db988ff002ea8901d20200602024518.jpg\" alt=\"튼튼도시락\">                </div>                <div class=\"item-text\">                    <h4 class=\"h fz_03\">튼튼도시락</h4>                    <div class=\"item-price\">                        <span class=\"blind\">가격: </span><strong>5,000</strong>원                    </div>                </div>            </div>        </li>        <li class=\"item\" id=\"menuList_315\">            <div class=\"item-spacer\">                <a href=\"javascript:;\" onclick=\"goDetail(\\'4\\', \\'32\\', \\'315\\')\" class=\"item-cont\"></a>                <div class=\"item-img\">                    <img src=\"https://www.hsd.co.kr/images/3b79a227e57a41bdb2a3810f2c6a99c420200602024545.jpg\" alt=\"해피닭가슴살볶음밥\">                </div>                <div class=\"item-text\">                    <h4 class=\"h fz_03\">해피닭가슴살볶음밥</h4>                    <div class=\"item-price\">                        <span class=\"blind\">가격: </span><strong>5,000</strong>원                    </div>                </div>            </div>        </li>    </ul></div><div class=\"list_wrap\" id=\"catelist_18\">    <p class=\"dp\">실속반찬/사이드</p>    <h3 class=\"h3_tit fz_01\">실속반찬</h3>    <ul class=\"menu_cont\">        <li class=\"item\" id=\"menuList_211\">            <div class=\"item-spacer\">                <a href=\"javascript:;\" onclick=\"goDetail(\\'5\\', \\'18\\', \\'211\\')\" class=\"item-cont\"></a>                <div class=\"item-img\">                    <img src=\"https://www.hsd.co.kr/images/eae49bd89a22465ca251fd5741cbb05b20190130114540.jpg\" alt=\"반찬 계란말이\">                </div>                <div class=\"item-text\">                    <h4 class=\"h fz_03\">반찬 계란말이</h4>                    <div class=\"item-price\">                        <span class=\"blind\">가격: </span><strong>2,200</strong>원                    </div>                </div>            </div>        </li>        <li class=\"item\" id=\"menuList_210\">            <div class=\"item-spacer\">                <a href=\"javascript:;\" onclick=\"goDetail(\\'5\\', \\'18\\', \\'210\\')\" class=\"item-cont\"></a>                <div class=\"item-img\">                    <img src=\"https://www.hsd.co.kr/images/e1144a518b7346759c183ddb65b280f420190130113638.jpg\" alt=\"반찬 치즈계란말이\">                </div>                <div class=\"item-text\">                    <h4 class=\"h fz_03\">반찬 치즈계란말이</h4>                    <div class=\"item-price\">                        <span class=\"blind\">가격: </span><strong>2,800</strong>원                    </div>                </div>            </div>        </li>        <li class=\"item\" id=\"menuList_138\">            <div class=\"item-spacer\">                <a href=\"javascript:;\" onclick=\"goDetail(\\'5\\', \\'18\\', \\'138\\')\" class=\"item-cont\"></a>                <div class=\"item-img\">                    <img src=\"https://www.hsd.co.kr/images/e179d0d8f03645648ae3b0d2162c088120190109110329.jpg\" alt=\"반찬 묵은지김치찌개\">                </div>                <div class=\"item-text\">                    <h4 class=\"h fz_03\">반찬 묵은지김치찌개</h4>                    <div class=\"item-price\">                        <span class=\"blind\">가격: </span><strong>3,900</strong>원                    </div>                </div>            </div>        </li>        <li class=\"item\" id=\"menuList_137\">            <div class=\"item-spacer\">                <a href=\"javascript:;\" onclick=\"goDetail(\\'5\\', \\'18\\', \\'137\\')\" class=\"item-cont\"></a>                <div class=\"item-img\">                    <img src=\"https://www.hsd.co.kr/images/4225e042eff34943ac7d71567b2a61cd20190109110312.jpg\" alt=\"반찬 소고기육개장\">                </div>                <div class=\"item-text\">                    <h4 class=\"h fz_03\">반찬 소고기육개장</h4>                    <div class=\"item-price\">                        <span class=\"blind\">가격: </span><strong>4,100</strong>원                    </div>                </div>            </div>        </li>        <li class=\"item\" id=\"menuList_134\">            <div class=\"item-spacer\">                <a href=\"javascript:;\" onclick=\"goDetail(\\'5\\', \\'18\\', \\'134\\')\" class=\"item-cont\"></a>                <div class=\"item-img\">                    <img src=\"https://www.hsd.co.kr/images/07c7b9661803458bbc43c22fe1b6196e20180320024429.jpg\" alt=\"반찬 카레\">                </div>                <div class=\"item-text\">                    <h4 class=\"h fz_03\">반찬 카레</h4>                    <div class=\"item-price\">                        <span class=\"blind\">가격: </span><strong>2,400</strong>원                    </div>                </div>            </div>        </li>        <li class=\"item\" id=\"menuList_48\">            <div class=\"item-spacer\">                <a href=\"javascript:;\" onclick=\"goDetail(\\'5\\', \\'18\\', \\'48\\')\" class=\"item-cont\"></a>                <div class=\"item-img\">                    <img src=\"https://www.hsd.co.kr/images/255d39183ab843ccba8b1af7a7a9518a20171102033540.jpg\" alt=\"반찬 소불고기\">                </div>                <div class=\"item-text\">                    <h4 class=\"h fz_03\">반찬 소불고기</h4>                    <div class=\"item-price\">                        <span class=\"blind\">가격: </span><strong>3,900</strong>원                    </div>                </div>            </div>        </li>        <li class=\"item\" id=\"menuList_47\">            <div class=\"item-spacer\">                <a href=\"javascript:;\" onclick=\"goDetail(\\'5\\', \\'18\\', \\'47\\')\" class=\"item-cont\"></a>                <div class=\"item-img\">                    <img src=\"https://www.hsd.co.kr/images/1fa97edf12c8465384069a130a44a9fe20171102033524.jpg\" alt=\"반찬 순살 고등어데리야끼\">                </div>                <div class=\"item-text\">                    <h4 class=\"h fz_03\">반찬 순살 고등어데리야끼</h4>                    <div class=\"item-price\">                        <span class=\"blind\">가격: </span><strong>3,400</strong>원                    </div>                </div>            </div>        </li>        <li class=\"item\" id=\"menuList_51\">            <div class=\"item-spacer\">                <a href=\"javascript:;\" onclick=\"goDetail(\\'5\\', \\'18\\', \\'51\\')\" class=\"item-cont\"></a>                <div class=\"item-img\">                    <img src=\"https://www.hsd.co.kr/images/5cbc0975d52c4c5181f079d431ea74c420171102034928.jpg\" alt=\"반찬 치킨\">                </div>                <div class=\"item-text\">                    <h4 class=\"h fz_03\">반찬 치킨</h4>                    <div class=\"item-price\">                        <span class=\"blind\">가격: </span><strong>3,200</strong>원                    </div>                </div>            </div>        </li>        <li class=\"item\" id=\"menuList_49\">            <div class=\"item-spacer\">                <a href=\"javascript:;\" onclick=\"goDetail(\\'5\\', \\'18\\', \\'49\\')\" class=\"item-cont\"></a>                <div class=\"item-img\">                    <img src=\"https://www.hsd.co.kr/images/eae1b2b08a4145d09d4d2f1a3f42b9f920171102033553.jpg\" alt=\"반찬 고기고기\">                </div>                <div class=\"item-text\">                    <h4 class=\"h fz_03\">반찬 고기고기</h4>                    <div class=\"item-price\">                        <span class=\"blind\">가격: </span><strong>3,200</strong>원                    </div>                </div>            </div>        </li>        <li class=\"item\" id=\"menuList_52\">            <div class=\"item-spacer\">                <a href=\"javascript:;\" onclick=\"goDetail(\\'5\\', \\'18\\', \\'52\\')\" class=\"item-cont\"></a>                <div class=\"item-img\">                    <img src=\"https://www.hsd.co.kr/images/59f3fce4d3394efea81976461e59b8db20171102034946.jpg\" alt=\"반찬 돈까스 도련님\">                </div>                <div class=\"item-text\">                    <h4 class=\"h fz_03\">반찬 돈까스 도련님</h4>                    <div class=\"item-price\">                        <span class=\"blind\">가격: </span><strong>3,200</strong>원                    </div>                </div>            </div>        </li>        <li class=\"item\" id=\"menuList_50\">            <div class=\"item-spacer\">                <a href=\"javascript:;\" onclick=\"goDetail(\\'5\\', \\'18\\', \\'50\\')\" class=\"item-cont\"></a>                <div class=\"item-img\">                    <img src=\"https://www.hsd.co.kr/images/e35dbf3517c540b0a5be1d497da5688420171102034912.jpg\" alt=\"반찬 제육볶음\">                </div>                <div class=\"item-text\">                    <h4 class=\"h fz_03\">반찬 제육볶음</h4>                    <div class=\"item-price\">                        <span class=\"blind\">가격: </span><strong>3,100</strong>원                    </div>                </div>            </div>        </li>        <li class=\"item\" id=\"menuList_54\">            <div class=\"item-spacer\">                <a href=\"javascript:;\" onclick=\"goDetail(\\'5\\', \\'18\\', \\'54\\')\" class=\"item-cont\"></a>                <div class=\"item-img\">                    <img src=\"https://www.hsd.co.kr/images/b7abfb407ef845a0960ab4ca48f1477320171102035010.jpg\" alt=\"반찬 돈까스\">                </div>                <div class=\"item-text\">                    <h4 class=\"h fz_03\">반찬 돈까스</h4>                    <div class=\"item-price\">                        <span class=\"blind\">가격: </span><strong>2,500</strong>원                    </div>                </div>            </div>        </li>    </ul></div><div class=\"list_wrap\" id=\"catelist_19\">    <p class=\"dp\">실속반찬/사이드</p>    <h3 class=\"h3_tit fz_01\">스낵 시리즈</h3>    <ul class=\"menu_cont\">        <li class=\"item\" id=\"menuList_343\">            <div class=\"item-spacer\">                <a href=\"javascript:;\" onclick=\"goDetail(\\'5\\', \\'19\\', \\'343\\')\" class=\"item-cont\"></a>                <div class=\"item-img\">                    <img src=\"https://www.hsd.co.kr/images/f3f69c99a08240aba33af2ff62c952b820200929062951.jpg\" alt=\"아이스 애플망고\">                </div>                <div class=\"item-icon\">                    <div class=\"icon icon-new\">                        <span>NEW</span>                    </div>                </div>                <div class=\"item-text\">                    <h4 class=\"h fz_03\">아이스 애플망고</h4>                    <div class=\"item-price\">                        <span class=\"blind\">가격: </span><strong>1,500</strong>원                    </div>                </div>            </div>        </li>        <li class=\"item\" id=\"menuList_283\">            <div class=\"item-spacer\">                <a href=\"javascript:;\" onclick=\"goDetail(\\'5\\', \\'19\\', \\'283\\')\" class=\"item-cont\"></a>                <div class=\"item-img\">                    <img src=\"https://www.hsd.co.kr/images/073dc00f9c724075ba7f78d8fc15160720191130113947.jpg\" alt=\"바삭 군만두\">                </div>                <div class=\"item-text\">                    <h4 class=\"h fz_03\">바삭 군만두</h4>                    <div class=\"item-price\">                        <span class=\"blind\">가격: </span><strong>2,000</strong>원                    </div>                </div>            </div>        </li>        <li class=\"item\" id=\"menuList_282\">            <div class=\"item-spacer\">                <a href=\"javascript:;\" onclick=\"goDetail(\\'5\\', \\'19\\', \\'282\\')\" class=\"item-cont\"></a>                <div class=\"item-img\">                    <img src=\"https://www.hsd.co.kr/images/9575a4bfb44d4a3a8cdbac22da3dc60220191130113553.jpg\" alt=\"미니 찹쌀핫도그\">                </div>                <div class=\"item-text\">                    <h4 class=\"h fz_03\">미니 찹쌀핫도그</h4>                    <div class=\"item-price\">                        <span class=\"blind\">가격: </span><strong>2,500</strong>원                    </div>                </div>            </div>        </li>        <li class=\"item\" id=\"menuList_229\">            <div class=\"item-spacer\">                <a href=\"javascript:;\" onclick=\"goDetail(\\'5\\', \\'19\\', \\'229\\')\" class=\"item-cont\"></a>                <div class=\"item-img\">                    <img src=\"https://www.hsd.co.kr/images/c98dd63827a34bedba879a59014e7f4e20190605090705.jpg\" alt=\"미니 찹쌀탕수육\">                </div>                <div class=\"item-text\">                    <h4 class=\"h fz_03\">미니 찹쌀탕수육</h4>                    <div class=\"item-price\">                        <span class=\"blind\">가격: </span><strong>2,000</strong>원                    </div>                </div>            </div>        </li>        <li class=\"item\" id=\"menuList_179\">            <div class=\"item-spacer\">                <a href=\"javascript:;\" onclick=\"goDetail(\\'5\\', \\'19\\', \\'179\\')\" class=\"item-cont\"></a>                <div class=\"item-img\">                    <img src=\"https://www.hsd.co.kr/images/dcbd1a9b297146a89cde7190e2aae83a20190409042344.jpg\" alt=\"감자고로케\">                </div>                <div class=\"item-text\">                    <h4 class=\"h fz_03\">감자고로케</h4>                    <div class=\"item-price\">                        <span class=\"blind\">가격: </span><strong>2,000</strong>원                    </div>                </div>            </div>        </li>        <li class=\"item\" id=\"menuList_152\">            <div class=\"item-spacer\">                <a href=\"javascript:;\" onclick=\"goDetail(\\'5\\', \\'19\\', \\'152\\')\" class=\"item-cont\"></a>                <div class=\"item-img\">                    <img src=\"https://www.hsd.co.kr/images/bb64e1ab372f4697bb11eb5f4a8393cc20180316071553.jpg\" alt=\"케이준후라이\">                </div>                <div class=\"item-text\">                    <h4 class=\"h fz_03\">케이준후라이</h4>                    <div class=\"item-price\">                        <span class=\"blind\">가격: </span><strong>1,500</strong>원                    </div>                </div>            </div>        </li>    </ul></div><div class=\"list_wrap\" id=\"catelist_20\">    <p class=\"dp\">실속반찬/사이드</p>    <h3 class=\"h3_tit fz_01\">쉐이크샐러드</h3>    <ul class=\"menu_cont\">    </ul></div><div class=\"list_wrap\" id=\"catelist_21\">    <p class=\"dp\">실속반찬/사이드</p>    <h3 class=\"h3_tit fz_01\">간식안주 시리즈</h3>    <ul class=\"menu_cont\">        <li class=\"item\" id=\"menuList_319\">            <div class=\"item-spacer\">                <a href=\"javascript:;\" onclick=\"goDetail(\\'5\\', \\'21\\', \\'319\\')\" class=\"item-cont\"></a>                <div class=\"item-img\">                    <img src=\"https://www.hsd.co.kr/images/9a696cd3811c47069d30aaf48aeb4f8220201130015220.jpg\" alt=\"순살치킨 세트(대)\">                </div>                <div class=\"item-text\">                    <h4 class=\"h fz_03\">순살치킨 세트(대)</h4>                    <div class=\"item-price\">                        <span class=\"blind\">가격: </span><strong>13,000</strong>원                    </div>                </div>            </div>        </li>        <li class=\"item\" id=\"menuList_311\">            <div class=\"item-spacer\">                <a href=\"javascript:;\" onclick=\"goDetail(\\'5\\', \\'21\\', \\'311\\')\" class=\"item-cont\"></a>                <div class=\"item-img\">                    <img src=\"https://www.hsd.co.kr/images/3ef4b4024efe4ef3ba1d033915c3ad8420201130015241.jpg\" alt=\"순살치킨 세트(중)\">                </div>                <div class=\"item-text\">                    <h4 class=\"h fz_03\">순살치킨 세트(중)</h4>                    <div class=\"item-price\">                        <span class=\"blind\">가격: </span><strong>7,000</strong>원                    </div>                </div>            </div>        </li>        <li class=\"item\" id=\"menuList_313\">            <div class=\"item-spacer\">                <a href=\"javascript:;\" onclick=\"goDetail(\\'5\\', \\'21\\', \\'313\\')\" class=\"item-cont\"></a>                <div class=\"item-img\">                    <img src=\"https://www.hsd.co.kr/images/dc9f8d2dfb354af082b68df9aad68d4420201130015037.jpg\" alt=\"순살치킨믹스 세트\">                </div>                <div class=\"item-text\">                    <h4 class=\"h fz_03\">순살치킨믹스 세트</h4>                    <div class=\"item-price\">                        <span class=\"blind\">가격: </span><strong>14,000</strong>원                    </div>                </div>            </div>        </li>        <li class=\"item\" id=\"menuList_208\">            <div class=\"item-spacer\">                <a href=\"javascript:;\" onclick=\"goDetail(\\'5\\', \\'21\\', \\'208\\')\" class=\"item-cont\"></a>                <div class=\"item-img\">                    <img src=\"https://www.hsd.co.kr/images/d9cd4cb64c124069b903a8689f86b96920190331010320.jpg\" alt=\"찹쌀탕수육박스(대)\">                </div>                <div class=\"item-text\">                    <h4 class=\"h fz_03\">찹쌀탕수육박스(대)</h4>                    <div class=\"item-price\">                        <span class=\"blind\">가격: </span><strong>10,000</strong>원                    </div>                </div>            </div>        </li>        <li class=\"item\" id=\"menuList_207\">            <div class=\"item-spacer\">                <a href=\"javascript:;\" onclick=\"goDetail(\\'5\\', \\'21\\', \\'207\\')\" class=\"item-cont\"></a>                <div class=\"item-img\">                    <img src=\"https://www.hsd.co.kr/images/e1a5f254decf47d8871449c4f11f00c920190331010305.jpg\" alt=\"찹쌀탕수육박스(중)\">                </div>                <div class=\"item-text\">                    <h4 class=\"h fz_03\">찹쌀탕수육박스(중)</h4>                    <div class=\"item-price\">                        <span class=\"blind\">가격: </span><strong>5,000</strong>원                    </div>                </div>            </div>        </li>        <li class=\"item\" id=\"menuList_68\">            <div class=\"item-spacer\">                <a href=\"javascript:;\" onclick=\"goDetail(\\'5\\', \\'21\\', \\'68\\')\" class=\"item-cont\"></a>                <div class=\"item-img\">                    <img src=\"https://www.hsd.co.kr/images/0fd5e362e7a5419484c1902e2ba36db820190830060809.jpg\" alt=\"오리지널 닭강정(중)\">                </div>                <div class=\"item-text\">                    <h4 class=\"h fz_03\">오리지널 닭강정(중)</h4>                    <div class=\"item-price\">                        <span class=\"blind\">가격: </span><strong>7,500</strong>원                    </div>                </div>            </div>        </li>        <li class=\"item\" id=\"menuList_67\">            <div class=\"item-spacer\">                <a href=\"javascript:;\" onclick=\"goDetail(\\'5\\', \\'21\\', \\'67\\')\" class=\"item-cont\"></a>                <div class=\"item-img\">                    <img src=\"https://www.hsd.co.kr/images/06e6946f997b464682338b50b8ad547820190830060746.jpg\" alt=\"오리지널 닭강정(소)\">                </div>                <div class=\"item-text\">                    <h4 class=\"h fz_03\">오리지널 닭강정(소)</h4>                    <div class=\"item-price\">                        <span class=\"blind\">가격: </span><strong>2,800</strong>원                    </div>                </div>            </div>        </li>        <li class=\"item\" id=\"menuList_93\">            <div class=\"item-spacer\">                <a href=\"javascript:;\" onclick=\"goDetail(\\'5\\', \\'21\\', \\'93\\')\" class=\"item-cont\"></a>                <div class=\"item-img\">                    <img src=\"https://www.hsd.co.kr/images/5b83d3970ccd4bab8d39c318e35ee1a620201230051452.jpg\" alt=\"치킨 BOX(대) \">                </div>                <div class=\"item-text\">                    <h4 class=\"h fz_03\">치킨 BOX(대) </h4>                    <div class=\"item-price\">                        <span class=\"blind\">가격: </span><strong>10,000</strong>원                    </div>                </div>            </div>        </li>        <li class=\"item\" id=\"menuList_92\">            <div class=\"item-spacer\">                <a href=\"javascript:;\" onclick=\"goDetail(\\'5\\', \\'21\\', \\'92\\')\" class=\"item-cont\"></a>                <div class=\"item-img\">                    <img src=\"https://www.hsd.co.kr/images/a878567be85a4071a94d2e31b26b4d0220201229115450.jpg\" alt=\"치킨BOX(중)_양식소스\">                </div>                <div class=\"item-text\">                    <h4 class=\"h fz_03\">치킨BOX(중)_양식소스</h4>                    <div class=\"item-price\">                        <span class=\"blind\">가격: </span><strong>5,000</strong>원                    </div>                </div>            </div>        </li>        <li class=\"item\" id=\"menuList_139\">            <div class=\"item-spacer\">                <a href=\"javascript:;\" onclick=\"goDetail(\\'5\\', \\'21\\', \\'139\\')\" class=\"item-cont\"></a>                <div class=\"item-img\">                    <img src=\"https://www.hsd.co.kr/images/881caedccb214106950201a8c87975ea20201229115517.jpg\" alt=\"치킨BOX(중)_타르타르소스\">                </div>                <div class=\"item-text\">                    <h4 class=\"h fz_03\">치킨BOX(중)_타르타르소스</h4>                    <div class=\"item-price\">                        <span class=\"blind\">가격: </span><strong>5,000</strong>원                    </div>                </div>            </div>        </li>    </ul></div><div class=\"list_wrap\" id=\"catelist_22\">    <p class=\"dp\">실속반찬/사이드</p>    <h3 class=\"h3_tit fz_01\">미니반찬</h3>    <ul class=\"menu_cont\">        <li class=\"item\" id=\"menuList_271\">            <div class=\"item-spacer\">                <a href=\"javascript:;\" onclick=\"goDetail(\\'5\\', \\'22\\', \\'271\\')\" class=\"item-cont\"></a>                <div class=\"item-img\">                    <img src=\"https://www.hsd.co.kr/images/d5bb9285b5c440e48906d48f612b896c20200818042401.jpg\" alt=\"오징어젓갈\">                </div>                <div class=\"item-text\">                    <h4 class=\"h fz_03\">오징어젓갈</h4>                    <div class=\"item-price\">                        <span class=\"blind\">가격: </span><strong>400</strong>원                    </div>                </div>            </div>        </li>        <li class=\"item\" id=\"menuList_269\">            <div class=\"item-spacer\">                <a href=\"javascript:;\" onclick=\"goDetail(\\'5\\', \\'22\\', \\'269\\')\" class=\"item-cont\"></a>                <div class=\"item-img\">                    <img src=\"https://www.hsd.co.kr/images/7737e8ef071441a3b3d97e0c006bfe7720200818043121.jpg\" alt=\"오이지무침\">                </div>                <div class=\"item-text\">                    <h4 class=\"h fz_03\">오이지무침</h4>                    <div class=\"item-price\">                        <span class=\"blind\">가격: </span><strong>700</strong>원                    </div>                </div>            </div>        </li>        <li class=\"item\" id=\"menuList_245\">            <div class=\"item-spacer\">                <a href=\"javascript:;\" onclick=\"goDetail(\\'5\\', \\'22\\', \\'245\\')\" class=\"item-cont\"></a>                <div class=\"item-img\">                    <img src=\"https://www.hsd.co.kr/images/9fefee4867974aa0be3b8e73d957ac3320190709113524.jpg\" alt=\"한솥 두부강된장소스\">                </div>                <div class=\"item-text\">                    <h4 class=\"h fz_03\">한솥 두부강된장소스</h4>                    <div class=\"item-price\">                        <span class=\"blind\">가격: </span><strong>1,800</strong>원                    </div>                </div>            </div>        </li>        <li class=\"item\" id=\"menuList_244\">            <div class=\"item-spacer\">                <a href=\"javascript:;\" onclick=\"goDetail(\\'5\\', \\'22\\', \\'244\\')\" class=\"item-cont\"></a>                <div class=\"item-img\">                    <img src=\"https://www.hsd.co.kr/images/b2d2ba7c9a9445f986277a5734608d5b20190709112130.jpg\" alt=\"한솥 감초볶음고추장소스\">                </div>                <div class=\"item-text\">                    <h4 class=\"h fz_03\">한솥 감초볶음고추장소스</h4>                    <div class=\"item-price\">                        <span class=\"blind\">가격: </span><strong>500</strong>원                    </div>                </div>            </div>        </li>        <li class=\"item\" id=\"menuList_56\">            <div class=\"item-spacer\">                <a href=\"javascript:;\" onclick=\"goDetail(\\'5\\', \\'22\\', \\'56\\')\" class=\"item-cont\"></a>                <div class=\"item-img\">                    <img src=\"https://www.hsd.co.kr/images/c7e4e668d8fc4ca5adb03aa3e179930720200818042913.jpg\" alt=\"볶음김치\">                </div>                <div class=\"item-text\">                    <h4 class=\"h fz_03\">볶음김치</h4>                    <div class=\"item-price\">                        <span class=\"blind\">가격: </span><strong>400</strong>원                    </div>                </div>            </div>        </li>        <li class=\"item\" id=\"menuList_55\">            <div class=\"item-spacer\">                <a href=\"javascript:;\" onclick=\"goDetail(\\'5\\', \\'22\\', \\'55\\')\" class=\"item-cont\"></a>                <div class=\"item-img\">                    <img src=\"https://www.hsd.co.kr/images/d9d0d5d27a114593bc739e38179c021820200818042649.jpg\" alt=\"김치\">                </div>                <div class=\"item-text\">                    <h4 class=\"h fz_03\">김치</h4>                    <div class=\"item-price\">                        <span class=\"blind\">가격: </span><strong>300</strong>원                    </div>                </div>            </div>        </li>        <li class=\"item\" id=\"menuList_57\">            <div class=\"item-spacer\">                <a href=\"javascript:;\" onclick=\"goDetail(\\'5\\', \\'22\\', \\'57\\')\" class=\"item-cont\"></a>                <div class=\"item-img\">                    <img src=\"https://www.hsd.co.kr/images/d7abf3fbaa55467d9124f936908841c620200818042944.jpg\" alt=\"무말랭이\">                </div>                <div class=\"item-text\">                    <h4 class=\"h fz_03\">무말랭이</h4>                    <div class=\"item-price\">                        <span class=\"blind\">가격: </span><strong>300</strong>원                    </div>                </div>            </div>        </li>    </ul></div></div>\\n\\n                    <!-- 더보기 btn -->\\n                    <div class=\"btn_wrap btn_more\" style=\"display: none;\" id=\"btn_more\">\\n                        <span class=\"btn btn_st04\">\\n                            <a href=\"#none\" class=\"c_05\" onclick=\"more();return false;\">더 보기</a>\\n                        </span>\\n                    </div>\\n                    <!-- //더보기 btn -->\\n                    <!-- 안내문구 -->\\n                    <div class=\"menu_guidance fz_03\">\\n                        <p>한솥의 모든 메뉴는 1시간 이내에 드시는 것이 가장 맛있습니다.</p>\\n                    </div>\\n                    <!-- //안내문구 -->\\n                </div>\\n                <!-- //menu_list -->\\n            </div>\\n            <!-- //메뉴 cont -->\\n        </div>\\n        <!-- //한솥 메뉴 -->\\n    </section>\\n</div>\\n\\n<!-- more_cont -->\\n<div class=\"conts_more\">\\n    <h2 class=\"more_tit\">더 많은 이야기</h2>\\n    <ul>\\n        <li>\\n            <a href=\"/store/store_find\" class=\"more_link\"></a>\\n            <figure>\\n                <span class=\"more_img\">\\n                    <img src=\"/assets/images/common/more_store.jpg\" alt=\"한솥 STORE\">\\n                </span>\\n                <figcaption>\\n                    <h3 class=\"h3_tit\">한솥 STORE</h3>\\n                    <h3 class=\"h3_tit_o\">한솥 STORE</h3>\\n                </figcaption>\\n            </figure>\\n        </li>\\n        <li>\\n            <a href=\"/event/event_list\" class=\"more_link\"></a>\\n            <figure>\\n                <span class=\"more_img\">\\n                    <img src=\"/assets/images/common/more_event.jpg\" alt=\"이 달의 이벤트\">\\n                </span>\\n                <figcaption>\\n                    <h3 class=\"h3_tit\">이 달의 이벤트</h3>\\n                    <h3 class=\"h3_tit_o\">이 달의 이벤트</h3>\\n                </figcaption>\\n            </figure>\\n        </li>\\n        <li>\\n            <a href=\"/event/store_event_list\" class=\"more_link\"></a>\\n            <figure>\\n                <span class=\"more_img\">\\n                    <img src=\"/assets/images/common/more_event_store.jpg\" alt=\"신규점 오픈 이벤트\">\\n                </span>\\n                <figcaption>\\n                    <h3 class=\"h3_tit\">신규점 오픈 이벤트</h3>\\n                    <h3 class=\"h3_tit_o\">신규점 오픈 이벤트</h3>\\n                </figcaption>\\n            </figure>\\n        </li>\\n    </ul>\\n</div>\\n<!--// more_cont-->\\n<script>\\n    var currentCate1 = parseInt(\\'\\');\\n    if(isNaN(currentCate1)) currentCate1 = 0;\\n    var currentCate2 = parseInt(\\'\\');\\n    if(isNaN(currentCate2)) currentCate2 = 0;\\n    var nextCate = 0;\\n    var page = parseInt(\\'\\');\\n    if(isNaN(page)) page = 0;\\n    var idx = parseInt(\\'\\');\\n    if(isNaN(idx)) idx = 0;\\n\\n    $(function(){\\n        if(currentCate1 > 0 && currentCate2 > 0){\\n            $(\".lnb .dp1.active\").removeClass(\"active\");\\n            $(\".lnb .dp2 li.active\").removeClass(\"on\");\\n\\n            $(\"#cate_\"+currentCate1).addClass(\"active\");\\n            $(\"#child_\"+currentCate2).addClass(\"on\");\\n\\n            showMenuList(currentCate1, currentCate2);\\n        }else {\\n            allMenu();\\n        }\\n    });\\n\\n    // 전체메뉴 보기\\n    function allMenu() {\\n        currentCate1 = parseInt($(\".lnb .dp1:eq(1)\").attr(\"idx\"));\\n        if(isNaN(currentCate1)) currentCate1 = 0;\\n        currentCate2 = 0;\\n\\n        $(\"#menu_cont\").html(\"\");\\n        showMenuList(currentCate1, 0);\\n    }\\n\\n    // 메뉴 리스트 가져오기\\n    function showMenuList(cate1, cate2) {\\n        cate1 = parseInt($.trim(cate1));\\n        cate2 = parseInt($.trim(cate2));\\n        if(isNaN(cate1)) cate1 = 0;\\n        if(isNaN(cate2)) cate2 = 0;\\n\\n        $(\".lnb .dp2 li\").removeClass(\"on\");\\n        $(\"#child_\" + cate2).addClass(\"on\");\\n        $.ajax({\\n            type: \\'POST\\',\\n            url: \"/api/menu/menu_list/\" + cate1 + \"/\" + cate2,\\n            headers: {\\n                Accept : \"application/json; charset=utf-8\",\\n                \"Content-Type\": \"application/json; charset=utf-8\"\\n            },\\n            dataType : \"json\"\\n        }).done(function(data) {\\n\\n            if(data.cate1Info == null) return;\\n\\n            var cate1Info = data.cate1Info;\\n            var cate2Info = \"\";\\n            var list = \"\";\\n            var tails = \"\";\\n\\n            $.each(data.subdata, function(key, row){\\n                cate2Info = row.cate2Info;\\n\\n                list += \\'<div class=\"list_wrap\" id=\"catelist_\\' + cate2Info.idx + \\'\">\\';\\n                list += \\'    <p class=\"dp\">\\' + cate1Info.name + \\'</p>\\';\\n                list += \\'    <h3 class=\"h3_tit fz_01\">\\' + cate2Info.name + \\'</h3>\\';\\n                list += \\'    <ul class=\"menu_cont\">\\';\\n\\n                $.each(row.goodsList, function(key2, row2) {\\n\\n                    tails = \\'?cate1=\\' + cate1Info.idx + \\'&cate2=\\' + cate2Info.idx;\\n                    if(page > 0) tails += \\'&page=\\' + page;\\n\\n\\n                    list += \\'        <li class=\"item\" id=\"menuList_\\' + row2[\"idx\"] + \\'\">\\';\\n                    list += \\'            <div class=\"item-spacer\">\\';\\n                    list += \\'                <a href=\"javascript:;\" onclick=\"goDetail(\\\\\\'\\' + cate1Info.idx + \\'\\\\\\', \\\\\\'\\' + cate2Info.idx + \\'\\\\\\', \\\\\\'\\' + row2[\"idx\"] + \\'\\\\\\')\" class=\"item-cont\"></a>\\';\\n                    list += \\'                <div class=\"item-img\">\\';\\n                    list += \\'                    <img src=\"\\' + row2[\"imagePath\"] + \\'\" alt=\"\\' + row2[\"title\"] + \\'\">\\';\\n                    list += \\'                </div>\\';\\n\\n                    if(row2[\"newYn\"] == \\'Y\\') {\\n                        list += \\'                <div class=\"item-icon\">\\';\\n                        list += \\'                    <div class=\"icon icon-new\">\\';\\n                        list += \\'                        <span>NEW</span>\\';\\n                        list += \\'                    </div>\\';\\n                        list += \\'                </div>\\';\\n                    }\\n\\n                    list += \\'                <div class=\"item-text\">\\';\\n                    list += \\'                    <h4 class=\"h fz_03\">\\' + row2[\"title\"] + \\'</h4>\\';\\n                    list += \\'                    <div class=\"item-price\">\\';\\n                    list += \\'                        <span class=\"blind\">가격: </span><strong>\\' + tss.util.comma(row2[\"price\"]) + \\'</strong>원\\';\\n                    list += \\'                    </div>\\';\\n                    list += \\'                </div>\\';\\n                    list += \\'            </div>\\';\\n                    list += \\'        </li>\\';\\n                });\\n\\n                list += \\'    </ul>\\';\\n                list += \\'</div>\\';\\n            });\\n\\n            // 다음\\n            if($(\".lnb .dp_all\").hasClass(\"active\")) {  // 전체보기\\n                $(\"#menu_cont\").append(list);\\n\\n                nextCate = $(\".lnb li#cate_\" + cate1).next().attr(\"idx\");\\n                if (nextCate === undefined) {\\n                    $(\"#btn_more\").hide();\\n                } else {\\n                    $(\"#btn_more\").show();\\n                }\\n\\n            }else{  // 카테고리 단독보기\\n                $(\"#menu_cont\").html(list);\\n                $(\"#btn_more\").hide();\\n            }\\n\\n            // 모바일에서 gnb 닫기\\n            if($(\\'.dim\\').hasClass(\\'on\\')) {\\n                $(\".lnb_btn_close\").trigger(\\'click\\');\\n                $(\"#menu_cont\").scrollToMe();\\n            }\\n\\n            // 해당메뉴로 이동\\n            if(idx > 0) {\\n                $(\"#menuList_\" + idx).scrollToMe();\\n                idx = 0;\\n            }\\n\\n        }).fail(function(data) {\\n            console.log(data);\\n            tss.util.alert(\"일시적인 오류가 발생했습니다.\\\\n화면을 새로고침 한 이후에 다시 시도해 주세요.\");\\n        });\\n    }\\n\\n    // 더보기\\n    function more() {\\n        page = page + 1;\\n        showMenuList(nextCate, 0);\\n    }\\n\\n    // 상세이동\\n    function goDetail(cate1, cate2, idx) {\\n\\n        var tails = \"?cate1=\" + cate1 + \"&cate2=\" + cate2;\\n        location.href = \"/menu/menu_view/\" + idx + tails;\\n\\n        // url 변경\\n        if(typeof(history.pushState) == \\'function\\') {\\n            var renewURL = location.pathname;\\n            history.pushState(null, null, renewURL + tails);\\n        }\\n    }\\n</script>\\n\\n    </div>\\n    <!--// container e -->\\n\\n    <!-- inc footer s -->\\n    <!-- footer -->\\n<footer id=\"footer\">\\n    <div class=\"ft_content mo_version\">\\n\\n        <!-- family goods -->\\n        <div class=\"ft_menu\">\\n            <ul>\\n                <li class=\"first_be off\"><a href=\"/footer/incruit\">인재채용</a></li>\\n                <li class=\"off\"><a href=\"/footer/partners\">협력업체등록</a></li>\\n                <li class=\"mo_bl\"><a href=\"/footer/notice_list\">공지사항</a></li>\\n                <li><a href=\"/footer/faq_list\">고객 센터</a></li>\\n                <li class=\"mo_bl\"><a href=\"/footer/policy\"><strong>개인정보취급방침</strong></a></li>\\n                <li><a href=\"/footer/agreement\">이용약관</a></li>\\n            </ul>\\n        </div>\\n        <!--// family goods -->\\n\\t\\t<div class=\"mark_webaward\"><p><span class=\"blind\">web award korea 2017 프랜차이즈분야 대상2017</span></p></div><!-- 2018-01-11웹어워드마크 -->\\n        <!-- info -->\\n        <div class=\"ft_info_wrap\">\\n            <!-- pc -->\\n            <div class=\"ft_info pc_info\">\\n                <span class=\"first_be\">대표이사  이영덕</span>\\n                <span>사업자등록번호  214-81-96569</span>\\n                <span>서울시 강남구 강남대로 318(역삼동) 타워837빌딩 8,9층</span>\\n                <span>T.  02-585-1114</span>\\n                <span>F.  02-598-1116</span>\\n                <span class=\"first_be\">E.  webmaster@hsd.co.kr</span>\\n                <span>한솥 도시락 고객센터  02-585-1114</span>\\n                <span>전국창업설명회  1811-0188</span>\\n                <span>단체주문  1644-3288</span>\\n            </div>\\n            <!-- //pc -->\\n            <!-- mobile -->\\n            <div class=\"ft_info mo_info\">\\n                <div class=\"mo_info_list\">\\n                    <p class=\"btn_toggle\">\\n                        <a href=\"#none\">한솥 사업자 정보</a>\\n                    </p>\\n                    <div class=\"mo_info_on\" style=\"display: none;\">\\n                        <span class=\"mo_bl\">대표이사  이영덕</span>\\n                        <span>사업자등록번호  214-81-96569</span>\\n                        <br>\\n                        <span class=\"mo_bl\">서울시 강남구 강남대로 318(역삼동) 타워837빌딩 8,9층</span>\\n                        <br>\\n                        <span class=\"mo_bl\">T.  02-585-1114</span>\\n                        <span>F.  02-598-1116</span>\\n                        <br>\\n                        <span class=\"mo_bl\">E.  webmaster@hsd.co.kr</span>\\n                        <div class=\"mo_info_call\">\\n                            <dl>\\n                                <dt>한솥 고객센터</dt>\\n                                <dd>02-585-1114</dd>\\n                            </dl>\\n                            <dl>\\n                                <dt>전국창업설명회</dt>\\n                                <dd>1811-0188</dd>\\n                            </dl>\\n                            <dl>\\n                                <dt>단체주문</dt>\\n                                <dd>1644-3288</dd>\\n                            </dl>\\n                        </div>\\n                    </div>\\n                </div>\\n            </div>\\n            <!-- //mobile -->\\n\\n            <p class=\"copyright\">COPYRIGHT<span>©</span>㈜한솥. ALL RIGHTS RESERVED.</p>\\n\\n            <div class=\"ft_sns\">\\n                <a href=\"https://www.instagram.com/hansot_official/\" target=\"_blank\" title=\"새 창 열림\" class=\"sns_insta_02\"><span class=\"blind\">instagram</span></a>\\n                <a href=\"https://www.facebook.com/hansotOfficial/?ref=ts&amp;fref=ts\" target=\"_blank\" class=\"sns_face_02\" title=\"새 창 열림\"><span class=\"blind\">facebook</span></a>\\n            </div>\\n        </div>\\n        <!--// info -->\\n    </div>\\n</footer>\\n<!--// footer -->\\n\\n<script async=\"\" src=\"https://www.googletagmanager.com/gtag/js?id=UA-109125197-1\"></script>\\n        <script>\\n            window.dataLayer = window.dataLayer || [];\\n            function gtag(){dataLayer.push(arguments);}\\n            gtag(\\'js\\', new Date());\\n\\n            gtag(\\'config\\', \\'UA-109125197-1\\');\\n        </script>\\n    <!--// inc footer e -->\\n\\n</div>\\n<!--// wrap e -->\\n\\n</body></html>'"
      ]
     },
     "execution_count": 41,
     "metadata": {},
     "output_type": "execute_result"
    }
   ],
   "source": [
    "driver.page_source # res.text와 같이 HTML소스코드를 문자열로 반환"
   ]
  },
  {
   "cell_type": "code",
   "execution_count": 42,
   "metadata": {},
   "outputs": [],
   "source": [
    "# 모든 제어가 끝난 후 bs로 변환\n",
    "# 변환이 끝난 후 브라우저 종료\n",
    "\n",
    "html = bs(driver.page_source, 'html.parser')\n",
    "driver.quit()"
   ]
  },
  {
   "cell_type": "markdown",
   "metadata": {},
   "source": [
    "한솥 메뉴, 가격 불러오기"
   ]
  },
  {
   "cell_type": "code",
   "execution_count": 43,
   "metadata": {},
   "outputs": [],
   "source": [
    "menu_price = html.select('div.item-text')"
   ]
  },
  {
   "cell_type": "code",
   "execution_count": 59,
   "metadata": {},
   "outputs": [],
   "source": [
    "menu_list = []\n",
    "price_list = []\n",
    "for i in range(len(menu_price)):\n",
    "        menu_end = menu_price[i].text.find('격')\n",
    "        \n",
    "        menu_list.append(menu_price[i].text[0:menu_end-1])\n",
    "        price_list.append(menu_price[i].text[menu_end+2:])"
   ]
  },
  {
   "cell_type": "markdown",
   "metadata": {},
   "source": [
    "dataframe으로 만들고 csv 저장"
   ]
  },
  {
   "cell_type": "code",
   "execution_count": 52,
   "metadata": {},
   "outputs": [],
   "source": [
    "from pandas import DataFrame"
   ]
  },
  {
   "cell_type": "code",
   "execution_count": 56,
   "metadata": {},
   "outputs": [
    {
     "data": {
      "text/html": [
       "<div>\n",
       "<style scoped>\n",
       "    .dataframe tbody tr th:only-of-type {\n",
       "        vertical-align: middle;\n",
       "    }\n",
       "\n",
       "    .dataframe tbody tr th {\n",
       "        vertical-align: top;\n",
       "    }\n",
       "\n",
       "    .dataframe thead th {\n",
       "        text-align: right;\n",
       "    }\n",
       "</style>\n",
       "<table border=\"1\" class=\"dataframe\">\n",
       "  <thead>\n",
       "    <tr style=\"text-align: right;\">\n",
       "      <th></th>\n",
       "      <th>메뉴</th>\n",
       "      <th>가격</th>\n",
       "    </tr>\n",
       "  </thead>\n",
       "  <tbody>\n",
       "    <tr>\n",
       "      <th>0</th>\n",
       "      <td>매화(치킨, 연어구이)</td>\n",
       "      <td>10,000원</td>\n",
       "    </tr>\n",
       "    <tr>\n",
       "      <th>1</th>\n",
       "      <td>매화 (순살 고등어 간장구이)</td>\n",
       "      <td>10,000원</td>\n",
       "    </tr>\n",
       "    <tr>\n",
       "      <th>2</th>\n",
       "      <td>진달래</td>\n",
       "      <td>7,000원</td>\n",
       "    </tr>\n",
       "    <tr>\n",
       "      <th>3</th>\n",
       "      <td>개나리(순살 고등어 간장구이)</td>\n",
       "      <td>8,000원</td>\n",
       "    </tr>\n",
       "    <tr>\n",
       "      <th>4</th>\n",
       "      <td>생선까스도련님고기고기</td>\n",
       "      <td>5,500원</td>\n",
       "    </tr>\n",
       "    <tr>\n",
       "      <th>...</th>\n",
       "      <td>...</td>\n",
       "      <td>...</td>\n",
       "    </tr>\n",
       "    <tr>\n",
       "      <th>95</th>\n",
       "      <td>한솥 두부강된장소스</td>\n",
       "      <td>1,800원</td>\n",
       "    </tr>\n",
       "    <tr>\n",
       "      <th>96</th>\n",
       "      <td>한솥 감초볶음고추장소스</td>\n",
       "      <td>500원</td>\n",
       "    </tr>\n",
       "    <tr>\n",
       "      <th>97</th>\n",
       "      <td>볶음김치</td>\n",
       "      <td>400원</td>\n",
       "    </tr>\n",
       "    <tr>\n",
       "      <th>98</th>\n",
       "      <td>김치</td>\n",
       "      <td>300원</td>\n",
       "    </tr>\n",
       "    <tr>\n",
       "      <th>99</th>\n",
       "      <td>무말랭이</td>\n",
       "      <td>300원</td>\n",
       "    </tr>\n",
       "  </tbody>\n",
       "</table>\n",
       "<p>100 rows × 2 columns</p>\n",
       "</div>"
      ],
      "text/plain": [
       "                     메뉴                             가격\n",
       "0        매화(치킨, 연어구이)     10,000원                     \n",
       "1    매화 (순살 고등어 간장구이)     10,000원                     \n",
       "2                 진달래      7,000원                     \n",
       "3    개나리(순살 고등어 간장구이)      8,000원                     \n",
       "4         생선까스도련님고기고기      5,500원                     \n",
       "..                  ...                            ...\n",
       "95         한솥 두부강된장소스      1,800원                     \n",
       "96       한솥 감초볶음고추장소스        500원                     \n",
       "97               볶음김치        400원                     \n",
       "98                 김치        300원                     \n",
       "99               무말랭이        300원                     \n",
       "\n",
       "[100 rows x 2 columns]"
      ]
     },
     "execution_count": 56,
     "metadata": {},
     "output_type": "execute_result"
    }
   ],
   "source": [
    "df = DataFrame({\"메뉴\":menu_list, \"가격\":price_list})\n",
    "df"
   ]
  },
  {
   "cell_type": "code",
   "execution_count": 58,
   "metadata": {},
   "outputs": [],
   "source": [
    "df.to_csv('한솥메뉴가격.csv', encoding = 'utf-8-sig')"
   ]
  },
  {
   "cell_type": "markdown",
   "metadata": {},
   "source": [
    "## 멜론차트 곡명, 좋아요 수집\n",
    "- '멜론_음원_정보.csv' 저장"
   ]
  },
  {
   "cell_type": "code",
   "execution_count": 60,
   "metadata": {},
   "outputs": [],
   "source": [
    "driver = webdriver.Chrome()\n",
    "\n",
    "url = 'https://www.melon.com/chart/day/index.htm'\n",
    "\n",
    "driver.get(url)"
   ]
  },
  {
   "cell_type": "code",
   "execution_count": 61,
   "metadata": {},
   "outputs": [],
   "source": [
    "html = bs(driver.page_source, 'html.parser')\n",
    "driver.quit()"
   ]
  },
  {
   "cell_type": "code",
   "execution_count": 62,
   "metadata": {},
   "outputs": [],
   "source": [
    "likes = html.select('span.cnt') # span.odd_span + span.cnt"
   ]
  },
  {
   "cell_type": "code",
   "execution_count": 72,
   "metadata": {},
   "outputs": [],
   "source": [
    "like_list = []\n",
    "for i in range(len(likes)):\n",
    "    if i > 6 :\n",
    "        like_tmp = likes[i].text.strip()\n",
    "        like_list.append(like_tmp[4:])"
   ]
  },
  {
   "cell_type": "code",
   "execution_count": 75,
   "metadata": {},
   "outputs": [],
   "source": [
    "songnames = html.select('div.ellipsis.rank01')"
   ]
  },
  {
   "cell_type": "code",
   "execution_count": 76,
   "metadata": {},
   "outputs": [
    {
     "data": {
      "text/plain": [
       "100"
      ]
     },
     "execution_count": 76,
     "metadata": {},
     "output_type": "execute_result"
    }
   ],
   "source": [
    "len(songnames)"
   ]
  },
  {
   "cell_type": "code",
   "execution_count": 78,
   "metadata": {},
   "outputs": [],
   "source": [
    "song_list = []\n",
    "for i in range(len(songnames)):\n",
    "    song_list.append(songnames[i].text.strip())"
   ]
  },
  {
   "cell_type": "code",
   "execution_count": 79,
   "metadata": {},
   "outputs": [
    {
     "data": {
      "text/html": [
       "<div>\n",
       "<style scoped>\n",
       "    .dataframe tbody tr th:only-of-type {\n",
       "        vertical-align: middle;\n",
       "    }\n",
       "\n",
       "    .dataframe tbody tr th {\n",
       "        vertical-align: top;\n",
       "    }\n",
       "\n",
       "    .dataframe thead th {\n",
       "        text-align: right;\n",
       "    }\n",
       "</style>\n",
       "<table border=\"1\" class=\"dataframe\">\n",
       "  <thead>\n",
       "    <tr style=\"text-align: right;\">\n",
       "      <th></th>\n",
       "      <th>노래제목</th>\n",
       "      <th>좋아요수</th>\n",
       "    </tr>\n",
       "  </thead>\n",
       "  <tbody>\n",
       "    <tr>\n",
       "      <th>0</th>\n",
       "      <td>Celebrity</td>\n",
       "      <td>152,646</td>\n",
       "    </tr>\n",
       "    <tr>\n",
       "      <th>1</th>\n",
       "      <td>밤하늘의 별을(2020)</td>\n",
       "      <td>114,169</td>\n",
       "    </tr>\n",
       "    <tr>\n",
       "      <th>2</th>\n",
       "      <td>VVS (Feat. JUSTHIS) (Prod. GroovyRoom)</td>\n",
       "      <td>162,794</td>\n",
       "    </tr>\n",
       "    <tr>\n",
       "      <th>3</th>\n",
       "      <td>Dynamite</td>\n",
       "      <td>379,152</td>\n",
       "    </tr>\n",
       "    <tr>\n",
       "      <th>4</th>\n",
       "      <td>이 밤을 빌려 말해요 (바른연애 길잡이 X 10CM)</td>\n",
       "      <td>28,044</td>\n",
       "    </tr>\n",
       "    <tr>\n",
       "      <th>...</th>\n",
       "      <td>...</td>\n",
       "      <td>...</td>\n",
       "    </tr>\n",
       "    <tr>\n",
       "      <th>95</th>\n",
       "      <td>ON</td>\n",
       "      <td>255,325</td>\n",
       "    </tr>\n",
       "    <tr>\n",
       "      <th>96</th>\n",
       "      <td>너도 아는</td>\n",
       "      <td>41,359</td>\n",
       "    </tr>\n",
       "    <tr>\n",
       "      <th>97</th>\n",
       "      <td>여백의 미 (Feat. Jessi, JUSTHIS) (Prod. GroovyRoom)</td>\n",
       "      <td>24,483</td>\n",
       "    </tr>\n",
       "    <tr>\n",
       "      <th>98</th>\n",
       "      <td>나로 바꾸자 (duet with JYP)</td>\n",
       "      <td>20,029</td>\n",
       "    </tr>\n",
       "    <tr>\n",
       "      <th>99</th>\n",
       "      <td>놓아줘 (with 태연)</td>\n",
       "      <td>50,418</td>\n",
       "    </tr>\n",
       "  </tbody>\n",
       "</table>\n",
       "<p>100 rows × 2 columns</p>\n",
       "</div>"
      ],
      "text/plain": [
       "                                               노래제목     좋아요수\n",
       "0                                         Celebrity  152,646\n",
       "1                                     밤하늘의 별을(2020)  114,169\n",
       "2            VVS (Feat. JUSTHIS) (Prod. GroovyRoom)  162,794\n",
       "3                                          Dynamite  379,152\n",
       "4                     이 밤을 빌려 말해요 (바른연애 길잡이 X 10CM)   28,044\n",
       "..                                              ...      ...\n",
       "95                                               ON  255,325\n",
       "96                                            너도 아는   41,359\n",
       "97  여백의 미 (Feat. Jessi, JUSTHIS) (Prod. GroovyRoom)   24,483\n",
       "98                           나로 바꾸자 (duet with JYP)   20,029\n",
       "99                                    놓아줘 (with 태연)   50,418\n",
       "\n",
       "[100 rows x 2 columns]"
      ]
     },
     "execution_count": 79,
     "metadata": {},
     "output_type": "execute_result"
    }
   ],
   "source": [
    "df = DataFrame({\"노래제목\":song_list, \"좋아요수\":like_list})\n",
    "df"
   ]
  },
  {
   "cell_type": "code",
   "execution_count": 80,
   "metadata": {},
   "outputs": [],
   "source": [
    "df.to_csv('멜론_음원_정보.csv', encoding = 'utf-8-sig', index = False)"
   ]
  },
  {
   "cell_type": "markdown",
   "metadata": {},
   "source": [
    "## 스타벅스 음료 영양정보 수집\n",
    "1. '사진으로보기' -> '영양정보로보기'를 클릭\n",
    "2. bs로 변환\n",
    "3. 음료명과 영양정보들을 수집\n",
    "4. 스타벅스_음료_영양정보.csv로 저장"
   ]
  },
  {
   "cell_type": "code",
   "execution_count": 81,
   "metadata": {},
   "outputs": [],
   "source": [
    "driver = webdriver.Chrome()\n",
    "\n",
    "url = 'https://www.starbucks.co.kr/menu/drink_list.do'\n",
    "\n",
    "driver.get(url)"
   ]
  },
  {
   "cell_type": "code",
   "execution_count": 82,
   "metadata": {},
   "outputs": [],
   "source": [
    "driver.find_element_by_css_selector('a.a2').click()"
   ]
  },
  {
   "cell_type": "code",
   "execution_count": 83,
   "metadata": {},
   "outputs": [],
   "source": [
    "html = bs(driver.page_source, 'html.parser')\n",
    "driver.quit()"
   ]
  },
  {
   "cell_type": "code",
   "execution_count": 85,
   "metadata": {},
   "outputs": [],
   "source": [
    "nutris = html.select('td')"
   ]
  },
  {
   "cell_type": "code",
   "execution_count": 98,
   "metadata": {},
   "outputs": [
    {
     "data": {
      "text/plain": [
       "903"
      ]
     },
     "execution_count": 98,
     "metadata": {},
     "output_type": "execute_result"
    }
   ],
   "source": [
    "len(nutris)"
   ]
  },
  {
   "cell_type": "code",
   "execution_count": 88,
   "metadata": {},
   "outputs": [
    {
     "data": {
      "text/plain": [
       "'나이트로 바닐라 크림'"
      ]
     },
     "execution_count": 88,
     "metadata": {},
     "output_type": "execute_result"
    }
   ],
   "source": [
    "nutris[0].text"
   ]
  },
  {
   "cell_type": "code",
   "execution_count": 94,
   "metadata": {},
   "outputs": [],
   "source": [
    "menu_list = []\n",
    "cal_list = []\n",
    "sug_list = []\n",
    "prot_list = []\n",
    "nat_list = []\n",
    "fat_list = []\n",
    "caf_list = []\n",
    "\n",
    "for i in range(len(nutris)):\n",
    "    if i%7 == 0 :\n",
    "        menu_list.append(nutris[i].text)\n",
    "    if i%7 == 1 :\n",
    "        cal_list.append(nutris[i].text)\n",
    "    if i%7 == 2 :\n",
    "        sug_list.append(nutris[i].text)\n",
    "    if i%7 == 3 :\n",
    "        prot_list.append(nutris[i].text)\n",
    "    if i%7 == 4 :\n",
    "        nat_list.append(nutris[i].text)\n",
    "    if i%7 == 5 :\n",
    "        fat_list.append(nutris[i].text)\n",
    "    if i%7 == 6 :\n",
    "        caf_list.append(nutris[i].text)"
   ]
  },
  {
   "cell_type": "code",
   "execution_count": 96,
   "metadata": {
    "scrolled": true
   },
   "outputs": [
    {
     "data": {
      "text/html": [
       "<div>\n",
       "<style scoped>\n",
       "    .dataframe tbody tr th:only-of-type {\n",
       "        vertical-align: middle;\n",
       "    }\n",
       "\n",
       "    .dataframe tbody tr th {\n",
       "        vertical-align: top;\n",
       "    }\n",
       "\n",
       "    .dataframe thead th {\n",
       "        text-align: right;\n",
       "    }\n",
       "</style>\n",
       "<table border=\"1\" class=\"dataframe\">\n",
       "  <thead>\n",
       "    <tr style=\"text-align: right;\">\n",
       "      <th></th>\n",
       "      <th>메뉴</th>\n",
       "      <th>칼로리(Kcal)</th>\n",
       "      <th>당류(g)</th>\n",
       "      <th>단백질(g)</th>\n",
       "      <th>나트륨(mg)</th>\n",
       "      <th>포화지방(g)</th>\n",
       "      <th>카페인(mg)</th>\n",
       "    </tr>\n",
       "  </thead>\n",
       "  <tbody>\n",
       "    <tr>\n",
       "      <th>0</th>\n",
       "      <td>나이트로 바닐라 크림</td>\n",
       "      <td>75</td>\n",
       "      <td>10</td>\n",
       "      <td>1</td>\n",
       "      <td>20</td>\n",
       "      <td>2</td>\n",
       "      <td>245</td>\n",
       "    </tr>\n",
       "    <tr>\n",
       "      <th>1</th>\n",
       "      <td>나이트로 콜드 브루</td>\n",
       "      <td>5</td>\n",
       "      <td>0</td>\n",
       "      <td>0</td>\n",
       "      <td>5</td>\n",
       "      <td>0</td>\n",
       "      <td>245</td>\n",
       "    </tr>\n",
       "    <tr>\n",
       "      <th>2</th>\n",
       "      <td>돌체 콜드 브루</td>\n",
       "      <td>265</td>\n",
       "      <td>29</td>\n",
       "      <td>8</td>\n",
       "      <td>115</td>\n",
       "      <td>9</td>\n",
       "      <td>150</td>\n",
       "    </tr>\n",
       "    <tr>\n",
       "      <th>3</th>\n",
       "      <td>바닐라 크림 콜드 브루</td>\n",
       "      <td>125</td>\n",
       "      <td>11</td>\n",
       "      <td>3</td>\n",
       "      <td>58</td>\n",
       "      <td>6</td>\n",
       "      <td>150</td>\n",
       "    </tr>\n",
       "    <tr>\n",
       "      <th>4</th>\n",
       "      <td>제주 비자림 콜드 브루</td>\n",
       "      <td>340</td>\n",
       "      <td>44</td>\n",
       "      <td>10</td>\n",
       "      <td>115</td>\n",
       "      <td>8</td>\n",
       "      <td>105</td>\n",
       "    </tr>\n",
       "    <tr>\n",
       "      <th>...</th>\n",
       "      <td>...</td>\n",
       "      <td>...</td>\n",
       "      <td>...</td>\n",
       "      <td>...</td>\n",
       "      <td>...</td>\n",
       "      <td>...</td>\n",
       "      <td>...</td>\n",
       "    </tr>\n",
       "    <tr>\n",
       "      <th>124</th>\n",
       "      <td>퍼플베리 굿 190ML</td>\n",
       "      <td>100</td>\n",
       "      <td>24</td>\n",
       "      <td>0</td>\n",
       "      <td>15</td>\n",
       "      <td>0</td>\n",
       "      <td>0</td>\n",
       "    </tr>\n",
       "    <tr>\n",
       "      <th>125</th>\n",
       "      <td>한라봉주스 190ML</td>\n",
       "      <td>78</td>\n",
       "      <td>16</td>\n",
       "      <td>0.5</td>\n",
       "      <td>10</td>\n",
       "      <td>0</td>\n",
       "      <td>0</td>\n",
       "    </tr>\n",
       "    <tr>\n",
       "      <th>126</th>\n",
       "      <td>햇사과 주스 190ML</td>\n",
       "      <td>113</td>\n",
       "      <td>27</td>\n",
       "      <td>0.2</td>\n",
       "      <td>10</td>\n",
       "      <td>0</td>\n",
       "      <td>0</td>\n",
       "    </tr>\n",
       "    <tr>\n",
       "      <th>127</th>\n",
       "      <td>블루베리 요거트 190ML</td>\n",
       "      <td>155</td>\n",
       "      <td>18</td>\n",
       "      <td>5</td>\n",
       "      <td>70</td>\n",
       "      <td>3.6</td>\n",
       "      <td>0</td>\n",
       "    </tr>\n",
       "    <tr>\n",
       "      <th>128</th>\n",
       "      <td>치아씨드 요거트 190ML</td>\n",
       "      <td>145</td>\n",
       "      <td>14</td>\n",
       "      <td>6</td>\n",
       "      <td>70</td>\n",
       "      <td>3.9</td>\n",
       "      <td>0</td>\n",
       "    </tr>\n",
       "  </tbody>\n",
       "</table>\n",
       "<p>129 rows × 7 columns</p>\n",
       "</div>"
      ],
      "text/plain": [
       "                 메뉴 칼로리(Kcal) 당류(g) 단백질(g) 나트륨(mg) 포화지방(g) 카페인(mg)\n",
       "0       나이트로 바닐라 크림        75    10      1      20       2     245\n",
       "1        나이트로 콜드 브루         5     0      0       5       0     245\n",
       "2          돌체 콜드 브루       265    29      8     115       9     150\n",
       "3      바닐라 크림 콜드 브루       125    11      3      58       6     150\n",
       "4      제주 비자림 콜드 브루       340    44     10     115       8     105\n",
       "..              ...       ...   ...    ...     ...     ...     ...\n",
       "124    퍼플베리 굿 190ML       100    24      0      15       0       0\n",
       "125     한라봉주스 190ML        78    16    0.5      10       0       0\n",
       "126    햇사과 주스 190ML       113    27    0.2      10       0       0\n",
       "127  블루베리 요거트 190ML       155    18      5      70     3.6       0\n",
       "128  치아씨드 요거트 190ML       145    14      6      70     3.9       0\n",
       "\n",
       "[129 rows x 7 columns]"
      ]
     },
     "execution_count": 96,
     "metadata": {},
     "output_type": "execute_result"
    }
   ],
   "source": [
    "df = DataFrame({\"메뉴\":menu_list, \"칼로리(Kcal)\":cal_list, \"당류(g)\":sug_list, \n",
    "                \"단백질(g)\":prot_list, \"나트륨(mg)\":nat_list, \"포화지방(g)\":fat_list, \"카페인(mg)\":caf_list})\n",
    "df"
   ]
  },
  {
   "cell_type": "code",
   "execution_count": 97,
   "metadata": {},
   "outputs": [],
   "source": [
    "df.to_csv('스타벅스_영양_정보.csv', encoding = 'utf-8-sig', index = False)"
   ]
  },
  {
   "cell_type": "markdown",
   "metadata": {},
   "source": [
    "## 테이블 사용방법"
   ]
  },
  {
   "cell_type": "code",
   "execution_count": 105,
   "metadata": {},
   "outputs": [],
   "source": [
    "import pandas as pd"
   ]
  },
  {
   "cell_type": "code",
   "execution_count": 111,
   "metadata": {},
   "outputs": [],
   "source": [
    "driver = webdriver.Chrome()\n",
    "\n",
    "url = 'https://www.starbucks.co.kr/menu/drink_list.do'\n",
    "\n",
    "driver.get(url)\n",
    "\n",
    "driver.find_element_by_css_selector('.a2').click()\n",
    "\n",
    "html = bs(driver.page_source, 'html.parser')\n",
    "driver.quit()"
   ]
  },
  {
   "cell_type": "code",
   "execution_count": 113,
   "metadata": {},
   "outputs": [],
   "source": [
    "drink_info = html.select('table.coffeeInfo.mb60')\n",
    "\n",
    "# 데이터 프레임의 사용할 컬럼명\n",
    "cols = []\n",
    "\n",
    "for col in drink_info[0].select('th'):\n",
    "    cols.append(col.text)\n",
    "    \n",
    "# 데이터프레임에 저장할 행 리스트 생성\n",
    "rows = []\n",
    "\n",
    "# 모든 테이블에 접근하여 td요소의 데이터 접근\n",
    "for info in drink_info: \n",
    "    for td in info.select('td'):\n",
    "        rows.append(td.text)\n",
    "\n",
    "# cols 리스트를 이용하여 빈 데이터프레임 생성\n",
    "drink_df = pd.DataFrame(columns=cols)\n",
    "\n",
    "# 데이터프레임에 한 행씩 저장\n",
    "for i in range(0, len(rows), 7):\n",
    "    drink_df.loc[i] = rows[i:i+7]\n",
    "    \n",
    "drink_df.to_csv('스타벅스_영양_정보2.csv', encoding = 'utf-8-sig', index = False)"
   ]
  }
 ],
 "metadata": {
  "kernelspec": {
   "display_name": "Python 3",
   "language": "python",
   "name": "python3"
  },
  "language_info": {
   "codemirror_mode": {
    "name": "ipython",
    "version": 3
   },
   "file_extension": ".py",
   "mimetype": "text/x-python",
   "name": "python",
   "nbconvert_exporter": "python",
   "pygments_lexer": "ipython3",
   "version": "3.8.5"
  }
 },
 "nbformat": 4,
 "nbformat_minor": 4
}
