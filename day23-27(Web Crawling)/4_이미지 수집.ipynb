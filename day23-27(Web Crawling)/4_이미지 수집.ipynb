{
 "cells": [
  {
   "cell_type": "markdown",
   "metadata": {},
   "source": [
    "## 이미지 수집"
   ]
  },
  {
   "cell_type": "code",
   "execution_count": 1,
   "metadata": {},
   "outputs": [],
   "source": [
    "# urlretrueve: url로 표시된 자원(이미지,영상,음성, ...)을 로컬PC로 복사\n",
    "from urllib.request import urlretrieve"
   ]
  },
  {
   "cell_type": "code",
   "execution_count": 3,
   "metadata": {},
   "outputs": [
    {
     "data": {
      "text/plain": [
       "('images/apple.png', <http.client.HTTPMessage at 0x2a2e3bf3700>)"
      ]
     },
     "execution_count": 3,
     "metadata": {},
     "output_type": "execute_result"
    }
   ],
   "source": [
    "url = 'https://search.pstatic.net/common/?src=http%3A%2F%2Fblogfiles.naver.net%2FMjAyMDExMDJfNiAg%2FMDAxNjA0MjYzNTAxMzQ1.xTj2Y2qxilrh0bhFl4Hpq1oOsIEjMPFXQFuASA9AAiog.nI0GBCnWKY039PMKY8VHb301doMiVYytFaLpf6zZurMg.JPEG.ilbun0425%2F1604263499779.jpg&type=a340'\n",
    "\n",
    "urlretrieve(url, 'images/apple.png')"
   ]
  },
  {
   "cell_type": "markdown",
   "metadata": {},
   "source": [
    "## Bing 이미지 주소 수집"
   ]
  },
  {
   "cell_type": "code",
   "execution_count": 4,
   "metadata": {},
   "outputs": [],
   "source": [
    "import requests as req\n",
    "from bs4 import BeautifulSoup as bs\n",
    "from urllib.request import urlretrieve\n",
    "\n",
    "# 웹페이지 요청/응답받는 함수\n",
    "def getRequest(url):\n",
    "    header = {\n",
    "        'user-agent':'Mozilla/5.0 (Windows NT 10.0; Win64; x64) AppleWebKit/537.36 (KHTML, like Gecko) Chrome/87.0.4280.141 Safari/537.36'\n",
    "    }\n",
    "    return req.get(url, headers=header)\n",
    "\n",
    "# 응답받은 데이터를 파이썬 객체로 변환하는 함수\n",
    "def transform(url):\n",
    "    return bs(getRequest(url).text, 'html.parser')"
   ]
  },
  {
   "cell_type": "code",
   "execution_count": 10,
   "metadata": {},
   "outputs": [],
   "source": [
    "url = 'https://www.bing.com/images/search?q=%ec%82%ac%ea%b3%bc&form=HDRSC2&first=1&tsc=ImageBasicHover'\n",
    "\n",
    "html = transform(url)"
   ]
  },
  {
   "cell_type": "code",
   "execution_count": 36,
   "metadata": {},
   "outputs": [
    {
     "name": "stdout",
     "output_type": "stream",
     "text": [
      "https://tse3.mm.bing.net/th/id/OIP.nnNmXAjn0m1XIdk_E57ZiQAAAA?w=214&h=183&c=7&o=5&pid=1.7\n",
      "https://tse4.mm.bing.net/th/id/OIP.2nRrKiSe1IOykhzZH62b8QHaFj?w=244&h=183&c=7&o=5&pid=1.7\n",
      "https://tse4.mm.bing.net/th/id/OIP.U0Ue7YTxL1UN3flZ3T9EJgHaE7?w=275&h=183&c=7&o=5&pid=1.7\n",
      "https://tse4.mm.bing.net/th/id/OIP.jqqLVyrPUCuPyXQZh05wAQHaF0?w=235&h=183&c=7&o=5&pid=1.7\n",
      "https://tse1.mm.bing.net/th/id/OIP.T6Ji8W9dFQmgvopru_J88AHaFA?w=205&h=180&c=7&o=5&pid=1.7\n",
      "https://tse1.mm.bing.net/th/id/OIP.m9-ALxruGfso1MP1Hl3GPwC8FK?w=115&h=180&c=7&o=5&pid=1.7\n",
      "https://tse3.mm.bing.net/th/id/OIP.Pds9M0SgZR1GvR02AYxTHgAAAA?w=127&h=146&c=7&o=5&pid=1.7\n",
      "https://tse1.mm.bing.net/th/id/OIP.GTX5akVEjCg2MltZWg1CVwHaII?w=123&h=180&c=7&o=5&pid=1.7\n",
      "https://tse4.mm.bing.net/th/id/OIP.GBw1k3iE04ziBPDuk70tXAHaGC?w=168&h=180&c=7&o=5&pid=1.7\n",
      "https://tse3.mm.bing.net/th/id/OIP.5dy8q4_sR6-K6WXa4cwRcgHaE7?w=206&h=180&c=7&o=5&pid=1.7\n",
      "https://tse2.mm.bing.net/th/id/OIP.1jeM8WFfkrUz14YH4ulYIQHaE7?w=268&h=180&c=7&o=5&pid=1.7\n",
      "https://tse3.mm.bing.net/th/id/OIP.2rE0Bm1rYafhC68sb8DRpgAAAA?w=115&h=180&c=7&o=5&pid=1.7\n",
      "https://tse1.mm.bing.net/th/id/OIP.cQYmt87-WX5aVM0ag_UXxwHaEK?w=318&h=180&c=7&o=5&pid=1.7\n",
      "https://tse2.mm.bing.net/th/id/OIP.Ib8_eLBVq58y5DB2OR3BYAHaE8?w=267&h=180&c=7&o=5&pid=1.7\n",
      "https://tse4.mm.bing.net/th/id/OIP.9Ff2jCw9IZz0nuvP06uiTQHaHc?w=164&h=180&c=7&o=5&pid=1.7\n",
      "https://tse1.mm.bing.net/th/id/OIP.l5Z6eZEfAQDOKHoOQLFh8gHaE7?w=247&h=180&c=7&o=5&pid=1.7\n",
      "https://tse4.mm.bing.net/th/id/OIP.pY-Cn7kUqdBGhyRwqOqhLwHaEo?w=264&h=180&c=7&o=5&pid=1.7\n",
      "https://tse4.mm.bing.net/th/id/OIP.VO9kfFTtRy_oTs3g5OlaQQHaEK?w=293&h=180&c=7&o=5&pid=1.7\n",
      "https://tse3.mm.bing.net/th/id/OIP.raeDHm4-i4Ppj2E_OL10ZgHaE8?w=282&h=188&c=7&o=5&pid=1.7\n",
      "https://tse2.mm.bing.net/th/id/OIP.wCk5LnDh4IPvsqovj61znAHaE7?w=282&h=188&c=7&o=5&pid=1.7\n",
      "https://tse3.mm.bing.net/th/id/OIP.-ZreEcNwM2KIZuynifuDWAHaJC?w=154&h=188&c=7&o=5&pid=1.7\n"
     ]
    }
   ],
   "source": [
    "src_list = []\n",
    "\n",
    "for img in html.select('img.mimg') :\n",
    "    # 요소의 속성값 접근\n",
    "    if img.get('src') == None:\n",
    "        print(img.get('data-src'))\n",
    "        src_list.append(img.get('data-src'))\n",
    "    else :\n",
    "        if img.get('src')[0] == 'h' :\n",
    "            #print(img.get('src'))\n",
    "            src_list.append(img.get('src'))\n",
    "        else :\n",
    "        # if 'data:' in img.get('src');\n",
    "            continue\n",
    "    #print('-'*50)\n"
   ]
  },
  {
   "cell_type": "code",
   "execution_count": 39,
   "metadata": {},
   "outputs": [
    {
     "name": "stdout",
     "output_type": "stream",
     "text": [
      "25\n"
     ]
    }
   ],
   "source": [
    "print(len(src_list))"
   ]
  },
  {
   "cell_type": "code",
   "execution_count": 38,
   "metadata": {},
   "outputs": [],
   "source": [
    "# 이미지 주소를 활용하여 로컬PC에 'images 폴더로 저장'\n",
    "\n",
    "\n",
    "for i in range(len(src_list)) :\n",
    "    urlretrieve(src_list[i], 'images/{}_{}.png'.format('apple',i+1))"
   ]
  },
  {
   "cell_type": "markdown",
   "metadata": {},
   "source": [
    "## 확장자 추출"
   ]
  },
  {
   "cell_type": "code",
   "execution_count": 49,
   "metadata": {},
   "outputs": [
    {
     "data": {
      "text/plain": [
       "'jpg'"
      ]
     },
     "execution_count": 49,
     "metadata": {},
     "output_type": "execute_result"
    }
   ],
   "source": [
    "img_src = 'https://search.pstatic.net/common/?src=http%3A%2F%2Fblogfiles.naver.net%2FMjAyMTAxMTFfMjUg%2FMDAxNjEwMzY0MTk3NjA5.FT6ng6TZilc_5W9mIpmXwR6lA0EcmkkMX77rD0_1fGwg.9I9oF_HpOinSWUC9dp67jBYc8tCWs67C1eJctpH7pDog.JPEG.choionzoo%2FIMG_9565.jpg&type=a340'\n",
    "\n",
    "start = img_src.rfind('.')\n",
    "end = img_src.rfind('&')\n",
    "\n",
    "img_src[start+1:end]"
   ]
  },
  {
   "cell_type": "markdown",
   "metadata": {},
   "source": [
    "## 네이버 상영작&예정작 영화 포스터 수집\n",
    "- https://movie.naver.com/movie/running/current.nhn"
   ]
  },
  {
   "cell_type": "code",
   "execution_count": 50,
   "metadata": {},
   "outputs": [],
   "source": [
    "url = 'https://movie.naver.com/movie/running/current.nhn'\n",
    "\n",
    "html = transform(url)"
   ]
  },
  {
   "cell_type": "code",
   "execution_count": 55,
   "metadata": {},
   "outputs": [],
   "source": [
    "src_list = []\n",
    "\n",
    "for img in html.select('div.thumb img') :\n",
    "    src_list.append(img.get('src'))\n",
    "    "
   ]
  },
  {
   "cell_type": "code",
   "execution_count": 86,
   "metadata": {},
   "outputs": [],
   "source": [
    "tit_list = []\n",
    "\n",
    "for title in html.select('dt.tit a') :\n",
    "    tit_list.append(title.text.strip()) #.replace(':','_'))"
   ]
  },
  {
   "cell_type": "code",
   "execution_count": 87,
   "metadata": {},
   "outputs": [
    {
     "data": {
      "text/plain": [
       "['https://movie-phinf.pstatic.net/20210107_160/1609984702837oNdmw_JPEG/movie_image.jpg?type=m99_141_2',\n",
       " 'https://movie-phinf.pstatic.net/20210126_286/1611638195121DlNex_JPEG/movie_image.jpg?type=m99_141_2',\n",
       " 'https://movie-phinf.pstatic.net/20210113_148/1610519457046SpEgy_JPEG/movie_image.jpg?type=m99_141_2',\n",
       " 'https://movie-phinf.pstatic.net/20210114_78/1610588407942CoL2I_JPEG/movie_image.jpg?type=m99_141_2',\n",
       " 'https://movie-phinf.pstatic.net/20210111_257/1610331901590W2mnF_JPEG/movie_image.jpg?type=m99_141_2',\n",
       " 'https://movie-phinf.pstatic.net/20210112_208/16104428834658s1yS_JPEG/movie_image.jpg?type=m99_141_2',\n",
       " 'https://movie-phinf.pstatic.net/20210119_74/1611022473600mjTT8_JPEG/movie_image.jpg?type=m99_141_2',\n",
       " 'https://movie-phinf.pstatic.net/20201028_19/1603867994616GALu9_JPEG/movie_image.jpg?type=m99_141_2',\n",
       " 'https://movie-phinf.pstatic.net/20201230_87/1609308950593VgLko_JPEG/movie_image.jpg?type=m99_141_2',\n",
       " 'https://movie-phinf.pstatic.net/20201230_56/16092940882404loD5_JPEG/movie_image.jpg?type=m99_141_2',\n",
       " 'https://movie-phinf.pstatic.net/20201208_238/1607407325164lOuOQ_JPEG/movie_image.jpg?type=m99_141_2',\n",
       " 'https://movie-phinf.pstatic.net/20131115_243/1384498185621awKv1_JPEG/movie_image.jpg?type=m99_141_2',\n",
       " 'https://movie-phinf.pstatic.net/20201221_99/1608528396270FAOjl_JPEG/movie_image.jpg?type=m99_141_2',\n",
       " 'https://movie-phinf.pstatic.net/20201216_148/1608099443338BQaNC_JPEG/movie_image.jpg?type=m99_141_2',\n",
       " 'https://movie-phinf.pstatic.net/20210106_231/1609898979659CutEz_JPEG/movie_image.jpg?type=m99_141_2',\n",
       " 'https://movie-phinf.pstatic.net/20201216_107/1608099916058imgYs_JPEG/movie_image.jpg?type=m99_141_2',\n",
       " 'https://movie-phinf.pstatic.net/20210111_230/1610331684483vPAEL_JPEG/movie_image.jpg?type=m99_141_2',\n",
       " 'https://movie-phinf.pstatic.net/20210115_175/1610672501098KD5ke_JPEG/movie_image.jpg?type=m99_141_2',\n",
       " 'https://movie-phinf.pstatic.net/20210104_65/1609747462042ROQ5d_JPEG/movie_image.jpg?type=m99_141_2',\n",
       " 'https://movie-phinf.pstatic.net/20201223_115/1608705718079XOL5g_JPEG/movie_image.jpg?type=m99_141_2',\n",
       " 'https://movie-phinf.pstatic.net/20210106_266/1609894835831P3aLy_JPEG/movie_image.jpg?type=m99_141_2',\n",
       " 'https://movie-phinf.pstatic.net/20210112_84/1610414549103EvNE5_JPEG/movie_image.jpg?type=m99_141_2',\n",
       " 'https://movie-phinf.pstatic.net/20201229_146/1609226288425JgdsP_JPEG/movie_image.jpg?type=m99_141_2',\n",
       " 'https://movie-phinf.pstatic.net/20171222_70/1513920001726sikUX_JPEG/movie_image.jpg?type=m99_141_2',\n",
       " 'https://movie-phinf.pstatic.net/20210115_223/1610678127242oTOHp_JPEG/movie_image.jpg?type=m99_141_2',\n",
       " 'https://movie-phinf.pstatic.net/20210107_282/16100004884171DAHL_JPEG/movie_image.jpg?type=m99_141_2',\n",
       " 'https://movie-phinf.pstatic.net/20210104_262/1609726445748nxzg9_JPEG/movie_image.jpg?type=m99_141_2',\n",
       " 'https://movie-phinf.pstatic.net/20210125_242/16115429890056J44a_JPEG/movie_image.jpg?type=m99_141_2',\n",
       " 'https://movie-phinf.pstatic.net/20201125_80/1606270301949RHlq6_JPEG/movie_image.jpg?type=m99_141_2',\n",
       " 'https://movie-phinf.pstatic.net/20201215_139/1608005378936rhR8S_JPEG/movie_image.jpg?type=m99_141_2',\n",
       " 'https://movie-phinf.pstatic.net/20201221_93/1608529235609WlllI_JPEG/movie_image.jpg?type=m99_141_2',\n",
       " 'https://movie-phinf.pstatic.net/20201119_223/1605770759962Bq1oi_JPEG/movie_image.jpg?type=m99_141_2',\n",
       " 'https://movie-phinf.pstatic.net/20210111_110/1610329242891Yz5LB_JPEG/movie_image.jpg?type=m99_141_2',\n",
       " 'https://movie-phinf.pstatic.net/20201015_24/1602727813929ObxtV_JPEG/movie_image.jpg?type=m99_141_2',\n",
       " 'https://movie-phinf.pstatic.net/20201022_2/1603341280685vUa8i_JPEG/movie_image.jpg?type=m99_141_2',\n",
       " 'https://movie-phinf.pstatic.net/20201230_128/1609305001387CUHXK_JPEG/movie_image.jpg?type=m99_141_2',\n",
       " 'https://movie-phinf.pstatic.net/20201116_298/1605510504666cKAqL_JPEG/movie_image.jpg?type=m99_141_2',\n",
       " 'https://movie-phinf.pstatic.net/20201228_196/1609130132957Cuqgc_JPEG/movie_image.jpg?type=m99_141_2',\n",
       " 'https://movie-phinf.pstatic.net/20201231_300/1609394219143uP5AV_JPEG/movie_image.jpg?type=m99_141_2',\n",
       " 'https://movie-phinf.pstatic.net/20201229_116/1609228460317kraKD_JPEG/movie_image.jpg?type=m99_141_2',\n",
       " 'https://movie-phinf.pstatic.net/20201110_68/1604990725076118kf_JPEG/movie_image.jpg?type=m99_141_2',\n",
       " 'https://movie-phinf.pstatic.net/20210114_97/1610604333375Lkw9q_JPEG/movie_image.jpg?type=m99_141_2',\n",
       " 'https://movie-phinf.pstatic.net/20210106_250/1609893650644kiaiR_JPEG/movie_image.jpg?type=m99_141_2',\n",
       " 'https://movie-phinf.pstatic.net/20200515_153/1589521029136pyDNk_JPEG/movie_image.jpg?type=m99_141_2',\n",
       " 'https://movie-phinf.pstatic.net/20201222_53/16086273202565Ujxw_JPEG/movie_image.jpg?type=m99_141_2',\n",
       " 'https://movie-phinf.pstatic.net/20210114_85/1610605644339cVPBU_JPEG/movie_image.jpg?type=m99_141_2',\n",
       " 'https://movie-phinf.pstatic.net/20201117_174/1605589321323xFDj8_JPEG/movie_image.jpg?type=m99_141_2',\n",
       " 'https://movie-phinf.pstatic.net/20201123_34/1606100949624hqghN_JPEG/movie_image.jpg?type=m99_141_2',\n",
       " 'https://movie-phinf.pstatic.net/20161221_55/1482281902322WSKrJ_JPEG/movie_image.jpg?type=m99_141_2',\n",
       " 'https://movie-phinf.pstatic.net/20201116_276/1605491658399poUOC_JPEG/movie_image.jpg?type=m99_141_2',\n",
       " 'https://movie-phinf.pstatic.net/20160811_245/1470903443724G6AWy_JPEG/movie_image.jpg?type=m99_141_2',\n",
       " 'https://movie-phinf.pstatic.net/20191115_264/15737816336734R30z_JPEG/movie_image.jpg?type=m99_141_2',\n",
       " 'https://movie-phinf.pstatic.net/20201029_181/1603935094148CkR9T_JPEG/movie_image.jpg?type=m99_141_2',\n",
       " 'https://movie-phinf.pstatic.net/20201207_110/1607302384655Ks1q6_JPEG/movie_image.jpg?type=m99_141_2',\n",
       " 'https://movie-phinf.pstatic.net/20201203_42/1606961784754hFbwE_JPEG/movie_image.jpg?type=m99_141_2',\n",
       " 'https://movie-phinf.pstatic.net/20210113_198/1610522770004Smun6_JPEG/movie_image.jpg?type=m99_141_2',\n",
       " 'https://movie-phinf.pstatic.net/20201012_99/1602466024031DL3K9_JPEG/movie_image.jpg?type=m99_141_2',\n",
       " 'https://movie-phinf.pstatic.net/20191203_28/1575335511001RqQIO_JPEG/movie_image.jpg?type=m99_141_2',\n",
       " 'https://movie-phinf.pstatic.net/20200429_224/1588123945539TD8o5_JPEG/movie_image.jpg?type=m99_141_2',\n",
       " 'https://movie-phinf.pstatic.net/20201104_45/160445535053439akc_JPEG/movie_image.jpg?type=m99_141_2',\n",
       " 'https://movie-phinf.pstatic.net/20111223_71/1324646265254utIkm_JPEG/movie_image.jpg?type=m99_141_2',\n",
       " 'https://movie-phinf.pstatic.net/20201214_174/1607925335484iyzbe_JPEG/movie_image.jpg?type=m99_141_2',\n",
       " 'https://movie-phinf.pstatic.net/20201215_123/16080221410799vl7x_JPEG/movie_image.jpg?type=m99_141_2',\n",
       " 'https://movie-phinf.pstatic.net/20170927_210/1506482182997qLEa4_JPEG/movie_image.jpg?type=m99_141_2',\n",
       " 'https://movie-phinf.pstatic.net/20201127_266/1606453140911yIKIH_JPEG/movie_image.jpg?type=m99_141_2',\n",
       " 'https://movie-phinf.pstatic.net/20201106_164/1604629218336jHBEf_JPEG/movie_image.jpg?type=m99_141_2',\n",
       " 'https://movie-phinf.pstatic.net/20181026_40/1540518904460lgFIb_JPEG/movie_image.jpg?type=m99_141_2',\n",
       " 'https://movie-phinf.pstatic.net/20201216_180/1608106548353LSftG_JPEG/movie_image.jpg?type=m99_141_2',\n",
       " 'https://movie-phinf.pstatic.net/20180425_102/1524623509141xMu6L_JPEG/movie_image.jpg?type=m99_141_2',\n",
       " 'https://movie-phinf.pstatic.net/20201221_129/1608529637803VLHcG_JPEG/movie_image.jpg?type=m99_141_2',\n",
       " 'https://movie-phinf.pstatic.net/20191202_278/1575250003279Taafr_JPEG/movie_image.jpg?type=m99_141_2',\n",
       " 'https://movie-phinf.pstatic.net/20201008_45/1602139397734Nxj6a_JPEG/movie_image.jpg?type=m99_141_2',\n",
       " 'https://movie-phinf.pstatic.net/20180112_290/1515738172139QXcCD_JPEG/movie_image.jpg?type=m99_141_2',\n",
       " 'https://movie-phinf.pstatic.net/20160205_299/1454651273096sYmsK_JPEG/movie_image.jpg?type=m99_141_2',\n",
       " 'https://movie-phinf.pstatic.net/20201105_262/1604555368600IOHyJ_JPEG/movie_image.jpg?type=m99_141_2',\n",
       " 'https://movie-phinf.pstatic.net/20201229_62/1609223539254mWhk1_JPEG/movie_image.jpg?type=m99_141_2',\n",
       " 'https://movie-phinf.pstatic.net/20200721_100/1595307510654a6eNC_JPEG/movie_image.jpg?type=m99_141_2',\n",
       " 'https://movie-phinf.pstatic.net/20200917_133/1600306215089RKFsD_JPEG/movie_image.jpg?type=m99_141_2',\n",
       " 'https://movie-phinf.pstatic.net/20200903_212/1599125794323LkzQg_JPEG/movie_image.jpg?type=m99_141_2',\n",
       " 'https://movie-phinf.pstatic.net/20201021_273/16032618054109Yvje_JPEG/movie_image.jpg?type=m99_141_2',\n",
       " 'https://movie-phinf.pstatic.net/20201103_58/1604370513537sEbMD_JPEG/movie_image.jpg?type=m99_141_2',\n",
       " 'https://movie-phinf.pstatic.net/20191220_49/1576828214038i4ukE_JPEG/movie_image.jpg?type=m99_141_2',\n",
       " 'https://movie-phinf.pstatic.net/20171207_182/15126090898099vpnt_JPEG/movie_image.jpg?type=m99_141_2',\n",
       " 'https://movie-phinf.pstatic.net/20201125_272/16062806785152Pref_JPEG/movie_image.jpg?type=m99_141_2',\n",
       " 'https://movie-phinf.pstatic.net/20160518_259/1463563194647NjsSV_JPEG/movie_image.jpg?type=m99_141_2',\n",
       " 'https://movie-phinf.pstatic.net/20200903_217/15991253204998lRPK_JPEG/movie_image.jpg?type=m99_141_2',\n",
       " 'https://movie-phinf.pstatic.net/20200904_220/1599182949074NbmoB_JPEG/movie_image.jpg?type=m99_141_2',\n",
       " 'https://movie-phinf.pstatic.net/20200903_180/15991254732102Jvmh_JPEG/movie_image.jpg?type=m99_141_2',\n",
       " 'https://movie-phinf.pstatic.net/20200903_119/1599125582859amP50_JPEG/movie_image.jpg?type=m99_141_2',\n",
       " 'https://movie-phinf.pstatic.net/20201111_193/1605056611896fc6Ef_JPEG/movie_image.jpg?type=m99_141_2',\n",
       " 'https://movie-phinf.pstatic.net/20201023_21/1603421248315A8uvj_JPEG/movie_image.jpg?type=m99_141_2',\n",
       " 'https://movie-phinf.pstatic.net/20201111_31/1605057638792O5gv8_JPEG/movie_image.jpg?type=m99_141_2',\n",
       " 'https://movie-phinf.pstatic.net/20200625_232/15930638630153yYtQ_JPEG/movie_image.jpg?type=m99_141_2',\n",
       " 'https://movie-phinf.pstatic.net/20160217_97/1455692152812yoKeM_JPEG/movie_image.jpg?type=m99_141_2',\n",
       " 'https://movie-phinf.pstatic.net/20171213_87/1513130326193MUROw_JPEG/movie_image.jpg?type=m99_141_2',\n",
       " 'https://movie-phinf.pstatic.net/20180214_262/151859082636434TRz_JPEG/movie_image.jpg?type=m99_141_2',\n",
       " 'https://movie-phinf.pstatic.net/20201112_281/1605160677106alosf_JPEG/movie_image.jpg?type=m99_141_2',\n",
       " 'https://movie-phinf.pstatic.net/20180927_243/1538012056029ipVNB_JPEG/movie_image.jpg?type=m99_141_2',\n",
       " 'https://movie-phinf.pstatic.net/20201027_218/16037662298627RmRb_JPEG/movie_image.jpg?type=m99_141_2',\n",
       " 'https://movie-phinf.pstatic.net/20170419_128/1492579106081DlvO1_JPEG/movie_image.jpg?type=m99_141_2',\n",
       " 'https://movie-phinf.pstatic.net/20201028_26/1603847095093Wxf0J_JPEG/movie_image.jpg?type=m99_141_2',\n",
       " 'https://movie-phinf.pstatic.net/20200625_141/1593063740573Klmjh_JPEG/movie_image.jpg?type=m99_141_2',\n",
       " 'https://movie-phinf.pstatic.net/20200903_154/1599125693790D2U9r_JPEG/movie_image.jpg?type=m99_141_2',\n",
       " 'https://movie-phinf.pstatic.net/20170315_53/148955223217831bi6_JPEG/movie_image.jpg?type=m99_141_2',\n",
       " 'https://movie-phinf.pstatic.net/20190722_146/15637583080686ygVl_JPEG/movie_image.jpg?type=m99_141_2',\n",
       " 'https://movie-phinf.pstatic.net/20201026_228/1603688295184ISYNW_JPEG/movie_image.jpg?type=m99_141_2',\n",
       " 'https://movie-phinf.pstatic.net/20201104_210/1604453889242FqQxY_JPEG/movie_image.jpg?type=m99_141_2',\n",
       " 'https://movie-phinf.pstatic.net/20131031_79/13831890945908lJAK_JPEG/movie_image.jpg?type=m99_141_2',\n",
       " 'https://movie-phinf.pstatic.net/20201014_280/16026390107613Rrc8_JPEG/movie_image.jpg?type=m99_141_2',\n",
       " 'https://movie-phinf.pstatic.net/20200625_188/1593063628854tOWl9_JPEG/movie_image.jpg?type=m99_141_2',\n",
       " 'https://movie-phinf.pstatic.net/20201116_95/16055181004080PubD_JPEG/movie_image.jpg?type=m99_141_2',\n",
       " 'https://movie-phinf.pstatic.net/20201015_158/1602741580269DnI6K_JPEG/movie_image.jpg?type=m99_141_2',\n",
       " 'https://movie-phinf.pstatic.net/20201230_158/1609314419658pGaHJ_JPEG/movie_image.jpg?type=m99_141_2',\n",
       " 'https://movie-phinf.pstatic.net/20200814_33/1597368744647OfBOS_JPEG/movie_image.jpg?type=m99_141_2',\n",
       " 'https://movie-phinf.pstatic.net/20201112_287/1605159975165l8iIw_JPEG/movie_image.jpg?type=m99_141_2',\n",
       " 'https://movie-phinf.pstatic.net/20200228_90/1582854747220WO1M4_JPEG/movie_image.jpg?type=m99_141_2',\n",
       " 'https://movie-phinf.pstatic.net/20201116_139/16055146252563zQB3_JPEG/movie_image.jpg?type=m99_141_2',\n",
       " 'https://movie-phinf.pstatic.net/20200227_297/1582779281613g2nEW_JPEG/movie_image.jpg?type=m99_141_2',\n",
       " 'https://movie-phinf.pstatic.net/20170626_38/1498444164124Ec4TH_JPEG/movie_image.jpg?type=m99_141_2',\n",
       " 'https://movie-phinf.pstatic.net/20191220_107/1576822068106AEJns_JPEG/movie_image.jpg?type=m99_141_2',\n",
       " 'https://movie-phinf.pstatic.net/20201208_294/1607397422875RWQYz_JPEG/movie_image.jpg?type=m99_141_2',\n",
       " 'https://movie-phinf.pstatic.net/20200908_147/1599542895381fBykg_JPEG/movie_image.jpg?type=m99_141_2',\n",
       " 'https://movie-phinf.pstatic.net/20181116_119/1542355085445eqNwH_JPEG/movie_image.jpg?type=m99_141_2',\n",
       " 'https://movie-phinf.pstatic.net/20201215_4/1608020588176gqfUv_JPEG/movie_image.jpg?type=m99_141_2',\n",
       " 'https://movie-phinf.pstatic.net/20200625_180/1593063960985wHJDK_JPEG/movie_image.jpg?type=m99_141_2',\n",
       " 'https://movie-phinf.pstatic.net/20200515_186/1589518000010dEfG3_JPEG/movie_image.jpg?type=m99_141_2',\n",
       " 'https://movie-phinf.pstatic.net/20200228_219/15828549367613qLXD_JPEG/movie_image.jpg?type=m99_141_2',\n",
       " 'https://movie-phinf.pstatic.net/20161103_256/1478160313724rHuDS_JPEG/movie_image.jpg?type=m99_141_2',\n",
       " 'https://movie-phinf.pstatic.net/20111223_201/1324616817944I4l5R_JPEG/movie_image.jpg?type=m99_141_2']"
      ]
     },
     "execution_count": 87,
     "metadata": {},
     "output_type": "execute_result"
    }
   ],
   "source": [
    "src_list"
   ]
  },
  {
   "cell_type": "code",
   "execution_count": 83,
   "metadata": {},
   "outputs": [
    {
     "data": {
      "text/plain": [
       "129"
      ]
     },
     "execution_count": 83,
     "metadata": {},
     "output_type": "execute_result"
    }
   ],
   "source": [
    "len(tit_list)"
   ]
  },
  {
   "cell_type": "code",
   "execution_count": 88,
   "metadata": {},
   "outputs": [
    {
     "data": {
      "text/plain": [
       "['소울',\n",
       " '극장판 귀멸의 칼날: 무한열차편',\n",
       " '명탐정 코난: 진홍의 수학여행',\n",
       " '세자매',\n",
       " '캐롤',\n",
       " '북스마트',\n",
       " '토이 솔져스: 가짜사나이2 더 컴플리트',\n",
       " '화양연화',\n",
       " '나는 나를 해고하지 않는다',\n",
       " '관계의 가나다에 있는 우리는',\n",
       " '원더 우먼 1984',\n",
       " '어바웃 타임',\n",
       " '커넥트',\n",
       " '블라인드',\n",
       " '#아이엠히어',\n",
       " '요요현상',\n",
       " '사일런싱',\n",
       " '키드',\n",
       " '아이 엠 우먼',\n",
       " '크루아상',\n",
       " '늑대와 춤을',\n",
       " '골든맨',\n",
       " '라라랜드',\n",
       " '너의 이름은.',\n",
       " '파힘',\n",
       " '오늘, 우리 2',\n",
       " '마이 미씽 발렌타인',\n",
       " '게임의 법칙: 인간사냥',\n",
       " '빅풋 주니어2: 패밀리가 떴다',\n",
       " '사라센의 칼',\n",
       " '빛의 아버지: 파이널 판타지 XIV',\n",
       " '내언니전지현과 나',\n",
       " '모추어리 컬렉션',\n",
       " '극장판 바이올렛 에버가든',\n",
       " '페이트 스테이 나이트 헤븐즈필 III.스프링 송',\n",
       " '신과함께-인과 연',\n",
       " '겨울밤에',\n",
       " '걸',\n",
       " '제이티 르로이',\n",
       " '족벌 두 신문 이야기',\n",
       " '극장판 기븐',\n",
       " '큰엄마의 미친봉고',\n",
       " '더 시크릿',\n",
       " '날씨의 아이',\n",
       " '가을의 마티네',\n",
       " '디노소어 어드벤쳐',\n",
       " '피아니스트의 마지막 인터뷰',\n",
       " '언플랜드',\n",
       " '해리가 샐리를 만났을 때',\n",
       " '조제',\n",
       " '내셔널 갤러리',\n",
       " '초속5센티미터',\n",
       " '안티고네',\n",
       " '장 미쉘 바스키아: 더 레이디언트 차일드',\n",
       " '운디네',\n",
       " '438일',\n",
       " '극장판 바다 탐험대 옥토넛 : 대산호초 보호작전',\n",
       " '러브레터',\n",
       " '이별의 아침에 약속의 꽃을 장식하자',\n",
       " '도굴',\n",
       " '달맞이꽃',\n",
       " '미스터 존스',\n",
       " '썸머 85',\n",
       " '너의 췌장을 먹고 싶어',\n",
       " '귀여운 남자',\n",
       " '그리고 우린 춤을 추었다',\n",
       " '너의 췌장을 먹고 싶어',\n",
       " '굿바이',\n",
       " '루비 스팍스',\n",
       " '나의 작은 동무',\n",
       " '러브 액츄얼리',\n",
       " '걸후드',\n",
       " '새벽을 알리는 루의 노래',\n",
       " '동주',\n",
       " '런',\n",
       " '완벽한 가족',\n",
       " '남매의 여름밤',\n",
       " '부활: 그 증거',\n",
       " '사랑에 관한 짧은 필름',\n",
       " '삼진그룹 영어토익반',\n",
       " '찬실이는 복도 많지',\n",
       " '타오르는 여인의 초상',\n",
       " '고스트 스토리',\n",
       " '로맨틱 코미디',\n",
       " '백엔의 사랑',\n",
       " '베로니카의 이중 생활',\n",
       " '살인에 관한 짧은 필름',\n",
       " '세 가지 색 : 블루',\n",
       " '세 가지 색 : 화이트',\n",
       " '이웃사촌',\n",
       " '가나의 혼인잔치: 언약',\n",
       " '고양이 집사',\n",
       " '귀주 이야기',\n",
       " '너는 착한 아이',\n",
       " '두 개의 사랑',\n",
       " '라 트라비아타',\n",
       " '럭키 몬스터',\n",
       " '리즈와 파랑새',\n",
       " '마리 퀴리',\n",
       " '목소리의 형태',\n",
       " '몽마르트 파파',\n",
       " '붉은 수수밭',\n",
       " '세 가지 색 : 레드',\n",
       " '아비정전',\n",
       " '안녕, 티라노: 영원히, 함께',\n",
       " '애비규환',\n",
       " '에듀케이션',\n",
       " '영 앤 뷰티풀',\n",
       " '위플래쉬',\n",
       " '인생',\n",
       " '잔칫날',\n",
       " '증발',\n",
       " '천사는 바이러스',\n",
       " '테스와 보낸 여름',\n",
       " '파티마의 기적',\n",
       " '퍼니 게임',\n",
       " '퍼스트 러브',\n",
       " '페임',\n",
       " '프란츠',\n",
       " '피아니스트의 전설',\n",
       " '하트',\n",
       " '해수의 아이',\n",
       " '해피 투게더',\n",
       " '호프',\n",
       " '홍등',\n",
       " '환상의 마로나',\n",
       " '히든',\n",
       " '미스 사이공: 25주년 특별 공연',\n",
       " '하얀 리본']"
      ]
     },
     "execution_count": 88,
     "metadata": {},
     "output_type": "execute_result"
    }
   ],
   "source": [
    "tit_list"
   ]
  },
  {
   "cell_type": "code",
   "execution_count": 103,
   "metadata": {},
   "outputs": [
    {
     "data": {
      "text/plain": [
       "'진홍의 수학여행'"
      ]
     },
     "execution_count": 103,
     "metadata": {},
     "output_type": "execute_result"
    }
   ],
   "source": [
    "tit_list[2][8:]"
   ]
  },
  {
   "cell_type": "code",
   "execution_count": 101,
   "metadata": {},
   "outputs": [
    {
     "data": {
      "text/plain": [
       "6"
      ]
     },
     "execution_count": 101,
     "metadata": {},
     "output_type": "execute_result"
    }
   ],
   "source": [
    "c_start = tit_list[2].find(':')\n",
    "c_start"
   ]
  },
  {
   "cell_type": "code",
   "execution_count": 109,
   "metadata": {},
   "outputs": [],
   "source": [
    "for i in range(len(src_list)) :\n",
    "    start = src_list[i].rfind('.')\n",
    "    end = src_list[i].rfind('?')\n",
    "    if tit_list[i].find(':') != -1 :\n",
    "        c_start = tit_list[i].find(':')\n",
    "        urlretrieve(src_list[i], 'images/{} {}.{}'.format(tit_list[i][0:c_start],tit_list[i][c_start+2:],src_list[i][start+1:end]))\n",
    "    else :\n",
    "        urlretrieve(src_list[i], 'images/{}.{}'.format(tit_list[i],src_list[i][start+1:end]))"
   ]
  }
 ],
 "metadata": {
  "kernelspec": {
   "display_name": "Python 3",
   "language": "python",
   "name": "python3"
  },
  "language_info": {
   "codemirror_mode": {
    "name": "ipython",
    "version": 3
   },
   "file_extension": ".py",
   "mimetype": "text/x-python",
   "name": "python",
   "nbconvert_exporter": "python",
   "pygments_lexer": "ipython3",
   "version": "3.8.5"
  }
 },
 "nbformat": 4,
 "nbformat_minor": 4
}
