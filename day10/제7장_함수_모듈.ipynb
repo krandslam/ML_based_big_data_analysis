{
 "cells": [
  {
   "cell_type": "code",
   "execution_count": 1,
   "metadata": {},
   "outputs": [
    {
     "name": "stdout",
     "output_type": "stream",
     "text": [
      "30\n"
     ]
    }
   ],
   "source": [
    "# 함수\n",
    "\n",
    "def add(num1, num2) :\n",
    "    sum1 = num1 + num2\n",
    "    \n",
    "    return sum1\n",
    "\n",
    "rslt = add(10,20)\n",
    "print(rslt)"
   ]
  },
  {
   "cell_type": "code",
   "execution_count": 2,
   "metadata": {},
   "outputs": [
    {
     "name": "stdout",
     "output_type": "stream",
     "text": [
      "-10\n"
     ]
    }
   ],
   "source": [
    "def sub(num1, num2) :\n",
    "    val = num1 - num2\n",
    "    \n",
    "    return val\n",
    "\n",
    "rslt = sub(10,20)\n",
    "print(rslt)"
   ]
  },
  {
   "cell_type": "code",
   "execution_count": 3,
   "metadata": {},
   "outputs": [
    {
     "name": "stdout",
     "output_type": "stream",
     "text": [
      "[ 홍길동 ] 님 안녕하세요\n"
     ]
    }
   ],
   "source": [
    "def printA(str1) :\n",
    "    print(\"[ {} ] 님 안녕하세요\".format(str1))\n",
    "    \n",
    "printA(\"홍길동\")"
   ]
  },
  {
   "cell_type": "code",
   "execution_count": 4,
   "metadata": {},
   "outputs": [
    {
     "name": "stdout",
     "output_type": "stream",
     "text": [
      "ㅋ\n"
     ]
    }
   ],
   "source": [
    "import random\n",
    "n = random.randint(1,3)\n",
    "\n",
    "def printB(n) :\n",
    "    if n == 1 :\n",
    "        print(\"하위\")\n",
    "    elif n == 2 :\n",
    "        print(\"안녕\")\n",
    "    else:\n",
    "        print(\"ㅋ\")\n",
    "    \n",
    "printB(n)"
   ]
  },
  {
   "cell_type": "code",
   "execution_count": null,
   "metadata": {},
   "outputs": [],
   "source": [
    "# 위에 함수들 .py로 저장 (모듈, 라이브러리 느낌)"
   ]
  },
  {
   "cell_type": "code",
   "execution_count": 5,
   "metadata": {},
   "outputs": [
    {
     "name": "stdout",
     "output_type": "stream",
     "text": [
      "30\n",
      "-10\n",
      "[ 홍길동 ] 님 안녕하세요\n",
      "하위\n"
     ]
    }
   ],
   "source": [
    "import module1"
   ]
  },
  {
   "cell_type": "code",
   "execution_count": 6,
   "metadata": {},
   "outputs": [],
   "source": [
    "import module1"
   ]
  },
  {
   "cell_type": "code",
   "execution_count": 7,
   "metadata": {},
   "outputs": [
    {
     "name": "stdout",
     "output_type": "stream",
     "text": [
      "22\n",
      "0\n"
     ]
    }
   ],
   "source": [
    "print(module1.add(11,11))\n",
    "print(module1.sub(11,11))"
   ]
  },
  {
   "cell_type": "code",
   "execution_count": null,
   "metadata": {},
   "outputs": [],
   "source": []
  },
  {
   "cell_type": "code",
   "execution_count": null,
   "metadata": {},
   "outputs": [],
   "source": []
  },
  {
   "cell_type": "code",
   "execution_count": null,
   "metadata": {},
   "outputs": [],
   "source": []
  }
 ],
 "metadata": {
  "kernelspec": {
   "display_name": "Python 3",
   "language": "python",
   "name": "python3"
  },
  "language_info": {
   "codemirror_mode": {
    "name": "ipython",
    "version": 3
   },
   "file_extension": ".py",
   "mimetype": "text/x-python",
   "name": "python",
   "nbconvert_exporter": "python",
   "pygments_lexer": "ipython3",
   "version": "3.8.5"
  }
 },
 "nbformat": 4,
 "nbformat_minor": 4
}
