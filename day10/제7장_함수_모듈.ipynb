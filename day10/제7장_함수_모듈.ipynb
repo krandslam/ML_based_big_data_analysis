{
 "cells": [
  {
   "cell_type": "code",
   "execution_count": 1,
   "metadata": {},
   "outputs": [
    {
     "name": "stdout",
     "output_type": "stream",
     "text": [
      "30\n"
     ]
    }
   ],
   "source": [
    "# 함수\n",
    "\n",
    "def add(num1, num2) :\n",
    "    sum1 = num1 + num2\n",
    "    \n",
    "    return sum1\n",
    "\n",
    "rslt = add(10,20)\n",
    "print(rslt)"
   ]
  },
  {
   "cell_type": "code",
   "execution_count": 2,
   "metadata": {},
   "outputs": [
    {
     "name": "stdout",
     "output_type": "stream",
     "text": [
      "-10\n"
     ]
    }
   ],
   "source": [
    "def sub(num1, num2) :\n",
    "    val = num1 - num2\n",
    "    \n",
    "    return val\n",
    "\n",
    "rslt = sub(10,20)\n",
    "print(rslt)"
   ]
  },
  {
   "cell_type": "code",
   "execution_count": 3,
   "metadata": {},
   "outputs": [
    {
     "name": "stdout",
     "output_type": "stream",
     "text": [
      "[ 홍길동 ] 님 안녕하세요\n"
     ]
    }
   ],
   "source": [
    "def printA(str1) :\n",
    "    print(\"[ {} ] 님 안녕하세요\".format(str1))\n",
    "    \n",
    "printA(\"홍길동\")"
   ]
  },
  {
   "cell_type": "code",
   "execution_count": 4,
   "metadata": {},
   "outputs": [
    {
     "name": "stdout",
     "output_type": "stream",
     "text": [
      "ㅋ\n"
     ]
    }
   ],
   "source": [
    "import random\n",
    "n = random.randint(1,3)\n",
    "\n",
    "def printB(n) :\n",
    "    if n == 1 :\n",
    "        print(\"하위\")\n",
    "    elif n == 2 :\n",
    "        print(\"안녕\")\n",
    "    else:\n",
    "        print(\"ㅋ\")\n",
    "    \n",
    "printB(n)"
   ]
  },
  {
   "cell_type": "code",
   "execution_count": 4,
   "metadata": {},
   "outputs": [
    {
     "name": "stdout",
     "output_type": "stream",
     "text": [
      "114\n"
     ]
    }
   ],
   "source": [
    "# 파라미터 개수를 알 수 없는 경우\n",
    "# => 모든 파라미터 처리\n",
    "# *매개변수명 : 가변 매개변수 => 튜플로 인자값들 넘어감\n",
    "def add2(*num) :\n",
    "    hap = 0\n",
    "    for x in num :\n",
    "        hap += x\n",
    "        \n",
    "    return hap\n",
    "    \n",
    "print(add2(29,30,22,11,22))\n",
    "    "
   ]
  },
  {
   "cell_type": "code",
   "execution_count": 5,
   "metadata": {},
   "outputs": [
    {
     "name": "stdout",
     "output_type": "stream",
     "text": [
      "11\n"
     ]
    }
   ],
   "source": [
    "def min2(*num) :\n",
    "    cnt = 1\n",
    "    for x in num :\n",
    "        if cnt == 1 :\n",
    "            min_val = x\n",
    "            cnt = 0\n",
    "        else :\n",
    "            if min_val > x :\n",
    "                min_val = x\n",
    "        \n",
    "    return min_val\n",
    "    \n",
    "print(min2(29,30,22,11,22))"
   ]
  },
  {
   "cell_type": "code",
   "execution_count": 16,
   "metadata": {},
   "outputs": [
    {
     "name": "stdout",
     "output_type": "stream",
     "text": [
      "30 -10\n"
     ]
    }
   ],
   "source": [
    "# 리턴값이 여러개인 함수\n",
    "def sum_sub(num1, num2) :\n",
    "    hap = num1 + num2\n",
    "    sub = num1 - num2\n",
    "    \n",
    "    return hap, sub\n",
    "\n",
    "val1, val2 = sum_sub(10,20)\n",
    "\n",
    "print(val1, val2)"
   ]
  },
  {
   "cell_type": "code",
   "execution_count": 11,
   "metadata": {},
   "outputs": [
    {
     "name": "stdout",
     "output_type": "stream",
     "text": [
      "(30, 11)\n"
     ]
    }
   ],
   "source": [
    "def max_min(*num) :\n",
    "    min_val = num[0]\n",
    "    max_val = num[0]\n",
    "    \n",
    "    for x in num :\n",
    "        if x > max_val :\n",
    "            max_val = x\n",
    "        if x < min_val :\n",
    "            min_val = x\n",
    "        \n",
    "    return max_val, min_val\n",
    "    \n",
    "print(max_min(29,30,22,11,22))"
   ]
  },
  {
   "cell_type": "code",
   "execution_count": 15,
   "metadata": {},
   "outputs": [
    {
     "name": "stdout",
     "output_type": "stream",
     "text": [
      "name : 홍길동\n"
     ]
    }
   ],
   "source": [
    "# **가변매개변수 => 매개변수로 딕셔너리 넘길때 사용\n",
    "def print_dic(**arg):\n",
    "    \n",
    "    for key, value in arg.items():\n",
    "        print(key,\":\",value)\n",
    "    \n",
    "print_dic(name=\"홍길동\")"
   ]
  },
  {
   "cell_type": "code",
   "execution_count": null,
   "metadata": {},
   "outputs": [],
   "source": [
    "# 위에 함수들 .py로 저장 (모듈, 라이브러리 느낌)"
   ]
  },
  {
   "cell_type": "code",
   "execution_count": 5,
   "metadata": {},
   "outputs": [
    {
     "name": "stdout",
     "output_type": "stream",
     "text": [
      "30\n",
      "-10\n",
      "[ 홍길동 ] 님 안녕하세요\n",
      "하위\n"
     ]
    }
   ],
   "source": [
    "import module1"
   ]
  },
  {
   "cell_type": "code",
   "execution_count": 6,
   "metadata": {},
   "outputs": [],
   "source": [
    "import module1"
   ]
  },
  {
   "cell_type": "code",
   "execution_count": 7,
   "metadata": {},
   "outputs": [
    {
     "name": "stdout",
     "output_type": "stream",
     "text": [
      "22\n",
      "0\n"
     ]
    }
   ],
   "source": [
    "print(module1.add(11,11))\n",
    "print(module1.sub(11,11))"
   ]
  },
  {
   "cell_type": "code",
   "execution_count": 1,
   "metadata": {},
   "outputs": [],
   "source": [
    "import test_module"
   ]
  },
  {
   "cell_type": "code",
   "execution_count": 19,
   "metadata": {},
   "outputs": [],
   "source": [
    "# 별칭 설정\n",
    "import test_module as t"
   ]
  },
  {
   "cell_type": "code",
   "execution_count": 21,
   "metadata": {},
   "outputs": [],
   "source": [
    "# 모듈내 함수를 직접 로딩 : from 모듈명 import 함수명\n",
    "from test_module import add2, max_min"
   ]
  },
  {
   "cell_type": "code",
   "execution_count": 22,
   "metadata": {},
   "outputs": [
    {
     "name": "stdout",
     "output_type": "stream",
     "text": [
      "68\n",
      "(54, 2)\n"
     ]
    }
   ],
   "source": [
    "print(add2(2,3,4,54,5))\n",
    "print(max_min(2,3,4,54,5))"
   ]
  },
  {
   "cell_type": "code",
   "execution_count": 23,
   "metadata": {},
   "outputs": [
    {
     "data": {
      "text/plain": [
       "(30, -10)"
      ]
     },
     "execution_count": 23,
     "metadata": {},
     "output_type": "execute_result"
    }
   ],
   "source": [
    "t.sum_sub(10,20)"
   ]
  },
  {
   "cell_type": "code",
   "execution_count": 24,
   "metadata": {},
   "outputs": [
    {
     "name": "stdout",
     "output_type": "stream",
     "text": [
      "name : 홍길동\n"
     ]
    }
   ],
   "source": [
    "test_module.print_dic(name=\"홍길동\")"
   ]
  },
  {
   "cell_type": "code",
   "execution_count": null,
   "metadata": {},
   "outputs": [],
   "source": [
    "# parameter 궁금하면 docstring 보는데 보려면 인자쪽에서 shift+tab\n",
    "test_module.sum_sub()"
   ]
  }
 ],
 "metadata": {
  "kernelspec": {
   "display_name": "Python 3",
   "language": "python",
   "name": "python3"
  },
  "language_info": {
   "codemirror_mode": {
    "name": "ipython",
    "version": 3
   },
   "file_extension": ".py",
   "mimetype": "text/x-python",
   "name": "python",
   "nbconvert_exporter": "python",
   "pygments_lexer": "ipython3",
   "version": "3.8.5"
  }
 },
 "nbformat": 4,
 "nbformat_minor": 4
}
