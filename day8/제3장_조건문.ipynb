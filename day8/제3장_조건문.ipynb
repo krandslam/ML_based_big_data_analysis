{
 "cells": [
  {
   "cell_type": "code",
   "execution_count": 2,
   "metadata": {},
   "outputs": [
    {
     "name": "stdout",
     "output_type": "stream",
     "text": [
      "숫자: 20\n",
      "짝수입니다\n"
     ]
    }
   ],
   "source": [
    "# 숫자를 입력받아서 짝수이면 \"짝수입니다\" 출력\n",
    "\n",
    "num = int(input(\"숫자: \"))\n",
    "if num % 2 == 0:\n",
    "    print(\"짝수입니다\")"
   ]
  },
  {
   "cell_type": "code",
   "execution_count": 5,
   "metadata": {},
   "outputs": [
    {
     "name": "stdout",
     "output_type": "stream",
     "text": [
      "숫자를 입력하세요: 21\n",
      "홀수입니다\n"
     ]
    }
   ],
   "source": [
    "num = int(input(\"숫자를 입력하세요: \"))\n",
    "\n",
    "\n",
    "if num % 2 == 0:\n",
    "    print(\"짝수입니다\")\n",
    "else:\n",
    "    print(\"홀수입니다\")"
   ]
  },
  {
   "cell_type": "code",
   "execution_count": 9,
   "metadata": {},
   "outputs": [
    {
     "name": "stdout",
     "output_type": "stream",
     "text": [
      "숫자를 입력하세요: 30\n",
      "3과 5의 배수입니다\n"
     ]
    }
   ],
   "source": [
    "num = int(input(\"숫자를 입력하세요: \"))\n",
    "\n",
    "if num % 3 == 0 and num % 5 == 0:\n",
    "    print(\"3과 5의 배수입니다\")\n",
    "else:\n",
    "    print(\"3과 5의 배수가 아닙니다\")"
   ]
  },
  {
   "cell_type": "code",
   "execution_count": 12,
   "metadata": {},
   "outputs": [
    {
     "name": "stdout",
     "output_type": "stream",
     "text": [
      "버스를 탄다\n"
     ]
    }
   ],
   "source": [
    "money = 3000\n",
    "\n",
    "if money >= 10000:\n",
    "    print(\"택시를 탄다\")\n",
    "elif money >= 3000:\n",
    "    print(\"버스를 탄다\")\n",
    "else:\n",
    "    print(\"걸어간다\")"
   ]
  },
  {
   "cell_type": "code",
   "execution_count": 20,
   "metadata": {},
   "outputs": [
    {
     "name": "stdout",
     "output_type": "stream",
     "text": [
      "점수를 입력하세요: 90\n",
      "A\n"
     ]
    }
   ],
   "source": [
    "score = int(input(\"점수를 입력하세요: \"))\n",
    "\n",
    "if score >= 90 and score <= 100:\n",
    "    print(\"A\")\n",
    "elif score >= 80:\n",
    "    print(\"B\")\n",
    "elif score >= 70:\n",
    "    print(\"C\")\n",
    "elif score >= 60:\n",
    "    print(\"D\")\n",
    "else:\n",
    "    print(\"F\")"
   ]
  },
  {
   "cell_type": "code",
   "execution_count": 10,
   "metadata": {},
   "outputs": [
    {
     "name": "stdout",
     "output_type": "stream",
     "text": [
      "금액을 입력하세요 >> 900\n",
      "커피를 고르세요.\n",
      "[1]에스프레소(600원) [2]아메리카노(1000원) [3]카페라떼(1300원) >> 2\n",
      "돈이 부족해요..T^T\n"
     ]
    }
   ],
   "source": [
    "price = int(input(\"금액을 입력하세요 >> \"))\n",
    "print(\"커피를 고르세요.\")\n",
    "choice = int(input(\"[1]에스프레소(600원) [2]아메리카노(1000원) [3]카페라떼(1300원) >> \"))\n",
    "if choice == 1 and price >= 600:\n",
    "    print(\"거스름돈:\",price-600)\n",
    "elif choice == 2 and price >= 1000:\n",
    "    print(\"거스름돈:\",price-1000)\n",
    "elif choice == 3 and price >= 1300 :\n",
    "    print(\"거스름돈: \",price-1300)\n",
    "else :\n",
    "    print(\"돈이 부족해요..T^T\")"
   ]
  },
  {
   "cell_type": "code",
   "execution_count": 13,
   "metadata": {},
   "outputs": [
    {
     "name": "stdout",
     "output_type": "stream",
     "text": [
      "금액을 입력하세요 >> 2900\n",
      "커피를 고르세요.\n",
      "[1]에스프레소(600원) [2]아메리카노(1000원) [3]카페라떼(1300원) >> 2\n",
      "거스름돈:  1900\n",
      "천원:  1 장\n",
      "오백원 1 개\n",
      "백원 4 개\n"
     ]
    }
   ],
   "source": [
    "price = int(input(\"금액을 입력하세요 >> \"))\n",
    "print(\"커피를 고르세요.\")\n",
    "choice = int(input(\"[1]에스프레소(600원) [2]아메리카노(1000원) [3]카페라떼(1300원) >> \"))\n",
    "if choice == 1:\n",
    "    charge = price - 600\n",
    "elif choice == 2:\n",
    "    charge = price - 1000\n",
    "else:\n",
    "    charge = price - 1300\n",
    "    \n",
    "if charge < 0:\n",
    "    print(\"돈이 부족해요..T^T\")\n",
    "else:\n",
    "    print(\"거스름돈: \",charge)\n",
    "    print(\"천원: \",charge//1000,\"장\")\n",
    "    print(\"오백원: \",(charge%1000)//500,\"개\")\n",
    "    print(\"백원: \",(charge%500)//100,\"개\")"
   ]
  }
 ],
 "metadata": {
  "kernelspec": {
   "display_name": "Python 3",
   "language": "python",
   "name": "python3"
  },
  "language_info": {
   "codemirror_mode": {
    "name": "ipython",
    "version": 3
   },
   "file_extension": ".py",
   "mimetype": "text/x-python",
   "name": "python",
   "nbconvert_exporter": "python",
   "pygments_lexer": "ipython3",
   "version": "3.8.5"
  }
 },
 "nbformat": 4,
 "nbformat_minor": 4
}
